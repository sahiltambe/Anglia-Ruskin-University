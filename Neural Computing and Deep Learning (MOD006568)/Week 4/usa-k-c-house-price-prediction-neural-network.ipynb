{
 "cells": [
  {
   "cell_type": "markdown",
   "id": "c0c0f6da",
   "metadata": {
    "papermill": {
     "duration": 0.046437,
     "end_time": "2021-10-04T07:45:00.007018",
     "exception": false,
     "start_time": "2021-10-04T07:44:59.960581",
     "status": "completed"
    },
    "tags": []
   },
   "source": [
    "# USA Kings Country House Price Prediction Model - Using Neural Network"
   ]
  },
  {
   "cell_type": "markdown",
   "id": "634603fa",
   "metadata": {
    "papermill": {
     "duration": 0.042854,
     "end_time": "2021-10-04T07:45:00.095685",
     "exception": false,
     "start_time": "2021-10-04T07:45:00.052831",
     "status": "completed"
    },
    "tags": []
   },
   "source": [
    "## Using Keras Regression Code\n",
    "\n",
    "Here we will also focus on feature engineering and cleaning our data"
   ]
  },
  {
   "cell_type": "markdown",
   "id": "886d79ab",
   "metadata": {
    "papermill": {
     "duration": 0.04226,
     "end_time": "2021-10-04T07:45:00.180268",
     "exception": false,
     "start_time": "2021-10-04T07:45:00.138008",
     "status": "completed"
    },
    "tags": []
   },
   "source": [
    "## The Data\n",
    "\n",
    "We will be using data from a Kaggle data set:\n",
    "\n",
    "https://www.kaggle.com/harlfoxem/housesalesprediction\n",
    "\n",
    "#### Feature Columns\n",
    "    \n",
    "* id - Unique ID for each home sold\n",
    "* date - Date of the home sale\n",
    "* price - Price of each home sold\n",
    "* bedrooms - Number of bedrooms\n",
    "* bathrooms - Number of bathrooms, where .5 accounts for a room with a toilet but no shower\n",
    "* sqft_living - Square footage of the apartments interior living space\n",
    "* sqft_lot - Square footage of the land space\n",
    "* floors - Number of floors\n",
    "* waterfront - A dummy variable for whether the apartment was overlooking the waterfront or not\n",
    "* view - An index from 0 to 4 of how good the view of the property was\n",
    "* condition - An index from 1 to 5 on the condition of the apartment,\n",
    "* grade - An index from 1 to 13, where 1-3 falls short of building construction and design, 7 has an average level of construction and design, and 11-13 have a high quality level of construction and design.\n",
    "* sqft_above - The square footage of the interior housing space that is above ground level\n",
    "* sqft_basement - The square footage of the interior housing space that is below ground level\n",
    "* yr_built - The year the house was initially built\n",
    "* yr_renovated - The year of the house’s last renovation\n",
    "* zipcode - What zipcode area the house is in\n",
    "* lat - Lattitude\n",
    "* long - Longitude\n",
    "* sqft_living15 - The square footage of interior housing living space for the nearest 15 neighbors\n",
    "* sqft_lot15 - The square footage of the land lots of the nearest 15 neighbors"
   ]
  },
  {
   "cell_type": "markdown",
   "id": "7ce3f5c5",
   "metadata": {
    "papermill": {
     "duration": 0.041667,
     "end_time": "2021-10-04T07:45:00.263968",
     "exception": false,
     "start_time": "2021-10-04T07:45:00.222301",
     "status": "completed"
    },
    "tags": []
   },
   "source": [
    "### Python Environment Setup"
   ]
  },
  {
   "cell_type": "code",
   "execution_count": 1,
   "id": "f4dc0476",
   "metadata": {
    "execution": {
     "iopub.execute_input": "2021-10-04T07:45:00.352956Z",
     "iopub.status.busy": "2021-10-04T07:45:00.351901Z",
     "iopub.status.idle": "2021-10-04T07:45:01.174646Z",
     "shell.execute_reply": "2021-10-04T07:45:01.175318Z",
     "shell.execute_reply.started": "2021-10-04T06:44:28.449654Z"
    },
    "papermill": {
     "duration": 0.869673,
     "end_time": "2021-10-04T07:45:01.175705",
     "exception": false,
     "start_time": "2021-10-04T07:45:00.306032",
     "status": "completed"
    },
    "tags": []
   },
   "outputs": [],
   "source": [
    "import pandas as pd\n",
    "import numpy as np\n",
    "import matplotlib.pyplot as plt\n",
    "import seaborn as sns"
   ]
  },
  {
   "cell_type": "markdown",
   "id": "d803cb19",
   "metadata": {
    "papermill": {
     "duration": 0.042456,
     "end_time": "2021-10-04T07:45:01.276591",
     "exception": false,
     "start_time": "2021-10-04T07:45:01.234135",
     "status": "completed"
    },
    "tags": []
   },
   "source": [
    "#### Import DATA"
   ]
  },
  {
   "cell_type": "code",
   "execution_count": null,
   "id": "8273d1a7",
   "metadata": {
    "execution": {
     "iopub.execute_input": "2021-10-04T07:45:01.365265Z",
     "iopub.status.busy": "2021-10-04T07:45:01.364626Z",
     "iopub.status.idle": "2021-10-04T07:45:01.450340Z",
     "shell.execute_reply": "2021-10-04T07:45:01.450806Z",
     "shell.execute_reply.started": "2021-10-04T06:45:12.490785Z"
    },
    "papermill": {
     "duration": 0.132686,
     "end_time": "2021-10-04T07:45:01.450968",
     "exception": false,
     "start_time": "2021-10-04T07:45:01.318282",
     "status": "completed"
    },
    "tags": []
   },
   "outputs": [],
   "source": [
    "df = pd.read_csv('kc_house_data.csv')"
   ]
  },
  {
   "cell_type": "markdown",
   "id": "df4401ee",
   "metadata": {
    "papermill": {
     "duration": 0.042038,
     "end_time": "2021-10-04T07:45:01.534759",
     "exception": false,
     "start_time": "2021-10-04T07:45:01.492721",
     "status": "completed"
    },
    "tags": []
   },
   "source": [
    "# Exploratory Data Analysis\n"
   ]
  },
  {
   "cell_type": "code",
   "execution_count": 3,
   "id": "a22e08f9",
   "metadata": {
    "execution": {
     "iopub.execute_input": "2021-10-04T07:45:01.622064Z",
     "iopub.status.busy": "2021-10-04T07:45:01.621189Z",
     "iopub.status.idle": "2021-10-04T07:45:01.634492Z",
     "shell.execute_reply": "2021-10-04T07:45:01.635058Z",
     "shell.execute_reply.started": "2021-10-04T06:46:16.439293Z"
    },
    "papermill": {
     "duration": 0.058607,
     "end_time": "2021-10-04T07:45:01.635231",
     "exception": false,
     "start_time": "2021-10-04T07:45:01.576624",
     "status": "completed"
    },
    "tags": []
   },
   "outputs": [
    {
     "data": {
      "text/plain": [
       "id               0\n",
       "date             0\n",
       "price            0\n",
       "bedrooms         0\n",
       "bathrooms        0\n",
       "sqft_living      0\n",
       "sqft_lot         0\n",
       "floors           0\n",
       "waterfront       0\n",
       "view             0\n",
       "condition        0\n",
       "grade            0\n",
       "sqft_above       0\n",
       "sqft_basement    0\n",
       "yr_built         0\n",
       "yr_renovated     0\n",
       "zipcode          0\n",
       "lat              0\n",
       "long             0\n",
       "sqft_living15    0\n",
       "sqft_lot15       0\n",
       "dtype: int64"
      ]
     },
     "execution_count": 3,
     "metadata": {},
     "output_type": "execute_result"
    }
   ],
   "source": [
    "df.isnull().sum()"
   ]
  },
  {
   "cell_type": "code",
   "execution_count": 4,
   "id": "2d4b6deb",
   "metadata": {
    "execution": {
     "iopub.execute_input": "2021-10-04T07:45:01.726548Z",
     "iopub.status.busy": "2021-10-04T07:45:01.725644Z",
     "iopub.status.idle": "2021-10-04T07:45:01.810286Z",
     "shell.execute_reply": "2021-10-04T07:45:01.810805Z",
     "shell.execute_reply.started": "2021-10-04T06:46:36.236338Z"
    },
    "papermill": {
     "duration": 0.132565,
     "end_time": "2021-10-04T07:45:01.810973",
     "exception": false,
     "start_time": "2021-10-04T07:45:01.678408",
     "status": "completed"
    },
    "tags": []
   },
   "outputs": [
    {
     "data": {
      "text/html": [
       "<div>\n",
       "<style scoped>\n",
       "    .dataframe tbody tr th:only-of-type {\n",
       "        vertical-align: middle;\n",
       "    }\n",
       "\n",
       "    .dataframe tbody tr th {\n",
       "        vertical-align: top;\n",
       "    }\n",
       "\n",
       "    .dataframe thead th {\n",
       "        text-align: right;\n",
       "    }\n",
       "</style>\n",
       "<table border=\"1\" class=\"dataframe\">\n",
       "  <thead>\n",
       "    <tr style=\"text-align: right;\">\n",
       "      <th></th>\n",
       "      <th>count</th>\n",
       "      <th>mean</th>\n",
       "      <th>std</th>\n",
       "      <th>min</th>\n",
       "      <th>25%</th>\n",
       "      <th>50%</th>\n",
       "      <th>75%</th>\n",
       "      <th>max</th>\n",
       "    </tr>\n",
       "  </thead>\n",
       "  <tbody>\n",
       "    <tr>\n",
       "      <th>id</th>\n",
       "      <td>21613.0</td>\n",
       "      <td>4.580302e+09</td>\n",
       "      <td>2.876566e+09</td>\n",
       "      <td>1.000102e+06</td>\n",
       "      <td>2.123049e+09</td>\n",
       "      <td>3.904930e+09</td>\n",
       "      <td>7.308900e+09</td>\n",
       "      <td>9.900000e+09</td>\n",
       "    </tr>\n",
       "    <tr>\n",
       "      <th>price</th>\n",
       "      <td>21613.0</td>\n",
       "      <td>5.400881e+05</td>\n",
       "      <td>3.671272e+05</td>\n",
       "      <td>7.500000e+04</td>\n",
       "      <td>3.219500e+05</td>\n",
       "      <td>4.500000e+05</td>\n",
       "      <td>6.450000e+05</td>\n",
       "      <td>7.700000e+06</td>\n",
       "    </tr>\n",
       "    <tr>\n",
       "      <th>bedrooms</th>\n",
       "      <td>21613.0</td>\n",
       "      <td>3.370842e+00</td>\n",
       "      <td>9.300618e-01</td>\n",
       "      <td>0.000000e+00</td>\n",
       "      <td>3.000000e+00</td>\n",
       "      <td>3.000000e+00</td>\n",
       "      <td>4.000000e+00</td>\n",
       "      <td>3.300000e+01</td>\n",
       "    </tr>\n",
       "    <tr>\n",
       "      <th>bathrooms</th>\n",
       "      <td>21613.0</td>\n",
       "      <td>2.114757e+00</td>\n",
       "      <td>7.701632e-01</td>\n",
       "      <td>0.000000e+00</td>\n",
       "      <td>1.750000e+00</td>\n",
       "      <td>2.250000e+00</td>\n",
       "      <td>2.500000e+00</td>\n",
       "      <td>8.000000e+00</td>\n",
       "    </tr>\n",
       "    <tr>\n",
       "      <th>sqft_living</th>\n",
       "      <td>21613.0</td>\n",
       "      <td>2.079900e+03</td>\n",
       "      <td>9.184409e+02</td>\n",
       "      <td>2.900000e+02</td>\n",
       "      <td>1.427000e+03</td>\n",
       "      <td>1.910000e+03</td>\n",
       "      <td>2.550000e+03</td>\n",
       "      <td>1.354000e+04</td>\n",
       "    </tr>\n",
       "    <tr>\n",
       "      <th>sqft_lot</th>\n",
       "      <td>21613.0</td>\n",
       "      <td>1.510697e+04</td>\n",
       "      <td>4.142051e+04</td>\n",
       "      <td>5.200000e+02</td>\n",
       "      <td>5.040000e+03</td>\n",
       "      <td>7.618000e+03</td>\n",
       "      <td>1.068800e+04</td>\n",
       "      <td>1.651359e+06</td>\n",
       "    </tr>\n",
       "    <tr>\n",
       "      <th>floors</th>\n",
       "      <td>21613.0</td>\n",
       "      <td>1.494309e+00</td>\n",
       "      <td>5.399889e-01</td>\n",
       "      <td>1.000000e+00</td>\n",
       "      <td>1.000000e+00</td>\n",
       "      <td>1.500000e+00</td>\n",
       "      <td>2.000000e+00</td>\n",
       "      <td>3.500000e+00</td>\n",
       "    </tr>\n",
       "    <tr>\n",
       "      <th>waterfront</th>\n",
       "      <td>21613.0</td>\n",
       "      <td>7.541757e-03</td>\n",
       "      <td>8.651720e-02</td>\n",
       "      <td>0.000000e+00</td>\n",
       "      <td>0.000000e+00</td>\n",
       "      <td>0.000000e+00</td>\n",
       "      <td>0.000000e+00</td>\n",
       "      <td>1.000000e+00</td>\n",
       "    </tr>\n",
       "    <tr>\n",
       "      <th>view</th>\n",
       "      <td>21613.0</td>\n",
       "      <td>2.343034e-01</td>\n",
       "      <td>7.663176e-01</td>\n",
       "      <td>0.000000e+00</td>\n",
       "      <td>0.000000e+00</td>\n",
       "      <td>0.000000e+00</td>\n",
       "      <td>0.000000e+00</td>\n",
       "      <td>4.000000e+00</td>\n",
       "    </tr>\n",
       "    <tr>\n",
       "      <th>condition</th>\n",
       "      <td>21613.0</td>\n",
       "      <td>3.409430e+00</td>\n",
       "      <td>6.507430e-01</td>\n",
       "      <td>1.000000e+00</td>\n",
       "      <td>3.000000e+00</td>\n",
       "      <td>3.000000e+00</td>\n",
       "      <td>4.000000e+00</td>\n",
       "      <td>5.000000e+00</td>\n",
       "    </tr>\n",
       "    <tr>\n",
       "      <th>grade</th>\n",
       "      <td>21613.0</td>\n",
       "      <td>7.656873e+00</td>\n",
       "      <td>1.175459e+00</td>\n",
       "      <td>1.000000e+00</td>\n",
       "      <td>7.000000e+00</td>\n",
       "      <td>7.000000e+00</td>\n",
       "      <td>8.000000e+00</td>\n",
       "      <td>1.300000e+01</td>\n",
       "    </tr>\n",
       "    <tr>\n",
       "      <th>sqft_above</th>\n",
       "      <td>21613.0</td>\n",
       "      <td>1.788391e+03</td>\n",
       "      <td>8.280910e+02</td>\n",
       "      <td>2.900000e+02</td>\n",
       "      <td>1.190000e+03</td>\n",
       "      <td>1.560000e+03</td>\n",
       "      <td>2.210000e+03</td>\n",
       "      <td>9.410000e+03</td>\n",
       "    </tr>\n",
       "    <tr>\n",
       "      <th>sqft_basement</th>\n",
       "      <td>21613.0</td>\n",
       "      <td>2.915090e+02</td>\n",
       "      <td>4.425750e+02</td>\n",
       "      <td>0.000000e+00</td>\n",
       "      <td>0.000000e+00</td>\n",
       "      <td>0.000000e+00</td>\n",
       "      <td>5.600000e+02</td>\n",
       "      <td>4.820000e+03</td>\n",
       "    </tr>\n",
       "    <tr>\n",
       "      <th>yr_built</th>\n",
       "      <td>21613.0</td>\n",
       "      <td>1.971005e+03</td>\n",
       "      <td>2.937341e+01</td>\n",
       "      <td>1.900000e+03</td>\n",
       "      <td>1.951000e+03</td>\n",
       "      <td>1.975000e+03</td>\n",
       "      <td>1.997000e+03</td>\n",
       "      <td>2.015000e+03</td>\n",
       "    </tr>\n",
       "    <tr>\n",
       "      <th>yr_renovated</th>\n",
       "      <td>21613.0</td>\n",
       "      <td>8.440226e+01</td>\n",
       "      <td>4.016792e+02</td>\n",
       "      <td>0.000000e+00</td>\n",
       "      <td>0.000000e+00</td>\n",
       "      <td>0.000000e+00</td>\n",
       "      <td>0.000000e+00</td>\n",
       "      <td>2.015000e+03</td>\n",
       "    </tr>\n",
       "    <tr>\n",
       "      <th>zipcode</th>\n",
       "      <td>21613.0</td>\n",
       "      <td>9.807794e+04</td>\n",
       "      <td>5.350503e+01</td>\n",
       "      <td>9.800100e+04</td>\n",
       "      <td>9.803300e+04</td>\n",
       "      <td>9.806500e+04</td>\n",
       "      <td>9.811800e+04</td>\n",
       "      <td>9.819900e+04</td>\n",
       "    </tr>\n",
       "    <tr>\n",
       "      <th>lat</th>\n",
       "      <td>21613.0</td>\n",
       "      <td>4.756005e+01</td>\n",
       "      <td>1.385637e-01</td>\n",
       "      <td>4.715590e+01</td>\n",
       "      <td>4.747100e+01</td>\n",
       "      <td>4.757180e+01</td>\n",
       "      <td>4.767800e+01</td>\n",
       "      <td>4.777760e+01</td>\n",
       "    </tr>\n",
       "    <tr>\n",
       "      <th>long</th>\n",
       "      <td>21613.0</td>\n",
       "      <td>-1.222139e+02</td>\n",
       "      <td>1.408283e-01</td>\n",
       "      <td>-1.225190e+02</td>\n",
       "      <td>-1.223280e+02</td>\n",
       "      <td>-1.222300e+02</td>\n",
       "      <td>-1.221250e+02</td>\n",
       "      <td>-1.213150e+02</td>\n",
       "    </tr>\n",
       "    <tr>\n",
       "      <th>sqft_living15</th>\n",
       "      <td>21613.0</td>\n",
       "      <td>1.986552e+03</td>\n",
       "      <td>6.853913e+02</td>\n",
       "      <td>3.990000e+02</td>\n",
       "      <td>1.490000e+03</td>\n",
       "      <td>1.840000e+03</td>\n",
       "      <td>2.360000e+03</td>\n",
       "      <td>6.210000e+03</td>\n",
       "    </tr>\n",
       "    <tr>\n",
       "      <th>sqft_lot15</th>\n",
       "      <td>21613.0</td>\n",
       "      <td>1.276846e+04</td>\n",
       "      <td>2.730418e+04</td>\n",
       "      <td>6.510000e+02</td>\n",
       "      <td>5.100000e+03</td>\n",
       "      <td>7.620000e+03</td>\n",
       "      <td>1.008300e+04</td>\n",
       "      <td>8.712000e+05</td>\n",
       "    </tr>\n",
       "  </tbody>\n",
       "</table>\n",
       "</div>"
      ],
      "text/plain": [
       "                 count          mean           std           min  \\\n",
       "id             21613.0  4.580302e+09  2.876566e+09  1.000102e+06   \n",
       "price          21613.0  5.400881e+05  3.671272e+05  7.500000e+04   \n",
       "bedrooms       21613.0  3.370842e+00  9.300618e-01  0.000000e+00   \n",
       "bathrooms      21613.0  2.114757e+00  7.701632e-01  0.000000e+00   \n",
       "sqft_living    21613.0  2.079900e+03  9.184409e+02  2.900000e+02   \n",
       "sqft_lot       21613.0  1.510697e+04  4.142051e+04  5.200000e+02   \n",
       "floors         21613.0  1.494309e+00  5.399889e-01  1.000000e+00   \n",
       "waterfront     21613.0  7.541757e-03  8.651720e-02  0.000000e+00   \n",
       "view           21613.0  2.343034e-01  7.663176e-01  0.000000e+00   \n",
       "condition      21613.0  3.409430e+00  6.507430e-01  1.000000e+00   \n",
       "grade          21613.0  7.656873e+00  1.175459e+00  1.000000e+00   \n",
       "sqft_above     21613.0  1.788391e+03  8.280910e+02  2.900000e+02   \n",
       "sqft_basement  21613.0  2.915090e+02  4.425750e+02  0.000000e+00   \n",
       "yr_built       21613.0  1.971005e+03  2.937341e+01  1.900000e+03   \n",
       "yr_renovated   21613.0  8.440226e+01  4.016792e+02  0.000000e+00   \n",
       "zipcode        21613.0  9.807794e+04  5.350503e+01  9.800100e+04   \n",
       "lat            21613.0  4.756005e+01  1.385637e-01  4.715590e+01   \n",
       "long           21613.0 -1.222139e+02  1.408283e-01 -1.225190e+02   \n",
       "sqft_living15  21613.0  1.986552e+03  6.853913e+02  3.990000e+02   \n",
       "sqft_lot15     21613.0  1.276846e+04  2.730418e+04  6.510000e+02   \n",
       "\n",
       "                        25%           50%           75%           max  \n",
       "id             2.123049e+09  3.904930e+09  7.308900e+09  9.900000e+09  \n",
       "price          3.219500e+05  4.500000e+05  6.450000e+05  7.700000e+06  \n",
       "bedrooms       3.000000e+00  3.000000e+00  4.000000e+00  3.300000e+01  \n",
       "bathrooms      1.750000e+00  2.250000e+00  2.500000e+00  8.000000e+00  \n",
       "sqft_living    1.427000e+03  1.910000e+03  2.550000e+03  1.354000e+04  \n",
       "sqft_lot       5.040000e+03  7.618000e+03  1.068800e+04  1.651359e+06  \n",
       "floors         1.000000e+00  1.500000e+00  2.000000e+00  3.500000e+00  \n",
       "waterfront     0.000000e+00  0.000000e+00  0.000000e+00  1.000000e+00  \n",
       "view           0.000000e+00  0.000000e+00  0.000000e+00  4.000000e+00  \n",
       "condition      3.000000e+00  3.000000e+00  4.000000e+00  5.000000e+00  \n",
       "grade          7.000000e+00  7.000000e+00  8.000000e+00  1.300000e+01  \n",
       "sqft_above     1.190000e+03  1.560000e+03  2.210000e+03  9.410000e+03  \n",
       "sqft_basement  0.000000e+00  0.000000e+00  5.600000e+02  4.820000e+03  \n",
       "yr_built       1.951000e+03  1.975000e+03  1.997000e+03  2.015000e+03  \n",
       "yr_renovated   0.000000e+00  0.000000e+00  0.000000e+00  2.015000e+03  \n",
       "zipcode        9.803300e+04  9.806500e+04  9.811800e+04  9.819900e+04  \n",
       "lat            4.747100e+01  4.757180e+01  4.767800e+01  4.777760e+01  \n",
       "long          -1.223280e+02 -1.222300e+02 -1.221250e+02 -1.213150e+02  \n",
       "sqft_living15  1.490000e+03  1.840000e+03  2.360000e+03  6.210000e+03  \n",
       "sqft_lot15     5.100000e+03  7.620000e+03  1.008300e+04  8.712000e+05  "
      ]
     },
     "execution_count": 4,
     "metadata": {},
     "output_type": "execute_result"
    }
   ],
   "source": [
    "df.describe().transpose()"
   ]
  },
  {
   "cell_type": "code",
   "execution_count": 5,
   "id": "35438137",
   "metadata": {
    "execution": {
     "iopub.execute_input": "2021-10-04T07:45:01.904034Z",
     "iopub.status.busy": "2021-10-04T07:45:01.903064Z",
     "iopub.status.idle": "2021-10-04T07:45:02.436901Z",
     "shell.execute_reply": "2021-10-04T07:45:02.436432Z",
     "shell.execute_reply.started": "2021-10-04T06:46:52.596053Z"
    },
    "papermill": {
     "duration": 0.580668,
     "end_time": "2021-10-04T07:45:02.437061",
     "exception": false,
     "start_time": "2021-10-04T07:45:01.856393",
     "status": "completed"
    },
    "tags": []
   },
   "outputs": [
    {
     "name": "stderr",
     "output_type": "stream",
     "text": [
      "/opt/conda/lib/python3.7/site-packages/seaborn/distributions.py:2619: FutureWarning: `distplot` is a deprecated function and will be removed in a future version. Please adapt your code to use either `displot` (a figure-level function with similar flexibility) or `histplot` (an axes-level function for histograms).\n",
      "  warnings.warn(msg, FutureWarning)\n"
     ]
    },
    {
     "data": {
      "text/plain": [
       "<AxesSubplot:xlabel='price', ylabel='Density'>"
      ]
     },
     "execution_count": 5,
     "metadata": {},
     "output_type": "execute_result"
    },
    {
     "data": {
      "image/png": "[encoded data removed]",
      "text/plain": [
       "<Figure size 864x576 with 1 Axes>"
      ]
     },
     "metadata": {
      "needs_background": "light"
     },
     "output_type": "display_data"
    }
   ],
   "source": [
    "plt.figure(figsize=(12,8))\n",
    "sns.distplot(df['price'])"
   ]
  },
  {
   "cell_type": "code",
   "execution_count": 6,
   "id": "906675f2",
   "metadata": {
    "execution": {
     "iopub.execute_input": "2021-10-04T07:45:02.532100Z",
     "iopub.status.busy": "2021-10-04T07:45:02.531500Z",
     "iopub.status.idle": "2021-10-04T07:45:02.766851Z",
     "shell.execute_reply": "2021-10-04T07:45:02.766244Z",
     "shell.execute_reply.started": "2021-10-04T06:47:08.137273Z"
    },
    "papermill": {
     "duration": 0.283799,
     "end_time": "2021-10-04T07:45:02.767013",
     "exception": false,
     "start_time": "2021-10-04T07:45:02.483214",
     "status": "completed"
    },
    "tags": []
   },
   "outputs": [
    {
     "name": "stderr",
     "output_type": "stream",
     "text": [
      "/opt/conda/lib/python3.7/site-packages/seaborn/_decorators.py:43: FutureWarning: Pass the following variable as a keyword arg: x. From version 0.12, the only valid positional argument will be `data`, and passing other arguments without an explicit keyword will result in an error or misinterpretation.\n",
      "  FutureWarning\n"
     ]
    },
    {
     "data": {
      "text/plain": [
       "<AxesSubplot:xlabel='bedrooms', ylabel='count'>"
      ]
     },
     "execution_count": 6,
     "metadata": {},
     "output_type": "execute_result"
    },
    {
     "data": {
      "image/png": "[encoded data removed]",
      "text/plain": [
       "<Figure size 432x288 with 1 Axes>"
      ]
     },
     "metadata": {
      "needs_background": "light"
     },
     "output_type": "display_data"
    }
   ],
   "source": [
    "sns.countplot(df['bedrooms'])"
   ]
  },
  {
   "cell_type": "markdown",
   "id": "c1507d6a",
   "metadata": {
    "papermill": {
     "duration": 0.060782,
     "end_time": "2021-10-04T07:45:02.875459",
     "exception": false,
     "start_time": "2021-10-04T07:45:02.814677",
     "status": "completed"
    },
    "tags": []
   },
   "source": [
    "Most of the houses has 2-6 bedrooms. "
   ]
  },
  {
   "cell_type": "code",
   "execution_count": 7,
   "id": "10432e81",
   "metadata": {
    "execution": {
     "iopub.execute_input": "2021-10-04T07:45:02.989919Z",
     "iopub.status.busy": "2021-10-04T07:45:02.989226Z",
     "iopub.status.idle": "2021-10-04T07:45:03.326676Z",
     "shell.execute_reply": "2021-10-04T07:45:03.326138Z",
     "shell.execute_reply.started": "2021-10-04T06:47:26.880323Z"
    },
    "papermill": {
     "duration": 0.391544,
     "end_time": "2021-10-04T07:45:03.326810",
     "exception": false,
     "start_time": "2021-10-04T07:45:02.935266",
     "status": "completed"
    },
    "tags": []
   },
   "outputs": [
    {
     "data": {
      "text/plain": [
       "<AxesSubplot:xlabel='price', ylabel='sqft_living'>"
      ]
     },
     "execution_count": 7,
     "metadata": {},
     "output_type": "execute_result"
    },
    {
     "data": {
      "image/png": "[encoded data removed]",
      "text/plain": [
       "<Figure size 864x576 with 1 Axes>"
      ]
     },
     "metadata": {
      "needs_background": "light"
     },
     "output_type": "display_data"
    }
   ],
   "source": [
    "plt.figure(figsize=(12,8))\n",
    "sns.scatterplot(x='price',y='sqft_living',data=df)"
   ]
  },
  {
   "cell_type": "markdown",
   "id": "e85cb671",
   "metadata": {
    "papermill": {
     "duration": 0.047913,
     "end_time": "2021-10-04T07:45:03.422942",
     "exception": false,
     "start_time": "2021-10-04T07:45:03.375029",
     "status": "completed"
    },
    "tags": []
   },
   "source": [
    "As expected with increasing living square feet, Price increases."
   ]
  },
  {
   "cell_type": "code",
   "execution_count": 8,
   "id": "fb2d16bf",
   "metadata": {
    "execution": {
     "iopub.execute_input": "2021-10-04T07:45:03.522643Z",
     "iopub.status.busy": "2021-10-04T07:45:03.521685Z",
     "iopub.status.idle": "2021-10-04T07:45:03.835737Z",
     "shell.execute_reply": "2021-10-04T07:45:03.836364Z",
     "shell.execute_reply.started": "2021-10-04T06:50:22.497128Z"
    },
    "papermill": {
     "duration": 0.365695,
     "end_time": "2021-10-04T07:45:03.836530",
     "exception": false,
     "start_time": "2021-10-04T07:45:03.470835",
     "status": "completed"
    },
    "tags": []
   },
   "outputs": [
    {
     "data": {
      "text/plain": [
       "<AxesSubplot:xlabel='bedrooms', ylabel='price'>"
      ]
     },
     "execution_count": 8,
     "metadata": {},
     "output_type": "execute_result"
    },
    {
     "data": {
      "image/png": "[encoded data removed]",
      "text/plain": [
       "<Figure size 864x576 with 1 Axes>"
      ]
     },
     "metadata": {
      "needs_background": "light"
     },
     "output_type": "display_data"
    }
   ],
   "source": [
    "plt.figure(figsize=(12,8))\n",
    "sns.scatterplot(x='bedrooms',y='price',data=df)"
   ]
  },
  {
   "cell_type": "code",
   "execution_count": 9,
   "id": "8241e5a7",
   "metadata": {
    "execution": {
     "iopub.execute_input": "2021-10-04T07:45:03.942329Z",
     "iopub.status.busy": "2021-10-04T07:45:03.941706Z",
     "iopub.status.idle": "2021-10-04T07:45:04.418037Z",
     "shell.execute_reply": "2021-10-04T07:45:04.417587Z",
     "shell.execute_reply.started": "2021-10-04T06:53:23.403872Z"
    },
    "papermill": {
     "duration": 0.531411,
     "end_time": "2021-10-04T07:45:04.418192",
     "exception": false,
     "start_time": "2021-10-04T07:45:03.886781",
     "status": "completed"
    },
    "tags": []
   },
   "outputs": [
    {
     "data": {
      "text/plain": [
       "<AxesSubplot:xlabel='bedrooms', ylabel='price'>"
      ]
     },
     "execution_count": 9,
     "metadata": {},
     "output_type": "execute_result"
    },
    {
     "data": {
      "image/png": "[encoded data removed]",
      "text/plain": [
       "<Figure size 432x288 with 1 Axes>"
      ]
     },
     "metadata": {
      "needs_background": "light"
     },
     "output_type": "display_data"
    }
   ],
   "source": [
    "sns.boxplot(x='bedrooms',y='price',data=df)"
   ]
  },
  {
   "cell_type": "markdown",
   "id": "1f494989",
   "metadata": {
    "papermill": {
     "duration": 0.049664,
     "end_time": "2021-10-04T07:45:04.517920",
     "exception": false,
     "start_time": "2021-10-04T07:45:04.468256",
     "status": "completed"
    },
    "tags": []
   },
   "source": [
    "Corelation between number of bedrooms and price is not clear. "
   ]
  },
  {
   "cell_type": "markdown",
   "id": "79cd868f",
   "metadata": {
    "papermill": {
     "duration": 0.049319,
     "end_time": "2021-10-04T07:45:04.617451",
     "exception": false,
     "start_time": "2021-10-04T07:45:04.568132",
     "status": "completed"
    },
    "tags": []
   },
   "source": [
    "### Geographical Properties"
   ]
  },
  {
   "cell_type": "code",
   "execution_count": 10,
   "id": "28bc6b37",
   "metadata": {
    "execution": {
     "iopub.execute_input": "2021-10-04T07:45:04.721700Z",
     "iopub.status.busy": "2021-10-04T07:45:04.720805Z",
     "iopub.status.idle": "2021-10-04T07:45:06.129695Z",
     "shell.execute_reply": "2021-10-04T07:45:06.130163Z",
     "shell.execute_reply.started": "2021-10-04T06:58:07.942409Z"
    },
    "papermill": {
     "duration": 1.462689,
     "end_time": "2021-10-04T07:45:06.130332",
     "exception": false,
     "start_time": "2021-10-04T07:45:04.667643",
     "status": "completed"
    },
    "tags": []
   },
   "outputs": [
    {
     "data": {
      "text/plain": [
       "<AxesSubplot:xlabel='long', ylabel='lat'>"
      ]
     },
     "execution_count": 10,
     "metadata": {},
     "output_type": "execute_result"
    },
    {
     "data": {
      "image/png": "[encoded data removed]",
      "text/plain": [
       "<Figure size 864x576 with 1 Axes>"
      ]
     },
     "metadata": {
      "needs_background": "light"
     },
     "output_type": "display_data"
    }
   ],
   "source": [
    "plt.figure(figsize=(12,8))\n",
    "sns.scatterplot(x='long',y='lat',data=df,hue='price')"
   ]
  },
  {
   "cell_type": "code",
   "execution_count": 11,
   "id": "8945e66a",
   "metadata": {
    "execution": {
     "iopub.execute_input": "2021-10-04T07:45:06.247422Z",
     "iopub.status.busy": "2021-10-04T07:45:06.246501Z",
     "iopub.status.idle": "2021-10-04T07:45:06.279319Z",
     "shell.execute_reply": "2021-10-04T07:45:06.279752Z",
     "shell.execute_reply.started": "2021-10-04T06:59:25.445388Z"
    },
    "papermill": {
     "duration": 0.09259,
     "end_time": "2021-10-04T07:45:06.279910",
     "exception": false,
     "start_time": "2021-10-04T07:45:06.187320",
     "status": "completed"
    },
    "tags": []
   },
   "outputs": [
    {
     "data": {
      "text/html": [
       "<div>\n",
       "<style scoped>\n",
       "    .dataframe tbody tr th:only-of-type {\n",
       "        vertical-align: middle;\n",
       "    }\n",
       "\n",
       "    .dataframe tbody tr th {\n",
       "        vertical-align: top;\n",
       "    }\n",
       "\n",
       "    .dataframe thead th {\n",
       "        text-align: right;\n",
       "    }\n",
       "</style>\n",
       "<table border=\"1\" class=\"dataframe\">\n",
       "  <thead>\n",
       "    <tr style=\"text-align: right;\">\n",
       "      <th></th>\n",
       "      <th>id</th>\n",
       "      <th>date</th>\n",
       "      <th>price</th>\n",
       "      <th>bedrooms</th>\n",
       "      <th>bathrooms</th>\n",
       "      <th>sqft_living</th>\n",
       "      <th>sqft_lot</th>\n",
       "      <th>floors</th>\n",
       "      <th>waterfront</th>\n",
       "      <th>view</th>\n",
       "      <th>...</th>\n",
       "      <th>grade</th>\n",
       "      <th>sqft_above</th>\n",
       "      <th>sqft_basement</th>\n",
       "      <th>yr_built</th>\n",
       "      <th>yr_renovated</th>\n",
       "      <th>zipcode</th>\n",
       "      <th>lat</th>\n",
       "      <th>long</th>\n",
       "      <th>sqft_living15</th>\n",
       "      <th>sqft_lot15</th>\n",
       "    </tr>\n",
       "  </thead>\n",
       "  <tbody>\n",
       "    <tr>\n",
       "      <th>7252</th>\n",
       "      <td>6762700020</td>\n",
       "      <td>20141013T000000</td>\n",
       "      <td>7700000.0</td>\n",
       "      <td>6</td>\n",
       "      <td>8.00</td>\n",
       "      <td>12050</td>\n",
       "      <td>27600</td>\n",
       "      <td>2.5</td>\n",
       "      <td>0</td>\n",
       "      <td>3</td>\n",
       "      <td>...</td>\n",
       "      <td>13</td>\n",
       "      <td>8570</td>\n",
       "      <td>3480</td>\n",
       "      <td>1910</td>\n",
       "      <td>1987</td>\n",
       "      <td>98102</td>\n",
       "      <td>47.6298</td>\n",
       "      <td>-122.323</td>\n",
       "      <td>3940</td>\n",
       "      <td>8800</td>\n",
       "    </tr>\n",
       "    <tr>\n",
       "      <th>3914</th>\n",
       "      <td>9808700762</td>\n",
       "      <td>20140611T000000</td>\n",
       "      <td>7062500.0</td>\n",
       "      <td>5</td>\n",
       "      <td>4.50</td>\n",
       "      <td>10040</td>\n",
       "      <td>37325</td>\n",
       "      <td>2.0</td>\n",
       "      <td>1</td>\n",
       "      <td>2</td>\n",
       "      <td>...</td>\n",
       "      <td>11</td>\n",
       "      <td>7680</td>\n",
       "      <td>2360</td>\n",
       "      <td>1940</td>\n",
       "      <td>2001</td>\n",
       "      <td>98004</td>\n",
       "      <td>47.6500</td>\n",
       "      <td>-122.214</td>\n",
       "      <td>3930</td>\n",
       "      <td>25449</td>\n",
       "    </tr>\n",
       "    <tr>\n",
       "      <th>9254</th>\n",
       "      <td>9208900037</td>\n",
       "      <td>20140919T000000</td>\n",
       "      <td>6885000.0</td>\n",
       "      <td>6</td>\n",
       "      <td>7.75</td>\n",
       "      <td>9890</td>\n",
       "      <td>31374</td>\n",
       "      <td>2.0</td>\n",
       "      <td>0</td>\n",
       "      <td>4</td>\n",
       "      <td>...</td>\n",
       "      <td>13</td>\n",
       "      <td>8860</td>\n",
       "      <td>1030</td>\n",
       "      <td>2001</td>\n",
       "      <td>0</td>\n",
       "      <td>98039</td>\n",
       "      <td>47.6305</td>\n",
       "      <td>-122.240</td>\n",
       "      <td>4540</td>\n",
       "      <td>42730</td>\n",
       "    </tr>\n",
       "    <tr>\n",
       "      <th>4411</th>\n",
       "      <td>2470100110</td>\n",
       "      <td>20140804T000000</td>\n",
       "      <td>5570000.0</td>\n",
       "      <td>5</td>\n",
       "      <td>5.75</td>\n",
       "      <td>9200</td>\n",
       "      <td>35069</td>\n",
       "      <td>2.0</td>\n",
       "      <td>0</td>\n",
       "      <td>0</td>\n",
       "      <td>...</td>\n",
       "      <td>13</td>\n",
       "      <td>6200</td>\n",
       "      <td>3000</td>\n",
       "      <td>2001</td>\n",
       "      <td>0</td>\n",
       "      <td>98039</td>\n",
       "      <td>47.6289</td>\n",
       "      <td>-122.233</td>\n",
       "      <td>3560</td>\n",
       "      <td>24345</td>\n",
       "    </tr>\n",
       "    <tr>\n",
       "      <th>1448</th>\n",
       "      <td>8907500070</td>\n",
       "      <td>20150413T000000</td>\n",
       "      <td>5350000.0</td>\n",
       "      <td>5</td>\n",
       "      <td>5.00</td>\n",
       "      <td>8000</td>\n",
       "      <td>23985</td>\n",
       "      <td>2.0</td>\n",
       "      <td>0</td>\n",
       "      <td>4</td>\n",
       "      <td>...</td>\n",
       "      <td>12</td>\n",
       "      <td>6720</td>\n",
       "      <td>1280</td>\n",
       "      <td>2009</td>\n",
       "      <td>0</td>\n",
       "      <td>98004</td>\n",
       "      <td>47.6232</td>\n",
       "      <td>-122.220</td>\n",
       "      <td>4600</td>\n",
       "      <td>21750</td>\n",
       "    </tr>\n",
       "    <tr>\n",
       "      <th>1315</th>\n",
       "      <td>7558700030</td>\n",
       "      <td>20150413T000000</td>\n",
       "      <td>5300000.0</td>\n",
       "      <td>6</td>\n",
       "      <td>6.00</td>\n",
       "      <td>7390</td>\n",
       "      <td>24829</td>\n",
       "      <td>2.0</td>\n",
       "      <td>1</td>\n",
       "      <td>4</td>\n",
       "      <td>...</td>\n",
       "      <td>12</td>\n",
       "      <td>5000</td>\n",
       "      <td>2390</td>\n",
       "      <td>1991</td>\n",
       "      <td>0</td>\n",
       "      <td>98040</td>\n",
       "      <td>47.5631</td>\n",
       "      <td>-122.210</td>\n",
       "      <td>4320</td>\n",
       "      <td>24619</td>\n",
       "    </tr>\n",
       "    <tr>\n",
       "      <th>1164</th>\n",
       "      <td>1247600105</td>\n",
       "      <td>20141020T000000</td>\n",
       "      <td>5110800.0</td>\n",
       "      <td>5</td>\n",
       "      <td>5.25</td>\n",
       "      <td>8010</td>\n",
       "      <td>45517</td>\n",
       "      <td>2.0</td>\n",
       "      <td>1</td>\n",
       "      <td>4</td>\n",
       "      <td>...</td>\n",
       "      <td>12</td>\n",
       "      <td>5990</td>\n",
       "      <td>2020</td>\n",
       "      <td>1999</td>\n",
       "      <td>0</td>\n",
       "      <td>98033</td>\n",
       "      <td>47.6767</td>\n",
       "      <td>-122.211</td>\n",
       "      <td>3430</td>\n",
       "      <td>26788</td>\n",
       "    </tr>\n",
       "    <tr>\n",
       "      <th>8092</th>\n",
       "      <td>1924059029</td>\n",
       "      <td>20140617T000000</td>\n",
       "      <td>4668000.0</td>\n",
       "      <td>5</td>\n",
       "      <td>6.75</td>\n",
       "      <td>9640</td>\n",
       "      <td>13068</td>\n",
       "      <td>1.0</td>\n",
       "      <td>1</td>\n",
       "      <td>4</td>\n",
       "      <td>...</td>\n",
       "      <td>12</td>\n",
       "      <td>4820</td>\n",
       "      <td>4820</td>\n",
       "      <td>1983</td>\n",
       "      <td>2009</td>\n",
       "      <td>98040</td>\n",
       "      <td>47.5570</td>\n",
       "      <td>-122.210</td>\n",
       "      <td>3270</td>\n",
       "      <td>10454</td>\n",
       "    </tr>\n",
       "    <tr>\n",
       "      <th>2626</th>\n",
       "      <td>7738500731</td>\n",
       "      <td>20140815T000000</td>\n",
       "      <td>4500000.0</td>\n",
       "      <td>5</td>\n",
       "      <td>5.50</td>\n",
       "      <td>6640</td>\n",
       "      <td>40014</td>\n",
       "      <td>2.0</td>\n",
       "      <td>1</td>\n",
       "      <td>4</td>\n",
       "      <td>...</td>\n",
       "      <td>12</td>\n",
       "      <td>6350</td>\n",
       "      <td>290</td>\n",
       "      <td>2004</td>\n",
       "      <td>0</td>\n",
       "      <td>98155</td>\n",
       "      <td>47.7493</td>\n",
       "      <td>-122.280</td>\n",
       "      <td>3030</td>\n",
       "      <td>23408</td>\n",
       "    </tr>\n",
       "    <tr>\n",
       "      <th>8638</th>\n",
       "      <td>3835500195</td>\n",
       "      <td>20140618T000000</td>\n",
       "      <td>4489000.0</td>\n",
       "      <td>4</td>\n",
       "      <td>3.00</td>\n",
       "      <td>6430</td>\n",
       "      <td>27517</td>\n",
       "      <td>2.0</td>\n",
       "      <td>0</td>\n",
       "      <td>0</td>\n",
       "      <td>...</td>\n",
       "      <td>12</td>\n",
       "      <td>6430</td>\n",
       "      <td>0</td>\n",
       "      <td>2001</td>\n",
       "      <td>0</td>\n",
       "      <td>98004</td>\n",
       "      <td>47.6208</td>\n",
       "      <td>-122.219</td>\n",
       "      <td>3720</td>\n",
       "      <td>14592</td>\n",
       "    </tr>\n",
       "    <tr>\n",
       "      <th>12370</th>\n",
       "      <td>6065300370</td>\n",
       "      <td>20150506T000000</td>\n",
       "      <td>4208000.0</td>\n",
       "      <td>5</td>\n",
       "      <td>6.00</td>\n",
       "      <td>7440</td>\n",
       "      <td>21540</td>\n",
       "      <td>2.0</td>\n",
       "      <td>0</td>\n",
       "      <td>0</td>\n",
       "      <td>...</td>\n",
       "      <td>12</td>\n",
       "      <td>5550</td>\n",
       "      <td>1890</td>\n",
       "      <td>2003</td>\n",
       "      <td>0</td>\n",
       "      <td>98006</td>\n",
       "      <td>47.5692</td>\n",
       "      <td>-122.189</td>\n",
       "      <td>4740</td>\n",
       "      <td>19329</td>\n",
       "    </tr>\n",
       "    <tr>\n",
       "      <th>4149</th>\n",
       "      <td>6447300265</td>\n",
       "      <td>20141014T000000</td>\n",
       "      <td>4000000.0</td>\n",
       "      <td>4</td>\n",
       "      <td>5.50</td>\n",
       "      <td>7080</td>\n",
       "      <td>16573</td>\n",
       "      <td>2.0</td>\n",
       "      <td>0</td>\n",
       "      <td>0</td>\n",
       "      <td>...</td>\n",
       "      <td>12</td>\n",
       "      <td>5760</td>\n",
       "      <td>1320</td>\n",
       "      <td>2008</td>\n",
       "      <td>0</td>\n",
       "      <td>98039</td>\n",
       "      <td>47.6151</td>\n",
       "      <td>-122.224</td>\n",
       "      <td>3140</td>\n",
       "      <td>15996</td>\n",
       "    </tr>\n",
       "    <tr>\n",
       "      <th>2085</th>\n",
       "      <td>8106100105</td>\n",
       "      <td>20141114T000000</td>\n",
       "      <td>3850000.0</td>\n",
       "      <td>4</td>\n",
       "      <td>4.25</td>\n",
       "      <td>5770</td>\n",
       "      <td>21300</td>\n",
       "      <td>2.0</td>\n",
       "      <td>1</td>\n",
       "      <td>4</td>\n",
       "      <td>...</td>\n",
       "      <td>11</td>\n",
       "      <td>5770</td>\n",
       "      <td>0</td>\n",
       "      <td>1980</td>\n",
       "      <td>0</td>\n",
       "      <td>98040</td>\n",
       "      <td>47.5850</td>\n",
       "      <td>-122.222</td>\n",
       "      <td>4620</td>\n",
       "      <td>22748</td>\n",
       "    </tr>\n",
       "    <tr>\n",
       "      <th>19017</th>\n",
       "      <td>2303900100</td>\n",
       "      <td>20140911T000000</td>\n",
       "      <td>3800000.0</td>\n",
       "      <td>3</td>\n",
       "      <td>4.25</td>\n",
       "      <td>5510</td>\n",
       "      <td>35000</td>\n",
       "      <td>2.0</td>\n",
       "      <td>0</td>\n",
       "      <td>4</td>\n",
       "      <td>...</td>\n",
       "      <td>13</td>\n",
       "      <td>4910</td>\n",
       "      <td>600</td>\n",
       "      <td>1997</td>\n",
       "      <td>0</td>\n",
       "      <td>98177</td>\n",
       "      <td>47.7296</td>\n",
       "      <td>-122.370</td>\n",
       "      <td>3430</td>\n",
       "      <td>45302</td>\n",
       "    </tr>\n",
       "    <tr>\n",
       "      <th>7035</th>\n",
       "      <td>853200010</td>\n",
       "      <td>20140701T000000</td>\n",
       "      <td>3800000.0</td>\n",
       "      <td>5</td>\n",
       "      <td>5.50</td>\n",
       "      <td>7050</td>\n",
       "      <td>42840</td>\n",
       "      <td>1.0</td>\n",
       "      <td>0</td>\n",
       "      <td>2</td>\n",
       "      <td>...</td>\n",
       "      <td>13</td>\n",
       "      <td>4320</td>\n",
       "      <td>2730</td>\n",
       "      <td>1978</td>\n",
       "      <td>0</td>\n",
       "      <td>98004</td>\n",
       "      <td>47.6229</td>\n",
       "      <td>-122.220</td>\n",
       "      <td>5070</td>\n",
       "      <td>20570</td>\n",
       "    </tr>\n",
       "    <tr>\n",
       "      <th>16302</th>\n",
       "      <td>7397300170</td>\n",
       "      <td>20140530T000000</td>\n",
       "      <td>3710000.0</td>\n",
       "      <td>4</td>\n",
       "      <td>3.50</td>\n",
       "      <td>5550</td>\n",
       "      <td>28078</td>\n",
       "      <td>2.0</td>\n",
       "      <td>0</td>\n",
       "      <td>2</td>\n",
       "      <td>...</td>\n",
       "      <td>12</td>\n",
       "      <td>3350</td>\n",
       "      <td>2200</td>\n",
       "      <td>2000</td>\n",
       "      <td>0</td>\n",
       "      <td>98039</td>\n",
       "      <td>47.6395</td>\n",
       "      <td>-122.234</td>\n",
       "      <td>2980</td>\n",
       "      <td>19602</td>\n",
       "    </tr>\n",
       "    <tr>\n",
       "      <th>6508</th>\n",
       "      <td>4217402115</td>\n",
       "      <td>20150421T000000</td>\n",
       "      <td>3650000.0</td>\n",
       "      <td>6</td>\n",
       "      <td>4.75</td>\n",
       "      <td>5480</td>\n",
       "      <td>19401</td>\n",
       "      <td>1.5</td>\n",
       "      <td>1</td>\n",
       "      <td>4</td>\n",
       "      <td>...</td>\n",
       "      <td>11</td>\n",
       "      <td>3910</td>\n",
       "      <td>1570</td>\n",
       "      <td>1936</td>\n",
       "      <td>0</td>\n",
       "      <td>98105</td>\n",
       "      <td>47.6515</td>\n",
       "      <td>-122.277</td>\n",
       "      <td>3510</td>\n",
       "      <td>15810</td>\n",
       "    </tr>\n",
       "    <tr>\n",
       "      <th>18482</th>\n",
       "      <td>4389201095</td>\n",
       "      <td>20150511T000000</td>\n",
       "      <td>3650000.0</td>\n",
       "      <td>5</td>\n",
       "      <td>3.75</td>\n",
       "      <td>5020</td>\n",
       "      <td>8694</td>\n",
       "      <td>2.0</td>\n",
       "      <td>0</td>\n",
       "      <td>1</td>\n",
       "      <td>...</td>\n",
       "      <td>12</td>\n",
       "      <td>3970</td>\n",
       "      <td>1050</td>\n",
       "      <td>2007</td>\n",
       "      <td>0</td>\n",
       "      <td>98004</td>\n",
       "      <td>47.6146</td>\n",
       "      <td>-122.213</td>\n",
       "      <td>4190</td>\n",
       "      <td>11275</td>\n",
       "    </tr>\n",
       "    <tr>\n",
       "      <th>15255</th>\n",
       "      <td>2425049063</td>\n",
       "      <td>20140911T000000</td>\n",
       "      <td>3640900.0</td>\n",
       "      <td>4</td>\n",
       "      <td>3.25</td>\n",
       "      <td>4830</td>\n",
       "      <td>22257</td>\n",
       "      <td>2.0</td>\n",
       "      <td>1</td>\n",
       "      <td>4</td>\n",
       "      <td>...</td>\n",
       "      <td>11</td>\n",
       "      <td>4830</td>\n",
       "      <td>0</td>\n",
       "      <td>1990</td>\n",
       "      <td>0</td>\n",
       "      <td>98039</td>\n",
       "      <td>47.6409</td>\n",
       "      <td>-122.241</td>\n",
       "      <td>3820</td>\n",
       "      <td>25582</td>\n",
       "    </tr>\n",
       "    <tr>\n",
       "      <th>19148</th>\n",
       "      <td>3625049042</td>\n",
       "      <td>20141011T000000</td>\n",
       "      <td>3635000.0</td>\n",
       "      <td>5</td>\n",
       "      <td>6.00</td>\n",
       "      <td>5490</td>\n",
       "      <td>19897</td>\n",
       "      <td>2.0</td>\n",
       "      <td>0</td>\n",
       "      <td>0</td>\n",
       "      <td>...</td>\n",
       "      <td>12</td>\n",
       "      <td>5490</td>\n",
       "      <td>0</td>\n",
       "      <td>2005</td>\n",
       "      <td>0</td>\n",
       "      <td>98039</td>\n",
       "      <td>47.6165</td>\n",
       "      <td>-122.236</td>\n",
       "      <td>2910</td>\n",
       "      <td>17600</td>\n",
       "    </tr>\n",
       "  </tbody>\n",
       "</table>\n",
       "<p>20 rows × 21 columns</p>\n",
       "</div>"
      ],
      "text/plain": [
       "               id             date      price  bedrooms  bathrooms  \\\n",
       "7252   6762700020  20141013T000000  7700000.0         6       8.00   \n",
       "3914   9808700762  20140611T000000  7062500.0         5       4.50   \n",
       "9254   9208900037  20140919T000000  6885000.0         6       7.75   \n",
       "4411   2470100110  20140804T000000  5570000.0         5       5.75   \n",
       "1448   8907500070  20150413T000000  5350000.0         5       5.00   \n",
       "1315   7558700030  20150413T000000  5300000.0         6       6.00   \n",
       "1164   1247600105  20141020T000000  5110800.0         5       5.25   \n",
       "8092   1924059029  20140617T000000  4668000.0         5       6.75   \n",
       "2626   7738500731  20140815T000000  4500000.0         5       5.50   \n",
       "8638   3835500195  20140618T000000  4489000.0         4       3.00   \n",
       "12370  6065300370  20150506T000000  4208000.0         5       6.00   \n",
       "4149   6447300265  20141014T000000  4000000.0         4       5.50   \n",
       "2085   8106100105  20141114T000000  3850000.0         4       4.25   \n",
       "19017  2303900100  20140911T000000  3800000.0         3       4.25   \n",
       "7035    853200010  20140701T000000  3800000.0         5       5.50   \n",
       "16302  7397300170  20140530T000000  3710000.0         4       3.50   \n",
       "6508   4217402115  20150421T000000  3650000.0         6       4.75   \n",
       "18482  4389201095  20150511T000000  3650000.0         5       3.75   \n",
       "15255  2425049063  20140911T000000  3640900.0         4       3.25   \n",
       "19148  3625049042  20141011T000000  3635000.0         5       6.00   \n",
       "\n",
       "       sqft_living  sqft_lot  floors  waterfront  view  ...  grade  \\\n",
       "7252         12050     27600     2.5           0     3  ...     13   \n",
       "3914         10040     37325     2.0           1     2  ...     11   \n",
       "9254          9890     31374     2.0           0     4  ...     13   \n",
       "4411          9200     35069     2.0           0     0  ...     13   \n",
       "1448          8000     23985     2.0           0     4  ...     12   \n",
       "1315          7390     24829     2.0           1     4  ...     12   \n",
       "1164          8010     45517     2.0           1     4  ...     12   \n",
       "8092          9640     13068     1.0           1     4  ...     12   \n",
       "2626          6640     40014     2.0           1     4  ...     12   \n",
       "8638          6430     27517     2.0           0     0  ...     12   \n",
       "12370         7440     21540     2.0           0     0  ...     12   \n",
       "4149          7080     16573     2.0           0     0  ...     12   \n",
       "2085          5770     21300     2.0           1     4  ...     11   \n",
       "19017         5510     35000     2.0           0     4  ...     13   \n",
       "7035          7050     42840     1.0           0     2  ...     13   \n",
       "16302         5550     28078     2.0           0     2  ...     12   \n",
       "6508          5480     19401     1.5           1     4  ...     11   \n",
       "18482         5020      8694     2.0           0     1  ...     12   \n",
       "15255         4830     22257     2.0           1     4  ...     11   \n",
       "19148         5490     19897     2.0           0     0  ...     12   \n",
       "\n",
       "       sqft_above  sqft_basement  yr_built  yr_renovated  zipcode      lat  \\\n",
       "7252         8570           3480      1910          1987    98102  47.6298   \n",
       "3914         7680           2360      1940          2001    98004  47.6500   \n",
       "9254         8860           1030      2001             0    98039  47.6305   \n",
       "4411         6200           3000      2001             0    98039  47.6289   \n",
       "1448         6720           1280      2009             0    98004  47.6232   \n",
       "1315         5000           2390      1991             0    98040  47.5631   \n",
       "1164         5990           2020      1999             0    98033  47.6767   \n",
       "8092         4820           4820      1983          2009    98040  47.5570   \n",
       "2626         6350            290      2004             0    98155  47.7493   \n",
       "8638         6430              0      2001             0    98004  47.6208   \n",
       "12370        5550           1890      2003             0    98006  47.5692   \n",
       "4149         5760           1320      2008             0    98039  47.6151   \n",
       "2085         5770              0      1980             0    98040  47.5850   \n",
       "19017        4910            600      1997             0    98177  47.7296   \n",
       "7035         4320           2730      1978             0    98004  47.6229   \n",
       "16302        3350           2200      2000             0    98039  47.6395   \n",
       "6508         3910           1570      1936             0    98105  47.6515   \n",
       "18482        3970           1050      2007             0    98004  47.6146   \n",
       "15255        4830              0      1990             0    98039  47.6409   \n",
       "19148        5490              0      2005             0    98039  47.6165   \n",
       "\n",
       "          long  sqft_living15  sqft_lot15  \n",
       "7252  -122.323           3940        8800  \n",
       "3914  -122.214           3930       25449  \n",
       "9254  -122.240           4540       42730  \n",
       "4411  -122.233           3560       24345  \n",
       "1448  -122.220           4600       21750  \n",
       "1315  -122.210           4320       24619  \n",
       "1164  -122.211           3430       26788  \n",
       "8092  -122.210           3270       10454  \n",
       "2626  -122.280           3030       23408  \n",
       "8638  -122.219           3720       14592  \n",
       "12370 -122.189           4740       19329  \n",
       "4149  -122.224           3140       15996  \n",
       "2085  -122.222           4620       22748  \n",
       "19017 -122.370           3430       45302  \n",
       "7035  -122.220           5070       20570  \n",
       "16302 -122.234           2980       19602  \n",
       "6508  -122.277           3510       15810  \n",
       "18482 -122.213           4190       11275  \n",
       "15255 -122.241           3820       25582  \n",
       "19148 -122.236           2910       17600  \n",
       "\n",
       "[20 rows x 21 columns]"
      ]
     },
     "execution_count": 11,
     "metadata": {},
     "output_type": "execute_result"
    }
   ],
   "source": [
    "df.sort_values('price',ascending=False).head(20)"
   ]
  },
  {
   "cell_type": "code",
   "execution_count": 12,
   "id": "a725b18e",
   "metadata": {
    "execution": {
     "iopub.execute_input": "2021-10-04T07:45:06.401270Z",
     "iopub.status.busy": "2021-10-04T07:45:06.400480Z",
     "iopub.status.idle": "2021-10-04T07:45:06.403396Z",
     "shell.execute_reply": "2021-10-04T07:45:06.403848Z",
     "shell.execute_reply.started": "2021-10-04T06:59:41.161481Z"
    },
    "papermill": {
     "duration": 0.065609,
     "end_time": "2021-10-04T07:45:06.404031",
     "exception": false,
     "start_time": "2021-10-04T07:45:06.338422",
     "status": "completed"
    },
    "tags": []
   },
   "outputs": [
    {
     "data": {
      "text/plain": [
       "216.13"
      ]
     },
     "execution_count": 12,
     "metadata": {},
     "output_type": "execute_result"
    }
   ],
   "source": [
    "len(df)*(0.01)"
   ]
  },
  {
   "cell_type": "code",
   "execution_count": 13,
   "id": "2a84cde2",
   "metadata": {
    "execution": {
     "iopub.execute_input": "2021-10-04T07:45:06.523635Z",
     "iopub.status.busy": "2021-10-04T07:45:06.523040Z",
     "iopub.status.idle": "2021-10-04T07:45:06.533290Z",
     "shell.execute_reply": "2021-10-04T07:45:06.532801Z",
     "shell.execute_reply.started": "2021-10-04T07:00:23.141141Z"
    },
    "papermill": {
     "duration": 0.072008,
     "end_time": "2021-10-04T07:45:06.533437",
     "exception": false,
     "start_time": "2021-10-04T07:45:06.461429",
     "status": "completed"
    },
    "tags": []
   },
   "outputs": [],
   "source": [
    "non_top_1_perc = df.sort_values('price',ascending=False).iloc[300:]"
   ]
  },
  {
   "cell_type": "code",
   "execution_count": 14,
   "id": "9e7e6c7c",
   "metadata": {
    "execution": {
     "iopub.execute_input": "2021-10-04T07:45:06.655530Z",
     "iopub.status.busy": "2021-10-04T07:45:06.654745Z",
     "iopub.status.idle": "2021-10-04T07:45:08.018896Z",
     "shell.execute_reply": "2021-10-04T07:45:08.018331Z",
     "shell.execute_reply.started": "2021-10-04T07:00:50.929759Z"
    },
    "papermill": {
     "duration": 1.427099,
     "end_time": "2021-10-04T07:45:08.019045",
     "exception": false,
     "start_time": "2021-10-04T07:45:06.591946",
     "status": "completed"
    },
    "tags": []
   },
   "outputs": [
    {
     "data": {
      "text/plain": [
       "<AxesSubplot:xlabel='long', ylabel='lat'>"
      ]
     },
     "execution_count": 14,
     "metadata": {},
     "output_type": "execute_result"
    },
    {
     "data": {
      "image/png": "[encoded data removed]",
      "text/plain": [
       "<Figure size 864x576 with 1 Axes>"
      ]
     },
     "metadata": {
      "needs_background": "light"
     },
     "output_type": "display_data"
    }
   ],
   "source": [
    "plt.figure(figsize=(12,8))\n",
    "sns.scatterplot(x='long',y='lat',\n",
    "                data=non_top_1_perc,hue='price',\n",
    "                palette='RdYlGn',edgecolor=None,alpha=0.2)"
   ]
  },
  {
   "cell_type": "markdown",
   "id": "819e4166",
   "metadata": {
    "papermill": {
     "duration": 0.0649,
     "end_time": "2021-10-04T07:45:08.149358",
     "exception": false,
     "start_time": "2021-10-04T07:45:08.084458",
     "status": "completed"
    },
    "tags": []
   },
   "source": [
    "Clearly shows the area with high price housings."
   ]
  },
  {
   "cell_type": "markdown",
   "id": "ef290517",
   "metadata": {
    "papermill": {
     "duration": 0.0639,
     "end_time": "2021-10-04T07:45:08.278003",
     "exception": false,
     "start_time": "2021-10-04T07:45:08.214103",
     "status": "completed"
    },
    "tags": []
   },
   "source": [
    "### Other Features"
   ]
  },
  {
   "cell_type": "code",
   "execution_count": 15,
   "id": "1bd2abe7",
   "metadata": {
    "execution": {
     "iopub.execute_input": "2021-10-04T07:45:08.413101Z",
     "iopub.status.busy": "2021-10-04T07:45:08.412154Z",
     "iopub.status.idle": "2021-10-04T07:45:08.611138Z",
     "shell.execute_reply": "2021-10-04T07:45:08.611746Z",
     "shell.execute_reply.started": "2021-10-04T07:02:25.744246Z"
    },
    "papermill": {
     "duration": 0.269403,
     "end_time": "2021-10-04T07:45:08.611911",
     "exception": false,
     "start_time": "2021-10-04T07:45:08.342508",
     "status": "completed"
    },
    "tags": []
   },
   "outputs": [
    {
     "data": {
      "text/plain": [
       "<AxesSubplot:xlabel='waterfront', ylabel='price'>"
      ]
     },
     "execution_count": 15,
     "metadata": {},
     "output_type": "execute_result"
    },
    {
     "data": {
      "image/png": "[encoded data removed]",
      "text/plain": [
       "<Figure size 432x288 with 1 Axes>"
      ]
     },
     "metadata": {
      "needs_background": "light"
     },
     "output_type": "display_data"
    }
   ],
   "source": [
    "sns.boxplot(x='waterfront',y='price',data=df)"
   ]
  },
  {
   "cell_type": "markdown",
   "id": "f9a0ad9c",
   "metadata": {
    "papermill": {
     "duration": 0.064476,
     "end_time": "2021-10-04T07:45:08.741052",
     "exception": false,
     "start_time": "2021-10-04T07:45:08.676576",
     "status": "completed"
    },
    "tags": []
   },
   "source": [
    "So, the waterfront houses are relatively more expensive."
   ]
  },
  {
   "cell_type": "markdown",
   "id": "108a7035",
   "metadata": {
    "papermill": {
     "duration": 0.064457,
     "end_time": "2021-10-04T07:45:08.870631",
     "exception": false,
     "start_time": "2021-10-04T07:45:08.806174",
     "status": "completed"
    },
    "tags": []
   },
   "source": [
    "## Working with Feature Data"
   ]
  },
  {
   "cell_type": "code",
   "execution_count": 16,
   "id": "cd173afd",
   "metadata": {
    "execution": {
     "iopub.execute_input": "2021-10-04T07:45:09.004465Z",
     "iopub.status.busy": "2021-10-04T07:45:09.003889Z",
     "iopub.status.idle": "2021-10-04T07:45:09.024681Z",
     "shell.execute_reply": "2021-10-04T07:45:09.024250Z",
     "shell.execute_reply.started": "2021-10-04T07:03:43.45Z"
    },
    "papermill": {
     "duration": 0.089457,
     "end_time": "2021-10-04T07:45:09.024826",
     "exception": false,
     "start_time": "2021-10-04T07:45:08.935369",
     "status": "completed"
    },
    "tags": []
   },
   "outputs": [
    {
     "data": {
      "text/html": [
       "<div>\n",
       "<style scoped>\n",
       "    .dataframe tbody tr th:only-of-type {\n",
       "        vertical-align: middle;\n",
       "    }\n",
       "\n",
       "    .dataframe tbody tr th {\n",
       "        vertical-align: top;\n",
       "    }\n",
       "\n",
       "    .dataframe thead th {\n",
       "        text-align: right;\n",
       "    }\n",
       "</style>\n",
       "<table border=\"1\" class=\"dataframe\">\n",
       "  <thead>\n",
       "    <tr style=\"text-align: right;\">\n",
       "      <th></th>\n",
       "      <th>id</th>\n",
       "      <th>date</th>\n",
       "      <th>price</th>\n",
       "      <th>bedrooms</th>\n",
       "      <th>bathrooms</th>\n",
       "      <th>sqft_living</th>\n",
       "      <th>sqft_lot</th>\n",
       "      <th>floors</th>\n",
       "      <th>waterfront</th>\n",
       "      <th>view</th>\n",
       "      <th>...</th>\n",
       "      <th>grade</th>\n",
       "      <th>sqft_above</th>\n",
       "      <th>sqft_basement</th>\n",
       "      <th>yr_built</th>\n",
       "      <th>yr_renovated</th>\n",
       "      <th>zipcode</th>\n",
       "      <th>lat</th>\n",
       "      <th>long</th>\n",
       "      <th>sqft_living15</th>\n",
       "      <th>sqft_lot15</th>\n",
       "    </tr>\n",
       "  </thead>\n",
       "  <tbody>\n",
       "    <tr>\n",
       "      <th>0</th>\n",
       "      <td>7129300520</td>\n",
       "      <td>20141013T000000</td>\n",
       "      <td>221900.0</td>\n",
       "      <td>3</td>\n",
       "      <td>1.00</td>\n",
       "      <td>1180</td>\n",
       "      <td>5650</td>\n",
       "      <td>1.0</td>\n",
       "      <td>0</td>\n",
       "      <td>0</td>\n",
       "      <td>...</td>\n",
       "      <td>7</td>\n",
       "      <td>1180</td>\n",
       "      <td>0</td>\n",
       "      <td>1955</td>\n",
       "      <td>0</td>\n",
       "      <td>98178</td>\n",
       "      <td>47.5112</td>\n",
       "      <td>-122.257</td>\n",
       "      <td>1340</td>\n",
       "      <td>5650</td>\n",
       "    </tr>\n",
       "    <tr>\n",
       "      <th>1</th>\n",
       "      <td>6414100192</td>\n",
       "      <td>20141209T000000</td>\n",
       "      <td>538000.0</td>\n",
       "      <td>3</td>\n",
       "      <td>2.25</td>\n",
       "      <td>2570</td>\n",
       "      <td>7242</td>\n",
       "      <td>2.0</td>\n",
       "      <td>0</td>\n",
       "      <td>0</td>\n",
       "      <td>...</td>\n",
       "      <td>7</td>\n",
       "      <td>2170</td>\n",
       "      <td>400</td>\n",
       "      <td>1951</td>\n",
       "      <td>1991</td>\n",
       "      <td>98125</td>\n",
       "      <td>47.7210</td>\n",
       "      <td>-122.319</td>\n",
       "      <td>1690</td>\n",
       "      <td>7639</td>\n",
       "    </tr>\n",
       "    <tr>\n",
       "      <th>2</th>\n",
       "      <td>5631500400</td>\n",
       "      <td>20150225T000000</td>\n",
       "      <td>180000.0</td>\n",
       "      <td>2</td>\n",
       "      <td>1.00</td>\n",
       "      <td>770</td>\n",
       "      <td>10000</td>\n",
       "      <td>1.0</td>\n",
       "      <td>0</td>\n",
       "      <td>0</td>\n",
       "      <td>...</td>\n",
       "      <td>6</td>\n",
       "      <td>770</td>\n",
       "      <td>0</td>\n",
       "      <td>1933</td>\n",
       "      <td>0</td>\n",
       "      <td>98028</td>\n",
       "      <td>47.7379</td>\n",
       "      <td>-122.233</td>\n",
       "      <td>2720</td>\n",
       "      <td>8062</td>\n",
       "    </tr>\n",
       "    <tr>\n",
       "      <th>3</th>\n",
       "      <td>2487200875</td>\n",
       "      <td>20141209T000000</td>\n",
       "      <td>604000.0</td>\n",
       "      <td>4</td>\n",
       "      <td>3.00</td>\n",
       "      <td>1960</td>\n",
       "      <td>5000</td>\n",
       "      <td>1.0</td>\n",
       "      <td>0</td>\n",
       "      <td>0</td>\n",
       "      <td>...</td>\n",
       "      <td>7</td>\n",
       "      <td>1050</td>\n",
       "      <td>910</td>\n",
       "      <td>1965</td>\n",
       "      <td>0</td>\n",
       "      <td>98136</td>\n",
       "      <td>47.5208</td>\n",
       "      <td>-122.393</td>\n",
       "      <td>1360</td>\n",
       "      <td>5000</td>\n",
       "    </tr>\n",
       "    <tr>\n",
       "      <th>4</th>\n",
       "      <td>1954400510</td>\n",
       "      <td>20150218T000000</td>\n",
       "      <td>510000.0</td>\n",
       "      <td>3</td>\n",
       "      <td>2.00</td>\n",
       "      <td>1680</td>\n",
       "      <td>8080</td>\n",
       "      <td>1.0</td>\n",
       "      <td>0</td>\n",
       "      <td>0</td>\n",
       "      <td>...</td>\n",
       "      <td>8</td>\n",
       "      <td>1680</td>\n",
       "      <td>0</td>\n",
       "      <td>1987</td>\n",
       "      <td>0</td>\n",
       "      <td>98074</td>\n",
       "      <td>47.6168</td>\n",
       "      <td>-122.045</td>\n",
       "      <td>1800</td>\n",
       "      <td>7503</td>\n",
       "    </tr>\n",
       "  </tbody>\n",
       "</table>\n",
       "<p>5 rows × 21 columns</p>\n",
       "</div>"
      ],
      "text/plain": [
       "           id             date     price  bedrooms  bathrooms  sqft_living  \\\n",
       "0  7129300520  20141013T000000  221900.0         3       1.00         1180   \n",
       "1  6414100192  20141209T000000  538000.0         3       2.25         2570   \n",
       "2  5631500400  20150225T000000  180000.0         2       1.00          770   \n",
       "3  2487200875  20141209T000000  604000.0         4       3.00         1960   \n",
       "4  1954400510  20150218T000000  510000.0         3       2.00         1680   \n",
       "\n",
       "   sqft_lot  floors  waterfront  view  ...  grade  sqft_above  sqft_basement  \\\n",
       "0      5650     1.0           0     0  ...      7        1180              0   \n",
       "1      7242     2.0           0     0  ...      7        2170            400   \n",
       "2     10000     1.0           0     0  ...      6         770              0   \n",
       "3      5000     1.0           0     0  ...      7        1050            910   \n",
       "4      8080     1.0           0     0  ...      8        1680              0   \n",
       "\n",
       "   yr_built  yr_renovated  zipcode      lat     long  sqft_living15  \\\n",
       "0      1955             0    98178  47.5112 -122.257           1340   \n",
       "1      1951          1991    98125  47.7210 -122.319           1690   \n",
       "2      1933             0    98028  47.7379 -122.233           2720   \n",
       "3      1965             0    98136  47.5208 -122.393           1360   \n",
       "4      1987             0    98074  47.6168 -122.045           1800   \n",
       "\n",
       "   sqft_lot15  \n",
       "0        5650  \n",
       "1        7639  \n",
       "2        8062  \n",
       "3        5000  \n",
       "4        7503  \n",
       "\n",
       "[5 rows x 21 columns]"
      ]
     },
     "execution_count": 16,
     "metadata": {},
     "output_type": "execute_result"
    }
   ],
   "source": [
    "df.head(5)"
   ]
  },
  {
   "cell_type": "code",
   "execution_count": 17,
   "id": "32d7ba4d",
   "metadata": {
    "execution": {
     "iopub.execute_input": "2021-10-04T07:45:09.160750Z",
     "iopub.status.busy": "2021-10-04T07:45:09.160189Z",
     "iopub.status.idle": "2021-10-04T07:45:09.175038Z",
     "shell.execute_reply": "2021-10-04T07:45:09.174356Z",
     "shell.execute_reply.started": "2021-10-04T07:04:21.790843Z"
    },
    "papermill": {
     "duration": 0.085194,
     "end_time": "2021-10-04T07:45:09.175221",
     "exception": false,
     "start_time": "2021-10-04T07:45:09.090027",
     "status": "completed"
    },
    "tags": []
   },
   "outputs": [
    {
     "name": "stdout",
     "output_type": "stream",
     "text": [
      "<class 'pandas.core.frame.DataFrame'>\n",
      "RangeIndex: 21613 entries, 0 to 21612\n",
      "Data columns (total 21 columns):\n",
      " #   Column         Non-Null Count  Dtype  \n",
      "---  ------         --------------  -----  \n",
      " 0   id             21613 non-null  int64  \n",
      " 1   date           21613 non-null  object \n",
      " 2   price          21613 non-null  float64\n",
      " 3   bedrooms       21613 non-null  int64  \n",
      " 4   bathrooms      21613 non-null  float64\n",
      " 5   sqft_living    21613 non-null  int64  \n",
      " 6   sqft_lot       21613 non-null  int64  \n",
      " 7   floors         21613 non-null  float64\n",
      " 8   waterfront     21613 non-null  int64  \n",
      " 9   view           21613 non-null  int64  \n",
      " 10  condition      21613 non-null  int64  \n",
      " 11  grade          21613 non-null  int64  \n",
      " 12  sqft_above     21613 non-null  int64  \n",
      " 13  sqft_basement  21613 non-null  int64  \n",
      " 14  yr_built       21613 non-null  int64  \n",
      " 15  yr_renovated   21613 non-null  int64  \n",
      " 16  zipcode        21613 non-null  int64  \n",
      " 17  lat            21613 non-null  float64\n",
      " 18  long           21613 non-null  float64\n",
      " 19  sqft_living15  21613 non-null  int64  \n",
      " 20  sqft_lot15     21613 non-null  int64  \n",
      "dtypes: float64(5), int64(15), object(1)\n",
      "memory usage: 3.5+ MB\n"
     ]
    }
   ],
   "source": [
    "df.info()"
   ]
  },
  {
   "cell_type": "markdown",
   "id": "48854111",
   "metadata": {
    "papermill": {
     "duration": 0.065398,
     "end_time": "2021-10-04T07:45:09.307416",
     "exception": false,
     "start_time": "2021-10-04T07:45:09.242018",
     "status": "completed"
    },
    "tags": []
   },
   "source": [
    "we can delete id column, and date column is not in datetime formate."
   ]
  },
  {
   "cell_type": "code",
   "execution_count": 18,
   "id": "014c782a",
   "metadata": {
    "execution": {
     "iopub.execute_input": "2021-10-04T07:45:09.443028Z",
     "iopub.status.busy": "2021-10-04T07:45:09.442441Z",
     "iopub.status.idle": "2021-10-04T07:45:09.448677Z",
     "shell.execute_reply": "2021-10-04T07:45:09.448217Z",
     "shell.execute_reply.started": "2021-10-04T07:05:15.039856Z"
    },
    "papermill": {
     "duration": 0.075689,
     "end_time": "2021-10-04T07:45:09.448817",
     "exception": false,
     "start_time": "2021-10-04T07:45:09.373128",
     "status": "completed"
    },
    "tags": []
   },
   "outputs": [],
   "source": [
    "df = df.drop('id',axis=1)"
   ]
  },
  {
   "cell_type": "code",
   "execution_count": 19,
   "id": "443d960c",
   "metadata": {
    "execution": {
     "iopub.execute_input": "2021-10-04T07:45:09.599928Z",
     "iopub.status.busy": "2021-10-04T07:45:09.585690Z",
     "iopub.status.idle": "2021-10-04T07:45:09.603519Z",
     "shell.execute_reply": "2021-10-04T07:45:09.602975Z",
     "shell.execute_reply.started": "2021-10-04T07:05:29.595011Z"
    },
    "papermill": {
     "duration": 0.087869,
     "end_time": "2021-10-04T07:45:09.603656",
     "exception": false,
     "start_time": "2021-10-04T07:45:09.515787",
     "status": "completed"
    },
    "tags": []
   },
   "outputs": [
    {
     "data": {
      "text/html": [
       "<div>\n",
       "<style scoped>\n",
       "    .dataframe tbody tr th:only-of-type {\n",
       "        vertical-align: middle;\n",
       "    }\n",
       "\n",
       "    .dataframe tbody tr th {\n",
       "        vertical-align: top;\n",
       "    }\n",
       "\n",
       "    .dataframe thead th {\n",
       "        text-align: right;\n",
       "    }\n",
       "</style>\n",
       "<table border=\"1\" class=\"dataframe\">\n",
       "  <thead>\n",
       "    <tr style=\"text-align: right;\">\n",
       "      <th></th>\n",
       "      <th>date</th>\n",
       "      <th>price</th>\n",
       "      <th>bedrooms</th>\n",
       "      <th>bathrooms</th>\n",
       "      <th>sqft_living</th>\n",
       "      <th>sqft_lot</th>\n",
       "      <th>floors</th>\n",
       "      <th>waterfront</th>\n",
       "      <th>view</th>\n",
       "      <th>condition</th>\n",
       "      <th>grade</th>\n",
       "      <th>sqft_above</th>\n",
       "      <th>sqft_basement</th>\n",
       "      <th>yr_built</th>\n",
       "      <th>yr_renovated</th>\n",
       "      <th>zipcode</th>\n",
       "      <th>lat</th>\n",
       "      <th>long</th>\n",
       "      <th>sqft_living15</th>\n",
       "      <th>sqft_lot15</th>\n",
       "    </tr>\n",
       "  </thead>\n",
       "  <tbody>\n",
       "    <tr>\n",
       "      <th>0</th>\n",
       "      <td>20141013T000000</td>\n",
       "      <td>221900.0</td>\n",
       "      <td>3</td>\n",
       "      <td>1.00</td>\n",
       "      <td>1180</td>\n",
       "      <td>5650</td>\n",
       "      <td>1.0</td>\n",
       "      <td>0</td>\n",
       "      <td>0</td>\n",
       "      <td>3</td>\n",
       "      <td>7</td>\n",
       "      <td>1180</td>\n",
       "      <td>0</td>\n",
       "      <td>1955</td>\n",
       "      <td>0</td>\n",
       "      <td>98178</td>\n",
       "      <td>47.5112</td>\n",
       "      <td>-122.257</td>\n",
       "      <td>1340</td>\n",
       "      <td>5650</td>\n",
       "    </tr>\n",
       "    <tr>\n",
       "      <th>1</th>\n",
       "      <td>20141209T000000</td>\n",
       "      <td>538000.0</td>\n",
       "      <td>3</td>\n",
       "      <td>2.25</td>\n",
       "      <td>2570</td>\n",
       "      <td>7242</td>\n",
       "      <td>2.0</td>\n",
       "      <td>0</td>\n",
       "      <td>0</td>\n",
       "      <td>3</td>\n",
       "      <td>7</td>\n",
       "      <td>2170</td>\n",
       "      <td>400</td>\n",
       "      <td>1951</td>\n",
       "      <td>1991</td>\n",
       "      <td>98125</td>\n",
       "      <td>47.7210</td>\n",
       "      <td>-122.319</td>\n",
       "      <td>1690</td>\n",
       "      <td>7639</td>\n",
       "    </tr>\n",
       "    <tr>\n",
       "      <th>2</th>\n",
       "      <td>20150225T000000</td>\n",
       "      <td>180000.0</td>\n",
       "      <td>2</td>\n",
       "      <td>1.00</td>\n",
       "      <td>770</td>\n",
       "      <td>10000</td>\n",
       "      <td>1.0</td>\n",
       "      <td>0</td>\n",
       "      <td>0</td>\n",
       "      <td>3</td>\n",
       "      <td>6</td>\n",
       "      <td>770</td>\n",
       "      <td>0</td>\n",
       "      <td>1933</td>\n",
       "      <td>0</td>\n",
       "      <td>98028</td>\n",
       "      <td>47.7379</td>\n",
       "      <td>-122.233</td>\n",
       "      <td>2720</td>\n",
       "      <td>8062</td>\n",
       "    </tr>\n",
       "    <tr>\n",
       "      <th>3</th>\n",
       "      <td>20141209T000000</td>\n",
       "      <td>604000.0</td>\n",
       "      <td>4</td>\n",
       "      <td>3.00</td>\n",
       "      <td>1960</td>\n",
       "      <td>5000</td>\n",
       "      <td>1.0</td>\n",
       "      <td>0</td>\n",
       "      <td>0</td>\n",
       "      <td>5</td>\n",
       "      <td>7</td>\n",
       "      <td>1050</td>\n",
       "      <td>910</td>\n",
       "      <td>1965</td>\n",
       "      <td>0</td>\n",
       "      <td>98136</td>\n",
       "      <td>47.5208</td>\n",
       "      <td>-122.393</td>\n",
       "      <td>1360</td>\n",
       "      <td>5000</td>\n",
       "    </tr>\n",
       "    <tr>\n",
       "      <th>4</th>\n",
       "      <td>20150218T000000</td>\n",
       "      <td>510000.0</td>\n",
       "      <td>3</td>\n",
       "      <td>2.00</td>\n",
       "      <td>1680</td>\n",
       "      <td>8080</td>\n",
       "      <td>1.0</td>\n",
       "      <td>0</td>\n",
       "      <td>0</td>\n",
       "      <td>3</td>\n",
       "      <td>8</td>\n",
       "      <td>1680</td>\n",
       "      <td>0</td>\n",
       "      <td>1987</td>\n",
       "      <td>0</td>\n",
       "      <td>98074</td>\n",
       "      <td>47.6168</td>\n",
       "      <td>-122.045</td>\n",
       "      <td>1800</td>\n",
       "      <td>7503</td>\n",
       "    </tr>\n",
       "  </tbody>\n",
       "</table>\n",
       "</div>"
      ],
      "text/plain": [
       "              date     price  bedrooms  bathrooms  sqft_living  sqft_lot  \\\n",
       "0  20141013T000000  221900.0         3       1.00         1180      5650   \n",
       "1  20141209T000000  538000.0         3       2.25         2570      7242   \n",
       "2  20150225T000000  180000.0         2       1.00          770     10000   \n",
       "3  20141209T000000  604000.0         4       3.00         1960      5000   \n",
       "4  20150218T000000  510000.0         3       2.00         1680      8080   \n",
       "\n",
       "   floors  waterfront  view  condition  grade  sqft_above  sqft_basement  \\\n",
       "0     1.0           0     0          3      7        1180              0   \n",
       "1     2.0           0     0          3      7        2170            400   \n",
       "2     1.0           0     0          3      6         770              0   \n",
       "3     1.0           0     0          5      7        1050            910   \n",
       "4     1.0           0     0          3      8        1680              0   \n",
       "\n",
       "   yr_built  yr_renovated  zipcode      lat     long  sqft_living15  \\\n",
       "0      1955             0    98178  47.5112 -122.257           1340   \n",
       "1      1951          1991    98125  47.7210 -122.319           1690   \n",
       "2      1933             0    98028  47.7379 -122.233           2720   \n",
       "3      1965             0    98136  47.5208 -122.393           1360   \n",
       "4      1987             0    98074  47.6168 -122.045           1800   \n",
       "\n",
       "   sqft_lot15  \n",
       "0        5650  \n",
       "1        7639  \n",
       "2        8062  \n",
       "3        5000  \n",
       "4        7503  "
      ]
     },
     "execution_count": 19,
     "metadata": {},
     "output_type": "execute_result"
    }
   ],
   "source": [
    "df.head(5)"
   ]
  },
  {
   "cell_type": "code",
   "execution_count": 20,
   "id": "846995da",
   "metadata": {
    "execution": {
     "iopub.execute_input": "2021-10-04T07:45:09.743221Z",
     "iopub.status.busy": "2021-10-04T07:45:09.742435Z",
     "iopub.status.idle": "2021-10-04T07:45:09.750743Z",
     "shell.execute_reply": "2021-10-04T07:45:09.751247Z",
     "shell.execute_reply.started": "2021-10-04T07:06:07.209119Z"
    },
    "papermill": {
     "duration": 0.081558,
     "end_time": "2021-10-04T07:45:09.751412",
     "exception": false,
     "start_time": "2021-10-04T07:45:09.669854",
     "status": "completed"
    },
    "tags": []
   },
   "outputs": [],
   "source": [
    "df['date'] = pd.to_datetime(df['date'])"
   ]
  },
  {
   "cell_type": "code",
   "execution_count": 21,
   "id": "6440e98c",
   "metadata": {
    "execution": {
     "iopub.execute_input": "2021-10-04T07:45:09.887542Z",
     "iopub.status.busy": "2021-10-04T07:45:09.886656Z",
     "iopub.status.idle": "2021-10-04T07:45:09.904108Z",
     "shell.execute_reply": "2021-10-04T07:45:09.903641Z",
     "shell.execute_reply.started": "2021-10-04T07:06:18.103402Z"
    },
    "papermill": {
     "duration": 0.086857,
     "end_time": "2021-10-04T07:45:09.904247",
     "exception": false,
     "start_time": "2021-10-04T07:45:09.817390",
     "status": "completed"
    },
    "tags": []
   },
   "outputs": [
    {
     "data": {
      "text/html": [
       "<div>\n",
       "<style scoped>\n",
       "    .dataframe tbody tr th:only-of-type {\n",
       "        vertical-align: middle;\n",
       "    }\n",
       "\n",
       "    .dataframe tbody tr th {\n",
       "        vertical-align: top;\n",
       "    }\n",
       "\n",
       "    .dataframe thead th {\n",
       "        text-align: right;\n",
       "    }\n",
       "</style>\n",
       "<table border=\"1\" class=\"dataframe\">\n",
       "  <thead>\n",
       "    <tr style=\"text-align: right;\">\n",
       "      <th></th>\n",
       "      <th>date</th>\n",
       "      <th>price</th>\n",
       "      <th>bedrooms</th>\n",
       "      <th>bathrooms</th>\n",
       "      <th>sqft_living</th>\n",
       "      <th>sqft_lot</th>\n",
       "      <th>floors</th>\n",
       "      <th>waterfront</th>\n",
       "      <th>view</th>\n",
       "      <th>condition</th>\n",
       "      <th>grade</th>\n",
       "      <th>sqft_above</th>\n",
       "      <th>sqft_basement</th>\n",
       "      <th>yr_built</th>\n",
       "      <th>yr_renovated</th>\n",
       "      <th>zipcode</th>\n",
       "      <th>lat</th>\n",
       "      <th>long</th>\n",
       "      <th>sqft_living15</th>\n",
       "      <th>sqft_lot15</th>\n",
       "    </tr>\n",
       "  </thead>\n",
       "  <tbody>\n",
       "    <tr>\n",
       "      <th>0</th>\n",
       "      <td>2014-10-13</td>\n",
       "      <td>221900.0</td>\n",
       "      <td>3</td>\n",
       "      <td>1.00</td>\n",
       "      <td>1180</td>\n",
       "      <td>5650</td>\n",
       "      <td>1.0</td>\n",
       "      <td>0</td>\n",
       "      <td>0</td>\n",
       "      <td>3</td>\n",
       "      <td>7</td>\n",
       "      <td>1180</td>\n",
       "      <td>0</td>\n",
       "      <td>1955</td>\n",
       "      <td>0</td>\n",
       "      <td>98178</td>\n",
       "      <td>47.5112</td>\n",
       "      <td>-122.257</td>\n",
       "      <td>1340</td>\n",
       "      <td>5650</td>\n",
       "    </tr>\n",
       "    <tr>\n",
       "      <th>1</th>\n",
       "      <td>2014-12-09</td>\n",
       "      <td>538000.0</td>\n",
       "      <td>3</td>\n",
       "      <td>2.25</td>\n",
       "      <td>2570</td>\n",
       "      <td>7242</td>\n",
       "      <td>2.0</td>\n",
       "      <td>0</td>\n",
       "      <td>0</td>\n",
       "      <td>3</td>\n",
       "      <td>7</td>\n",
       "      <td>2170</td>\n",
       "      <td>400</td>\n",
       "      <td>1951</td>\n",
       "      <td>1991</td>\n",
       "      <td>98125</td>\n",
       "      <td>47.7210</td>\n",
       "      <td>-122.319</td>\n",
       "      <td>1690</td>\n",
       "      <td>7639</td>\n",
       "    </tr>\n",
       "    <tr>\n",
       "      <th>2</th>\n",
       "      <td>2015-02-25</td>\n",
       "      <td>180000.0</td>\n",
       "      <td>2</td>\n",
       "      <td>1.00</td>\n",
       "      <td>770</td>\n",
       "      <td>10000</td>\n",
       "      <td>1.0</td>\n",
       "      <td>0</td>\n",
       "      <td>0</td>\n",
       "      <td>3</td>\n",
       "      <td>6</td>\n",
       "      <td>770</td>\n",
       "      <td>0</td>\n",
       "      <td>1933</td>\n",
       "      <td>0</td>\n",
       "      <td>98028</td>\n",
       "      <td>47.7379</td>\n",
       "      <td>-122.233</td>\n",
       "      <td>2720</td>\n",
       "      <td>8062</td>\n",
       "    </tr>\n",
       "    <tr>\n",
       "      <th>3</th>\n",
       "      <td>2014-12-09</td>\n",
       "      <td>604000.0</td>\n",
       "      <td>4</td>\n",
       "      <td>3.00</td>\n",
       "      <td>1960</td>\n",
       "      <td>5000</td>\n",
       "      <td>1.0</td>\n",
       "      <td>0</td>\n",
       "      <td>0</td>\n",
       "      <td>5</td>\n",
       "      <td>7</td>\n",
       "      <td>1050</td>\n",
       "      <td>910</td>\n",
       "      <td>1965</td>\n",
       "      <td>0</td>\n",
       "      <td>98136</td>\n",
       "      <td>47.5208</td>\n",
       "      <td>-122.393</td>\n",
       "      <td>1360</td>\n",
       "      <td>5000</td>\n",
       "    </tr>\n",
       "    <tr>\n",
       "      <th>4</th>\n",
       "      <td>2015-02-18</td>\n",
       "      <td>510000.0</td>\n",
       "      <td>3</td>\n",
       "      <td>2.00</td>\n",
       "      <td>1680</td>\n",
       "      <td>8080</td>\n",
       "      <td>1.0</td>\n",
       "      <td>0</td>\n",
       "      <td>0</td>\n",
       "      <td>3</td>\n",
       "      <td>8</td>\n",
       "      <td>1680</td>\n",
       "      <td>0</td>\n",
       "      <td>1987</td>\n",
       "      <td>0</td>\n",
       "      <td>98074</td>\n",
       "      <td>47.6168</td>\n",
       "      <td>-122.045</td>\n",
       "      <td>1800</td>\n",
       "      <td>7503</td>\n",
       "    </tr>\n",
       "  </tbody>\n",
       "</table>\n",
       "</div>"
      ],
      "text/plain": [
       "        date     price  bedrooms  bathrooms  sqft_living  sqft_lot  floors  \\\n",
       "0 2014-10-13  221900.0         3       1.00         1180      5650     1.0   \n",
       "1 2014-12-09  538000.0         3       2.25         2570      7242     2.0   \n",
       "2 2015-02-25  180000.0         2       1.00          770     10000     1.0   \n",
       "3 2014-12-09  604000.0         4       3.00         1960      5000     1.0   \n",
       "4 2015-02-18  510000.0         3       2.00         1680      8080     1.0   \n",
       "\n",
       "   waterfront  view  condition  grade  sqft_above  sqft_basement  yr_built  \\\n",
       "0           0     0          3      7        1180              0      1955   \n",
       "1           0     0          3      7        2170            400      1951   \n",
       "2           0     0          3      6         770              0      1933   \n",
       "3           0     0          5      7        1050            910      1965   \n",
       "4           0     0          3      8        1680              0      1987   \n",
       "\n",
       "   yr_renovated  zipcode      lat     long  sqft_living15  sqft_lot15  \n",
       "0             0    98178  47.5112 -122.257           1340        5650  \n",
       "1          1991    98125  47.7210 -122.319           1690        7639  \n",
       "2             0    98028  47.7379 -122.233           2720        8062  \n",
       "3             0    98136  47.5208 -122.393           1360        5000  \n",
       "4             0    98074  47.6168 -122.045           1800        7503  "
      ]
     },
     "execution_count": 21,
     "metadata": {},
     "output_type": "execute_result"
    }
   ],
   "source": [
    "df.head(5)"
   ]
  },
  {
   "cell_type": "code",
   "execution_count": 22,
   "id": "5fc1a1db",
   "metadata": {
    "execution": {
     "iopub.execute_input": "2021-10-04T07:45:10.042424Z",
     "iopub.status.busy": "2021-10-04T07:45:10.041500Z",
     "iopub.status.idle": "2021-10-04T07:45:10.213613Z",
     "shell.execute_reply": "2021-10-04T07:45:10.214122Z",
     "shell.execute_reply.started": "2021-10-04T07:06:57.544447Z"
    },
    "papermill": {
     "duration": 0.243197,
     "end_time": "2021-10-04T07:45:10.214305",
     "exception": false,
     "start_time": "2021-10-04T07:45:09.971108",
     "status": "completed"
    },
    "tags": []
   },
   "outputs": [],
   "source": [
    "df['year'] = df['date'].apply(lambda date:date.year)\n",
    "df['month'] = df['date'].apply(lambda date:date.month)"
   ]
  },
  {
   "cell_type": "code",
   "execution_count": 23,
   "id": "d8e2ae7d",
   "metadata": {
    "execution": {
     "iopub.execute_input": "2021-10-04T07:45:10.353842Z",
     "iopub.status.busy": "2021-10-04T07:45:10.353248Z",
     "iopub.status.idle": "2021-10-04T07:45:10.550614Z",
     "shell.execute_reply": "2021-10-04T07:45:10.551064Z",
     "shell.execute_reply.started": "2021-10-04T07:08:04.384632Z"
    },
    "papermill": {
     "duration": 0.268682,
     "end_time": "2021-10-04T07:45:10.551251",
     "exception": false,
     "start_time": "2021-10-04T07:45:10.282569",
     "status": "completed"
    },
    "tags": []
   },
   "outputs": [
    {
     "data": {
      "text/plain": [
       "<AxesSubplot:xlabel='year', ylabel='price'>"
      ]
     },
     "execution_count": 23,
     "metadata": {},
     "output_type": "execute_result"
    },
    {
     "data": {
      "image/png": "[encoded data removed]",
      "text/plain": [
       "<Figure size 432x288 with 1 Axes>"
      ]
     },
     "metadata": {
      "needs_background": "light"
     },
     "output_type": "display_data"
    }
   ],
   "source": [
    "sns.boxplot(x='year',y='price',data=df)"
   ]
  },
  {
   "cell_type": "markdown",
   "id": "953b25d6",
   "metadata": {
    "papermill": {
     "duration": 0.066842,
     "end_time": "2021-10-04T07:45:10.685926",
     "exception": false,
     "start_time": "2021-10-04T07:45:10.619084",
     "status": "completed"
    },
    "tags": []
   },
   "source": [
    "2014 and 2015 data. "
   ]
  },
  {
   "cell_type": "code",
   "execution_count": 24,
   "id": "21f135fd",
   "metadata": {
    "execution": {
     "iopub.execute_input": "2021-10-04T07:45:10.829961Z",
     "iopub.status.busy": "2021-10-04T07:45:10.829094Z",
     "iopub.status.idle": "2021-10-04T07:45:11.191564Z",
     "shell.execute_reply": "2021-10-04T07:45:11.192023Z",
     "shell.execute_reply.started": "2021-10-04T07:08:45.114644Z"
    },
    "papermill": {
     "duration": 0.43877,
     "end_time": "2021-10-04T07:45:11.192221",
     "exception": false,
     "start_time": "2021-10-04T07:45:10.753451",
     "status": "completed"
    },
    "tags": []
   },
   "outputs": [
    {
     "data": {
      "text/plain": [
       "<AxesSubplot:xlabel='month', ylabel='price'>"
      ]
     },
     "execution_count": 24,
     "metadata": {},
     "output_type": "execute_result"
    },
    {
     "data": {
      "image/png": "[encoded data removed]",
      "text/plain": [
       "<Figure size 432x288 with 1 Axes>"
      ]
     },
     "metadata": {
      "needs_background": "light"
     },
     "output_type": "display_data"
    }
   ],
   "source": [
    "sns.boxplot(x='month',y='price',data=df)"
   ]
  },
  {
   "cell_type": "code",
   "execution_count": 25,
   "id": "d83b7954",
   "metadata": {
    "execution": {
     "iopub.execute_input": "2021-10-04T07:45:11.340092Z",
     "iopub.status.busy": "2021-10-04T07:45:11.339449Z",
     "iopub.status.idle": "2021-10-04T07:45:11.665861Z",
     "shell.execute_reply": "2021-10-04T07:45:11.666295Z",
     "shell.execute_reply.started": "2021-10-04T07:09:10.43739Z"
    },
    "papermill": {
     "duration": 0.405538,
     "end_time": "2021-10-04T07:45:11.666459",
     "exception": false,
     "start_time": "2021-10-04T07:45:11.260921",
     "status": "completed"
    },
    "tags": []
   },
   "outputs": [
    {
     "data": {
      "text/plain": [
       "<AxesSubplot:xlabel='month'>"
      ]
     },
     "execution_count": 25,
     "metadata": {},
     "output_type": "execute_result"
    },
    {
     "data": {
      "image/png": "[encoded data removed]",
      "text/plain": [
       "<Figure size 432x288 with 1 Axes>"
      ]
     },
     "metadata": {
      "needs_background": "light"
     },
     "output_type": "display_data"
    }
   ],
   "source": [
    "df.groupby('month').mean()['price'].plot()"
   ]
  },
  {
   "cell_type": "markdown",
   "id": "9d87be9e",
   "metadata": {
    "papermill": {
     "duration": 0.070554,
     "end_time": "2021-10-04T07:45:11.808415",
     "exception": false,
     "start_time": "2021-10-04T07:45:11.737861",
     "status": "completed"
    },
    "tags": []
   },
   "source": [
    "March to July months has more iprice hike in housing."
   ]
  },
  {
   "cell_type": "code",
   "execution_count": 26,
   "id": "a2cda9e9",
   "metadata": {
    "execution": {
     "iopub.execute_input": "2021-10-04T07:45:11.958007Z",
     "iopub.status.busy": "2021-10-04T07:45:11.957383Z",
     "iopub.status.idle": "2021-10-04T07:45:12.169708Z",
     "shell.execute_reply": "2021-10-04T07:45:12.168951Z",
     "shell.execute_reply.started": "2021-10-04T07:10:50.951791Z"
    },
    "papermill": {
     "duration": 0.290997,
     "end_time": "2021-10-04T07:45:12.169861",
     "exception": false,
     "start_time": "2021-10-04T07:45:11.878864",
     "status": "completed"
    },
    "tags": []
   },
   "outputs": [
    {
     "data": {
      "text/plain": [
       "<AxesSubplot:xlabel='year'>"
      ]
     },
     "execution_count": 26,
     "metadata": {},
     "output_type": "execute_result"
    },
    {
     "data": {
      "image/png": "[encoded data removed]",
      "text/plain": [
       "<Figure size 432x288 with 1 Axes>"
      ]
     },
     "metadata": {
      "needs_background": "light"
     },
     "output_type": "display_data"
    }
   ],
   "source": [
    "df.groupby('year').mean()['price'].plot()"
   ]
  },
  {
   "cell_type": "markdown",
   "id": "7d17c2d3",
   "metadata": {
    "papermill": {
     "duration": 0.069828,
     "end_time": "2021-10-04T07:45:12.313034",
     "exception": false,
     "start_time": "2021-10-04T07:45:12.243206",
     "status": "completed"
    },
    "tags": []
   },
   "source": [
    "and obviously with the years price increases. it may have lot of reasons, also inflation is one of them."
   ]
  },
  {
   "cell_type": "code",
   "execution_count": 27,
   "id": "1728605e",
   "metadata": {
    "execution": {
     "iopub.execute_input": "2021-10-04T07:45:12.456891Z",
     "iopub.status.busy": "2021-10-04T07:45:12.456001Z",
     "iopub.status.idle": "2021-10-04T07:45:12.463390Z",
     "shell.execute_reply": "2021-10-04T07:45:12.463878Z",
     "shell.execute_reply.started": "2021-10-04T07:12:03.852292Z"
    },
    "papermill": {
     "duration": 0.080723,
     "end_time": "2021-10-04T07:45:12.464053",
     "exception": false,
     "start_time": "2021-10-04T07:45:12.383330",
     "status": "completed"
    },
    "tags": []
   },
   "outputs": [],
   "source": [
    "df = df.drop('date',axis=1)"
   ]
  },
  {
   "cell_type": "code",
   "execution_count": 28,
   "id": "ec2da785",
   "metadata": {
    "execution": {
     "iopub.execute_input": "2021-10-04T07:45:12.607772Z",
     "iopub.status.busy": "2021-10-04T07:45:12.606872Z",
     "iopub.status.idle": "2021-10-04T07:45:12.612173Z",
     "shell.execute_reply": "2021-10-04T07:45:12.612681Z",
     "shell.execute_reply.started": "2021-10-04T07:12:20.399315Z"
    },
    "papermill": {
     "duration": 0.078495,
     "end_time": "2021-10-04T07:45:12.612834",
     "exception": false,
     "start_time": "2021-10-04T07:45:12.534339",
     "status": "completed"
    },
    "tags": []
   },
   "outputs": [
    {
     "data": {
      "text/plain": [
       "Index(['price', 'bedrooms', 'bathrooms', 'sqft_living', 'sqft_lot', 'floors',\n",
       "       'waterfront', 'view', 'condition', 'grade', 'sqft_above',\n",
       "       'sqft_basement', 'yr_built', 'yr_renovated', 'zipcode', 'lat', 'long',\n",
       "       'sqft_living15', 'sqft_lot15', 'year', 'month'],\n",
       "      dtype='object')"
      ]
     },
     "execution_count": 28,
     "metadata": {},
     "output_type": "execute_result"
    }
   ],
   "source": [
    "df.columns"
   ]
  },
  {
   "cell_type": "code",
   "execution_count": 29,
   "id": "59c8c8b1",
   "metadata": {
    "execution": {
     "iopub.execute_input": "2021-10-04T07:45:12.757145Z",
     "iopub.status.busy": "2021-10-04T07:45:12.756269Z",
     "iopub.status.idle": "2021-10-04T07:45:12.763236Z",
     "shell.execute_reply": "2021-10-04T07:45:12.763705Z",
     "shell.execute_reply.started": "2021-10-04T07:12:36.300982Z"
    },
    "papermill": {
     "duration": 0.080674,
     "end_time": "2021-10-04T07:45:12.763857",
     "exception": false,
     "start_time": "2021-10-04T07:45:12.683183",
     "status": "completed"
    },
    "tags": []
   },
   "outputs": [],
   "source": [
    "df = df.drop('zipcode',axis=1)"
   ]
  },
  {
   "cell_type": "code",
   "execution_count": 30,
   "id": "614f97bb",
   "metadata": {
    "execution": {
     "iopub.execute_input": "2021-10-04T07:45:12.910897Z",
     "iopub.status.busy": "2021-10-04T07:45:12.909902Z",
     "iopub.status.idle": "2021-10-04T07:45:12.926949Z",
     "shell.execute_reply": "2021-10-04T07:45:12.927463Z",
     "shell.execute_reply.started": "2021-10-04T07:12:48.99532Z"
    },
    "papermill": {
     "duration": 0.091099,
     "end_time": "2021-10-04T07:45:12.927647",
     "exception": false,
     "start_time": "2021-10-04T07:45:12.836548",
     "status": "completed"
    },
    "tags": []
   },
   "outputs": [
    {
     "data": {
      "text/html": [
       "<div>\n",
       "<style scoped>\n",
       "    .dataframe tbody tr th:only-of-type {\n",
       "        vertical-align: middle;\n",
       "    }\n",
       "\n",
       "    .dataframe tbody tr th {\n",
       "        vertical-align: top;\n",
       "    }\n",
       "\n",
       "    .dataframe thead th {\n",
       "        text-align: right;\n",
       "    }\n",
       "</style>\n",
       "<table border=\"1\" class=\"dataframe\">\n",
       "  <thead>\n",
       "    <tr style=\"text-align: right;\">\n",
       "      <th></th>\n",
       "      <th>price</th>\n",
       "      <th>bedrooms</th>\n",
       "      <th>bathrooms</th>\n",
       "      <th>sqft_living</th>\n",
       "      <th>sqft_lot</th>\n",
       "      <th>floors</th>\n",
       "      <th>waterfront</th>\n",
       "      <th>view</th>\n",
       "      <th>condition</th>\n",
       "      <th>grade</th>\n",
       "      <th>sqft_above</th>\n",
       "      <th>sqft_basement</th>\n",
       "      <th>yr_built</th>\n",
       "      <th>yr_renovated</th>\n",
       "      <th>lat</th>\n",
       "      <th>long</th>\n",
       "      <th>sqft_living15</th>\n",
       "      <th>sqft_lot15</th>\n",
       "      <th>year</th>\n",
       "      <th>month</th>\n",
       "    </tr>\n",
       "  </thead>\n",
       "  <tbody>\n",
       "    <tr>\n",
       "      <th>0</th>\n",
       "      <td>221900.0</td>\n",
       "      <td>3</td>\n",
       "      <td>1.00</td>\n",
       "      <td>1180</td>\n",
       "      <td>5650</td>\n",
       "      <td>1.0</td>\n",
       "      <td>0</td>\n",
       "      <td>0</td>\n",
       "      <td>3</td>\n",
       "      <td>7</td>\n",
       "      <td>1180</td>\n",
       "      <td>0</td>\n",
       "      <td>1955</td>\n",
       "      <td>0</td>\n",
       "      <td>47.5112</td>\n",
       "      <td>-122.257</td>\n",
       "      <td>1340</td>\n",
       "      <td>5650</td>\n",
       "      <td>2014</td>\n",
       "      <td>10</td>\n",
       "    </tr>\n",
       "    <tr>\n",
       "      <th>1</th>\n",
       "      <td>538000.0</td>\n",
       "      <td>3</td>\n",
       "      <td>2.25</td>\n",
       "      <td>2570</td>\n",
       "      <td>7242</td>\n",
       "      <td>2.0</td>\n",
       "      <td>0</td>\n",
       "      <td>0</td>\n",
       "      <td>3</td>\n",
       "      <td>7</td>\n",
       "      <td>2170</td>\n",
       "      <td>400</td>\n",
       "      <td>1951</td>\n",
       "      <td>1991</td>\n",
       "      <td>47.7210</td>\n",
       "      <td>-122.319</td>\n",
       "      <td>1690</td>\n",
       "      <td>7639</td>\n",
       "      <td>2014</td>\n",
       "      <td>12</td>\n",
       "    </tr>\n",
       "    <tr>\n",
       "      <th>2</th>\n",
       "      <td>180000.0</td>\n",
       "      <td>2</td>\n",
       "      <td>1.00</td>\n",
       "      <td>770</td>\n",
       "      <td>10000</td>\n",
       "      <td>1.0</td>\n",
       "      <td>0</td>\n",
       "      <td>0</td>\n",
       "      <td>3</td>\n",
       "      <td>6</td>\n",
       "      <td>770</td>\n",
       "      <td>0</td>\n",
       "      <td>1933</td>\n",
       "      <td>0</td>\n",
       "      <td>47.7379</td>\n",
       "      <td>-122.233</td>\n",
       "      <td>2720</td>\n",
       "      <td>8062</td>\n",
       "      <td>2015</td>\n",
       "      <td>2</td>\n",
       "    </tr>\n",
       "    <tr>\n",
       "      <th>3</th>\n",
       "      <td>604000.0</td>\n",
       "      <td>4</td>\n",
       "      <td>3.00</td>\n",
       "      <td>1960</td>\n",
       "      <td>5000</td>\n",
       "      <td>1.0</td>\n",
       "      <td>0</td>\n",
       "      <td>0</td>\n",
       "      <td>5</td>\n",
       "      <td>7</td>\n",
       "      <td>1050</td>\n",
       "      <td>910</td>\n",
       "      <td>1965</td>\n",
       "      <td>0</td>\n",
       "      <td>47.5208</td>\n",
       "      <td>-122.393</td>\n",
       "      <td>1360</td>\n",
       "      <td>5000</td>\n",
       "      <td>2014</td>\n",
       "      <td>12</td>\n",
       "    </tr>\n",
       "    <tr>\n",
       "      <th>4</th>\n",
       "      <td>510000.0</td>\n",
       "      <td>3</td>\n",
       "      <td>2.00</td>\n",
       "      <td>1680</td>\n",
       "      <td>8080</td>\n",
       "      <td>1.0</td>\n",
       "      <td>0</td>\n",
       "      <td>0</td>\n",
       "      <td>3</td>\n",
       "      <td>8</td>\n",
       "      <td>1680</td>\n",
       "      <td>0</td>\n",
       "      <td>1987</td>\n",
       "      <td>0</td>\n",
       "      <td>47.6168</td>\n",
       "      <td>-122.045</td>\n",
       "      <td>1800</td>\n",
       "      <td>7503</td>\n",
       "      <td>2015</td>\n",
       "      <td>2</td>\n",
       "    </tr>\n",
       "  </tbody>\n",
       "</table>\n",
       "</div>"
      ],
      "text/plain": [
       "      price  bedrooms  bathrooms  sqft_living  sqft_lot  floors  waterfront  \\\n",
       "0  221900.0         3       1.00         1180      5650     1.0           0   \n",
       "1  538000.0         3       2.25         2570      7242     2.0           0   \n",
       "2  180000.0         2       1.00          770     10000     1.0           0   \n",
       "3  604000.0         4       3.00         1960      5000     1.0           0   \n",
       "4  510000.0         3       2.00         1680      8080     1.0           0   \n",
       "\n",
       "   view  condition  grade  sqft_above  sqft_basement  yr_built  yr_renovated  \\\n",
       "0     0          3      7        1180              0      1955             0   \n",
       "1     0          3      7        2170            400      1951          1991   \n",
       "2     0          3      6         770              0      1933             0   \n",
       "3     0          5      7        1050            910      1965             0   \n",
       "4     0          3      8        1680              0      1987             0   \n",
       "\n",
       "       lat     long  sqft_living15  sqft_lot15  year  month  \n",
       "0  47.5112 -122.257           1340        5650  2014     10  \n",
       "1  47.7210 -122.319           1690        7639  2014     12  \n",
       "2  47.7379 -122.233           2720        8062  2015      2  \n",
       "3  47.5208 -122.393           1360        5000  2014     12  \n",
       "4  47.6168 -122.045           1800        7503  2015      2  "
      ]
     },
     "execution_count": 30,
     "metadata": {},
     "output_type": "execute_result"
    }
   ],
   "source": [
    "df.head()"
   ]
  },
  {
   "cell_type": "markdown",
   "id": "8775d1fb",
   "metadata": {
    "papermill": {
     "duration": 0.071703,
     "end_time": "2021-10-04T07:45:13.072662",
     "exception": false,
     "start_time": "2021-10-04T07:45:13.000959",
     "status": "completed"
    },
    "tags": []
   },
   "source": [
    "## Scaling and Train Test Split\n"
   ]
  },
  {
   "cell_type": "code",
   "execution_count": 31,
   "id": "da0aef7d",
   "metadata": {
    "execution": {
     "iopub.execute_input": "2021-10-04T07:45:13.219855Z",
     "iopub.status.busy": "2021-10-04T07:45:13.218947Z",
     "iopub.status.idle": "2021-10-04T07:45:13.225218Z",
     "shell.execute_reply": "2021-10-04T07:45:13.224727Z",
     "shell.execute_reply.started": "2021-10-04T07:14:13.990794Z"
    },
    "papermill": {
     "duration": 0.08011,
     "end_time": "2021-10-04T07:45:13.225353",
     "exception": false,
     "start_time": "2021-10-04T07:45:13.145243",
     "status": "completed"
    },
    "tags": []
   },
   "outputs": [],
   "source": [
    "X = df.drop('price',axis=1)\n",
    "y = df['price']"
   ]
  },
  {
   "cell_type": "code",
   "execution_count": 32,
   "id": "0015779e",
   "metadata": {
    "execution": {
     "iopub.execute_input": "2021-10-04T07:45:13.372163Z",
     "iopub.status.busy": "2021-10-04T07:45:13.371596Z",
     "iopub.status.idle": "2021-10-04T07:45:13.513765Z",
     "shell.execute_reply": "2021-10-04T07:45:13.513243Z",
     "shell.execute_reply.started": "2021-10-04T07:14:27.309805Z"
    },
    "papermill": {
     "duration": 0.217128,
     "end_time": "2021-10-04T07:45:13.513900",
     "exception": false,
     "start_time": "2021-10-04T07:45:13.296772",
     "status": "completed"
    },
    "tags": []
   },
   "outputs": [],
   "source": [
    "from sklearn.model_selection import train_test_split"
   ]
  },
  {
   "cell_type": "code",
   "execution_count": 33,
   "id": "4c311a31",
   "metadata": {
    "execution": {
     "iopub.execute_input": "2021-10-04T07:45:13.662861Z",
     "iopub.status.busy": "2021-10-04T07:45:13.661947Z",
     "iopub.status.idle": "2021-10-04T07:45:13.675808Z",
     "shell.execute_reply": "2021-10-04T07:45:13.675305Z",
     "shell.execute_reply.started": "2021-10-04T07:14:50.014384Z"
    },
    "papermill": {
     "duration": 0.088721,
     "end_time": "2021-10-04T07:45:13.675943",
     "exception": false,
     "start_time": "2021-10-04T07:45:13.587222",
     "status": "completed"
    },
    "tags": []
   },
   "outputs": [],
   "source": [
    "X_train, X_test, y_train, y_test = train_test_split(X,y,test_size=0.4,random_state=101)"
   ]
  },
  {
   "cell_type": "markdown",
   "id": "71a1e1a7",
   "metadata": {
    "papermill": {
     "duration": 0.073469,
     "end_time": "2021-10-04T07:45:13.821595",
     "exception": false,
     "start_time": "2021-10-04T07:45:13.748126",
     "status": "completed"
    },
    "tags": []
   },
   "source": [
    "### Scaling"
   ]
  },
  {
   "cell_type": "code",
   "execution_count": 34,
   "id": "31743ca0",
   "metadata": {
    "execution": {
     "iopub.execute_input": "2021-10-04T07:45:13.992742Z",
     "iopub.status.busy": "2021-10-04T07:45:13.992198Z",
     "iopub.status.idle": "2021-10-04T07:45:13.995005Z",
     "shell.execute_reply": "2021-10-04T07:45:13.995467Z",
     "shell.execute_reply.started": "2021-10-04T07:15:32.351716Z"
    },
    "papermill": {
     "duration": 0.077748,
     "end_time": "2021-10-04T07:45:13.995755",
     "exception": false,
     "start_time": "2021-10-04T07:45:13.918007",
     "status": "completed"
    },
    "tags": []
   },
   "outputs": [],
   "source": [
    "from sklearn.preprocessing import MinMaxScaler"
   ]
  },
  {
   "cell_type": "code",
   "execution_count": 35,
   "id": "e18b4103",
   "metadata": {
    "execution": {
     "iopub.execute_input": "2021-10-04T07:45:14.143619Z",
     "iopub.status.busy": "2021-10-04T07:45:14.143041Z",
     "iopub.status.idle": "2021-10-04T07:45:14.145779Z",
     "shell.execute_reply": "2021-10-04T07:45:14.146257Z",
     "shell.execute_reply.started": "2021-10-04T07:15:44.108348Z"
    },
    "papermill": {
     "duration": 0.078659,
     "end_time": "2021-10-04T07:45:14.146416",
     "exception": false,
     "start_time": "2021-10-04T07:45:14.067757",
     "status": "completed"
    },
    "tags": []
   },
   "outputs": [],
   "source": [
    "scaler = MinMaxScaler()"
   ]
  },
  {
   "cell_type": "code",
   "execution_count": 36,
   "id": "0ec56b76",
   "metadata": {
    "execution": {
     "iopub.execute_input": "2021-10-04T07:45:14.297346Z",
     "iopub.status.busy": "2021-10-04T07:45:14.294408Z",
     "iopub.status.idle": "2021-10-04T07:45:14.306283Z",
     "shell.execute_reply": "2021-10-04T07:45:14.305794Z",
     "shell.execute_reply.started": "2021-10-04T07:16:04.951595Z"
    },
    "papermill": {
     "duration": 0.087049,
     "end_time": "2021-10-04T07:45:14.306412",
     "exception": false,
     "start_time": "2021-10-04T07:45:14.219363",
     "status": "completed"
    },
    "tags": []
   },
   "outputs": [],
   "source": [
    "X_train= scaler.fit_transform(X_train)"
   ]
  },
  {
   "cell_type": "code",
   "execution_count": 37,
   "id": "e542b1d6",
   "metadata": {
    "execution": {
     "iopub.execute_input": "2021-10-04T07:45:14.454359Z",
     "iopub.status.busy": "2021-10-04T07:45:14.453772Z",
     "iopub.status.idle": "2021-10-04T07:45:14.457556Z",
     "shell.execute_reply": "2021-10-04T07:45:14.457109Z",
     "shell.execute_reply.started": "2021-10-04T07:16:17.482148Z"
    },
    "papermill": {
     "duration": 0.080216,
     "end_time": "2021-10-04T07:45:14.457700",
     "exception": false,
     "start_time": "2021-10-04T07:45:14.377484",
     "status": "completed"
    },
    "tags": []
   },
   "outputs": [],
   "source": [
    "X_test = scaler.transform(X_test)"
   ]
  },
  {
   "cell_type": "code",
   "execution_count": 38,
   "id": "904f9599",
   "metadata": {
    "execution": {
     "iopub.execute_input": "2021-10-04T07:45:14.605835Z",
     "iopub.status.busy": "2021-10-04T07:45:14.605266Z",
     "iopub.status.idle": "2021-10-04T07:45:14.607781Z",
     "shell.execute_reply": "2021-10-04T07:45:14.608213Z",
     "shell.execute_reply.started": "2021-10-04T07:16:32.960373Z"
    },
    "papermill": {
     "duration": 0.077788,
     "end_time": "2021-10-04T07:45:14.608364",
     "exception": false,
     "start_time": "2021-10-04T07:45:14.530576",
     "status": "completed"
    },
    "tags": []
   },
   "outputs": [
    {
     "data": {
      "text/plain": [
       "(12967, 19)"
      ]
     },
     "execution_count": 38,
     "metadata": {},
     "output_type": "execute_result"
    }
   ],
   "source": [
    "X_train.shape"
   ]
  },
  {
   "cell_type": "code",
   "execution_count": 39,
   "id": "5c742df0",
   "metadata": {
    "execution": {
     "iopub.execute_input": "2021-10-04T07:45:14.773919Z",
     "iopub.status.busy": "2021-10-04T07:45:14.773249Z",
     "iopub.status.idle": "2021-10-04T07:45:14.779285Z",
     "shell.execute_reply": "2021-10-04T07:45:14.779712Z",
     "shell.execute_reply.started": "2021-10-04T07:16:47.172708Z"
    },
    "papermill": {
     "duration": 0.098226,
     "end_time": "2021-10-04T07:45:14.779866",
     "exception": false,
     "start_time": "2021-10-04T07:45:14.681640",
     "status": "completed"
    },
    "tags": []
   },
   "outputs": [
    {
     "data": {
      "text/plain": [
       "(8646, 19)"
      ]
     },
     "execution_count": 39,
     "metadata": {},
     "output_type": "execute_result"
    }
   ],
   "source": [
    "X_test.shape"
   ]
  },
  {
   "cell_type": "markdown",
   "id": "1fe72c0b",
   "metadata": {
    "papermill": {
     "duration": 0.079835,
     "end_time": "2021-10-04T07:45:14.941736",
     "exception": false,
     "start_time": "2021-10-04T07:45:14.861901",
     "status": "completed"
    },
    "tags": []
   },
   "source": [
    "# Creating a Model"
   ]
  },
  {
   "cell_type": "code",
   "execution_count": 40,
   "id": "c78df1ff",
   "metadata": {
    "execution": {
     "iopub.execute_input": "2021-10-04T07:45:15.099934Z",
     "iopub.status.busy": "2021-10-04T07:45:15.099067Z",
     "iopub.status.idle": "2021-10-04T07:45:19.517543Z",
     "shell.execute_reply": "2021-10-04T07:45:19.517006Z",
     "shell.execute_reply.started": "2021-10-04T07:17:30.302354Z"
    },
    "papermill": {
     "duration": 4.494119,
     "end_time": "2021-10-04T07:45:19.517693",
     "exception": false,
     "start_time": "2021-10-04T07:45:15.023574",
     "status": "completed"
    },
    "tags": []
   },
   "outputs": [
    {
     "name": "stderr",
     "output_type": "stream",
     "text": [
      "2021-10-04 07:45:15.636263: W tensorflow/stream_executor/platform/default/dso_loader.cc:60] Could not load dynamic library 'libcudart.so.11.0'; dlerror: libcudart.so.11.0: cannot open shared object file: No such file or directory; LD_LIBRARY_PATH: /opt/conda/lib\n",
      "2021-10-04 07:45:15.636395: I tensorflow/stream_executor/cuda/cudart_stub.cc:29] Ignore above cudart dlerror if you do not have a GPU set up on your machine.\n"
     ]
    }
   ],
   "source": [
    "from tensorflow.keras.models import Sequential\n",
    "from tensorflow.keras.layers import Dense, Activation\n",
    "from tensorflow.keras.optimizers import Adam"
   ]
  },
  {
   "cell_type": "code",
   "execution_count": 41,
   "id": "eef3db12",
   "metadata": {
    "execution": {
     "iopub.execute_input": "2021-10-04T07:45:19.666818Z",
     "iopub.status.busy": "2021-10-04T07:45:19.666193Z",
     "iopub.status.idle": "2021-10-04T07:45:19.726168Z",
     "shell.execute_reply": "2021-10-04T07:45:19.726812Z",
     "shell.execute_reply.started": "2021-10-04T07:18:07.387402Z"
    },
    "papermill": {
     "duration": 0.136337,
     "end_time": "2021-10-04T07:45:19.727060",
     "exception": false,
     "start_time": "2021-10-04T07:45:19.590723",
     "status": "completed"
    },
    "tags": []
   },
   "outputs": [
    {
     "name": "stderr",
     "output_type": "stream",
     "text": [
      "2021-10-04 07:45:19.679424: I tensorflow/compiler/jit/xla_cpu_device.cc:41] Not creating XLA devices, tf_xla_enable_xla_devices not set\n",
      "2021-10-04 07:45:19.682577: W tensorflow/stream_executor/platform/default/dso_loader.cc:60] Could not load dynamic library 'libcuda.so.1'; dlerror: libcuda.so.1: cannot open shared object file: No such file or directory; LD_LIBRARY_PATH: /opt/conda/lib\n",
      "2021-10-04 07:45:19.682614: W tensorflow/stream_executor/cuda/cuda_driver.cc:326] failed call to cuInit: UNKNOWN ERROR (303)\n",
      "2021-10-04 07:45:19.682639: I tensorflow/stream_executor/cuda/cuda_diagnostics.cc:156] kernel driver does not appear to be running on this host (c67aa661a456): /proc/driver/nvidia/version does not exist\n",
      "2021-10-04 07:45:19.683565: I tensorflow/core/platform/cpu_feature_guard.cc:142] This TensorFlow binary is optimized with oneAPI Deep Neural Network Library (oneDNN) to use the following CPU instructions in performance-critical operations:  AVX2 FMA\n",
      "To enable them in other operations, rebuild TensorFlow with the appropriate compiler flags.\n",
      "2021-10-04 07:45:19.683917: I tensorflow/compiler/jit/xla_gpu_device.cc:99] Not creating XLA devices, tf_xla_enable_xla_devices not set\n"
     ]
    }
   ],
   "source": [
    "model = Sequential()\n",
    "\n",
    "model.add(Dense(19,activation='relu'))\n",
    "model.add(Dense(19,activation='relu'))\n",
    "model.add(Dense(19,activation='relu'))\n",
    "model.add(Dense(19,activation='relu'))\n",
    "model.add(Dense(19,activation='relu'))\n",
    "model.add(Dense(1))\n",
    "\n",
    "model.compile(optimizer='adam',loss='mse')"
   ]
  },
  {
   "cell_type": "markdown",
   "id": "61e04dd8",
   "metadata": {
    "papermill": {
     "duration": 0.072351,
     "end_time": "2021-10-04T07:45:19.873237",
     "exception": false,
     "start_time": "2021-10-04T07:45:19.800886",
     "status": "completed"
    },
    "tags": []
   },
   "source": [
    "## Training the Model"
   ]
  },
  {
   "cell_type": "code",
   "execution_count": null,
   "id": "70e86776",
   "metadata": {
    "execution": {
     "iopub.execute_input": "2021-10-04T07:45:20.021392Z",
     "iopub.status.busy": "2021-10-04T07:45:20.020497Z",
     "iopub.status.idle": "2021-10-04T07:47:06.461093Z",
     "shell.execute_reply": "2021-10-04T07:47:06.461566Z",
     "shell.execute_reply.started": "2021-10-04T07:18:53.408517Z"
    },
    "papermill": {
     "duration": 106.516024,
     "end_time": "2021-10-04T07:47:06.461737",
     "exception": false,
     "start_time": "2021-10-04T07:45:19.945713",
     "status": "completed"
    },
    "tags": []
   },
   "outputs": [
    {
     "name": "stderr",
     "output_type": "stream",
     "text": [
      "2021-10-04 07:45:20.096241: I tensorflow/compiler/mlir/mlir_graph_optimization_pass.cc:116] None of the MLIR optimization passes are enabled (registered 2)\n",
      "2021-10-04 07:45:20.107596: I tensorflow/core/platform/profile_utils/cpu_utils.cc:112] CPU Frequency: 2200140000 Hz\n"
     ]
    },
    {
     "name": "stdout",
     "output_type": "stream",
     "text": [
      "Epoch 1/500\n",
      "102/102 [==============================] - 1s 6ms/step - loss: 433594282739.5728 - val_loss: 425478029312.0000\n",
      "Epoch 2/500\n",
      "102/102 [==============================] - 0s 2ms/step - loss: 423684864457.3204 - val_loss: 413926555648.0000\n",
      "Epoch 3/500\n",
      "102/102 [==============================] - 0s 2ms/step - loss: 390170235396.9709 - val_loss: 256945324032.0000\n",
      "Epoch 4/500\n",
      "102/102 [==============================] - 0s 2ms/step - loss: 185803180210.9514 - val_loss: 100558438400.0000\n",
      "Epoch 5/500\n",
      "102/102 [==============================] - 0s 2ms/step - loss: 107945414019.7281 - val_loss: 98035499008.0000\n",
      "Epoch 6/500\n",
      "102/102 [==============================] - 0s 2ms/step - loss: 97113897099.1845 - val_loss: 95475908608.0000\n",
      "Epoch 7/500\n",
      "102/102 [==============================] - 0s 2ms/step - loss: 101619298025.6311 - val_loss: 92877791232.0000\n",
      "Epoch 8/500\n",
      "102/102 [==============================] - 0s 2ms/step - loss: 95109182513.7087 - val_loss: 89559941120.0000\n",
      "Epoch 9/500\n",
      "102/102 [==============================] - 0s 2ms/step - loss: 95106590819.4175 - val_loss: 85705465856.0000\n",
      "Epoch 10/500\n",
      "102/102 [==============================] - 0s 2ms/step - loss: 81152605174.0583 - val_loss: 81614454784.0000\n",
      "Epoch 11/500\n",
      "102/102 [==============================] - 0s 2ms/step - loss: 76627701322.5631 - val_loss: 77051559936.0000\n",
      "Epoch 12/500\n",
      "102/102 [==============================] - 0s 2ms/step - loss: 79224413571.7281 - val_loss: 72023080960.0000\n",
      "Epoch 13/500\n",
      "102/102 [==============================] - 0s 2ms/step - loss: 76770035016.0777 - val_loss: 66776743936.0000\n",
      "Epoch 14/500\n",
      "102/102 [==============================] - 0s 2ms/step - loss: 64985566078.7573 - val_loss: 61563998208.0000\n",
      "Epoch 15/500\n",
      "102/102 [==============================] - 0s 2ms/step - loss: 70586743917.3592 - val_loss: 57251876864.0000\n",
      "Epoch 16/500\n",
      "102/102 [==============================] - 0s 2ms/step - loss: 61595312764.2718 - val_loss: 53917925376.0000\n",
      "Epoch 17/500\n",
      "102/102 [==============================] - 0s 2ms/step - loss: 52487802164.1942 - val_loss: 51678064640.0000\n",
      "Epoch 18/500\n",
      "102/102 [==============================] - 0s 2ms/step - loss: 54027013547.4951 - val_loss: 50130325504.0000\n",
      "Epoch 19/500\n",
      "102/102 [==============================] - 0s 2ms/step - loss: 51288498891.8058 - val_loss: 49001279488.0000\n",
      "Epoch 20/500\n",
      "102/102 [==============================] - 0s 2ms/step - loss: 53747168265.9417 - val_loss: 47993905152.0000\n",
      "Epoch 21/500\n",
      "102/102 [==============================] - 0s 2ms/step - loss: 48895521603.1068 - val_loss: 47493505024.0000\n",
      "Epoch 22/500\n",
      "102/102 [==============================] - 0s 2ms/step - loss: 59238223991.3010 - val_loss: 46596202496.0000\n",
      "Epoch 23/500\n",
      "102/102 [==============================] - 0s 2ms/step - loss: 51874337444.0388 - val_loss: 45630832640.0000\n",
      "Epoch 24/500\n",
      "102/102 [==============================] - 0s 2ms/step - loss: 45244712621.9806 - val_loss: 45071523840.0000\n",
      "Epoch 25/500\n",
      "102/102 [==============================] - 0s 2ms/step - loss: 47473083401.9417 - val_loss: 44162191360.0000\n",
      "Epoch 26/500\n",
      "102/102 [==============================] - 0s 2ms/step - loss: 52440538698.5631 - val_loss: 43437297664.0000\n",
      "Epoch 27/500\n",
      "102/102 [==============================] - 0s 2ms/step - loss: 46097991063.6116 - val_loss: 42837786624.0000\n",
      "Epoch 28/500\n",
      "102/102 [==============================] - 0s 2ms/step - loss: 46657580300.4272 - val_loss: 42103681024.0000\n",
      "Epoch 29/500\n",
      "102/102 [==============================] - 0s 2ms/step - loss: 47388734633.0097 - val_loss: 41232064512.0000\n",
      "Epoch 30/500\n",
      "102/102 [==============================] - 0s 2ms/step - loss: 41633717417.0097 - val_loss: 40572657664.0000\n",
      "Epoch 31/500\n",
      "102/102 [==============================] - 0s 2ms/step - loss: 41610574877.8252 - val_loss: 39863353344.0000\n",
      "Epoch 32/500\n",
      "102/102 [==============================] - 0s 2ms/step - loss: 45240459562.2524 - val_loss: 39349899264.0000\n",
      "Epoch 33/500\n",
      "102/102 [==============================] - 0s 2ms/step - loss: 43628792782.2913 - val_loss: 38792343552.0000\n",
      "Epoch 34/500\n",
      "102/102 [==============================] - 0s 2ms/step - loss: 39391318453.4369 - val_loss: 38273949696.0000\n",
      "Epoch 35/500\n",
      "102/102 [==============================] - 0s 2ms/step - loss: 42964646504.3884 - val_loss: 37882179584.0000\n",
      "Epoch 36/500\n",
      "102/102 [==============================] - 0s 2ms/step - loss: 39183464408.2330 - val_loss: 37537472512.0000\n",
      "Epoch 37/500\n",
      "102/102 [==============================] - 0s 2ms/step - loss: 39223031768.2330 - val_loss: 37338554368.0000\n",
      "Epoch 38/500\n",
      "102/102 [==============================] - 0s 2ms/step - loss: 43183064431.8447 - val_loss: 37063618560.0000\n",
      "Epoch 39/500\n",
      "102/102 [==============================] - 0s 2ms/step - loss: 38185438506.2524 - val_loss: 36874100736.0000\n",
      "Epoch 40/500\n",
      "102/102 [==============================] - 0s 2ms/step - loss: 37483827140.3495 - val_loss: 36730949632.0000\n",
      "Epoch 41/500\n",
      "102/102 [==============================] - 0s 2ms/step - loss: 38598347646.7573 - val_loss: 36355678208.0000\n",
      "Epoch 42/500\n",
      "102/102 [==============================] - 0s 2ms/step - loss: 38856575234.4854 - val_loss: 36175990784.0000\n",
      "Epoch 43/500\n",
      "102/102 [==============================] - 0s 2ms/step - loss: 37403748530.9515 - val_loss: 35921850368.0000\n",
      "Epoch 44/500\n",
      "102/102 [==============================] - 0s 2ms/step - loss: 40028021054.1359 - val_loss: 35742945280.0000\n",
      "Epoch 45/500\n",
      "102/102 [==============================] - 0s 2ms/step - loss: 40102855510.9903 - val_loss: 35586920448.0000\n",
      "Epoch 46/500\n",
      "102/102 [==============================] - 0s 2ms/step - loss: 36703391803.6505 - val_loss: 35418476544.0000\n",
      "Epoch 47/500\n",
      "102/102 [==============================] - 0s 2ms/step - loss: 35002242137.4757 - val_loss: 35229462528.0000\n",
      "Epoch 48/500\n",
      "102/102 [==============================] - 0s 2ms/step - loss: 40900619015.4563 - val_loss: 35094290432.0000\n",
      "Epoch 49/500\n",
      "102/102 [==============================] - 0s 2ms/step - loss: 35166632333.6699 - val_loss: 34949271552.0000\n",
      "Epoch 50/500\n",
      "102/102 [==============================] - 0s 2ms/step - loss: 41457768388.3495 - val_loss: 34860843008.0000\n",
      "Epoch 51/500\n",
      "102/102 [==============================] - 0s 2ms/step - loss: 33727690791.7670 - val_loss: 34669047808.0000\n",
      "Epoch 52/500\n",
      "102/102 [==============================] - 0s 2ms/step - loss: 37117876979.5728 - val_loss: 34767896576.0000\n",
      "Epoch 53/500\n",
      "102/102 [==============================] - 0s 2ms/step - loss: 36308779087.5340 - val_loss: 34445553664.0000\n",
      "Epoch 54/500\n",
      "102/102 [==============================] - 0s 2ms/step - loss: 37752773522.6408 - val_loss: 34349027328.0000\n",
      "Epoch 55/500\n",
      "102/102 [==============================] - 0s 2ms/step - loss: 36914886079.3786 - val_loss: 34225047552.0000\n",
      "Epoch 56/500\n",
      "102/102 [==============================] - 0s 2ms/step - loss: 35672596460.1165 - val_loss: 34094372864.0000\n",
      "Epoch 57/500\n",
      "102/102 [==============================] - 0s 2ms/step - loss: 35481799491.1068 - val_loss: 33992925184.0000\n",
      "Epoch 58/500\n",
      "102/102 [==============================] - 0s 2ms/step - loss: 37461783243.8058 - val_loss: 33938556928.0000\n",
      "Epoch 59/500\n",
      "102/102 [==============================] - 0s 2ms/step - loss: 37159191482.4078 - val_loss: 34213435392.0000\n",
      "Epoch 60/500\n",
      "102/102 [==============================] - 0s 2ms/step - loss: 37405788736.6214 - val_loss: 33740820480.0000\n",
      "Epoch 61/500\n",
      "102/102 [==============================] - 0s 2ms/step - loss: 34743491931.9612 - val_loss: 33657692160.0000\n",
      "Epoch 62/500\n",
      "102/102 [==============================] - 0s 2ms/step - loss: 30898437686.6796 - val_loss: 33817309184.0000\n",
      "Epoch 63/500\n",
      "102/102 [==============================] - 0s 2ms/step - loss: 37515804950.3689 - val_loss: 33555165184.0000\n",
      "Epoch 64/500\n",
      "102/102 [==============================] - 0s 2ms/step - loss: 34093444026.4078 - val_loss: 33396203520.0000\n",
      "Epoch 65/500\n",
      "102/102 [==============================] - 0s 2ms/step - loss: 33158358165.1262 - val_loss: 33826877440.0000\n",
      "Epoch 66/500\n",
      "102/102 [==============================] - 0s 2ms/step - loss: 37212134588.8932 - val_loss: 33612109824.0000\n",
      "Epoch 67/500\n",
      "102/102 [==============================] - 0s 2ms/step - loss: 33865241808.7767 - val_loss: 33234567168.0000\n",
      "Epoch 68/500\n",
      "102/102 [==============================] - 0s 2ms/step - loss: 35394932656.4660 - val_loss: 33540052992.0000\n",
      "Epoch 69/500\n",
      "102/102 [==============================] - 0s 2ms/step - loss: 35304850899.2621 - val_loss: 33036896256.0000\n",
      "Epoch 70/500\n",
      "102/102 [==============================] - 0s 2ms/step - loss: 33837196834.7961 - val_loss: 33052702720.0000\n",
      "Epoch 71/500\n",
      "102/102 [==============================] - 0s 2ms/step - loss: 31880643574.0583 - val_loss: 32899344384.0000\n",
      "Epoch 72/500\n",
      "102/102 [==============================] - 0s 2ms/step - loss: 37170819728.1553 - val_loss: 32905515008.0000\n",
      "Epoch 73/500\n",
      "102/102 [==============================] - 0s 2ms/step - loss: 33613391295.3786 - val_loss: 32831186944.0000\n",
      "Epoch 74/500\n",
      "102/102 [==============================] - 0s 2ms/step - loss: 33250660849.0874 - val_loss: 32746928128.0000\n",
      "Epoch 75/500\n",
      "102/102 [==============================] - 0s 2ms/step - loss: 33699378921.6311 - val_loss: 32994990080.0000\n",
      "Epoch 76/500\n",
      "102/102 [==============================] - 0s 2ms/step - loss: 34132481033.9417 - val_loss: 32621672448.0000\n",
      "Epoch 77/500\n",
      "102/102 [==============================] - 0s 2ms/step - loss: 33324670240.3107 - val_loss: 32563935232.0000\n",
      "Epoch 78/500\n",
      "102/102 [==============================] - 0s 2ms/step - loss: 32709295094.0583 - val_loss: 32505513984.0000\n",
      "Epoch 79/500\n",
      "102/102 [==============================] - 0s 2ms/step - loss: 32924595806.4466 - val_loss: 32450490368.0000\n",
      "Epoch 80/500\n",
      "102/102 [==============================] - 0s 2ms/step - loss: 32553528230.5243 - val_loss: 32486305792.0000\n",
      "Epoch 81/500\n",
      "102/102 [==============================] - 0s 2ms/step - loss: 35538741725.2039 - val_loss: 32400031744.0000\n",
      "Epoch 82/500\n",
      "102/102 [==============================] - 0s 2ms/step - loss: 36010099125.4369 - val_loss: 32608499712.0000\n",
      "Epoch 83/500\n",
      "102/102 [==============================] - 0s 2ms/step - loss: 31762806585.1650 - val_loss: 32307245056.0000\n",
      "Epoch 84/500\n",
      "102/102 [==============================] - 0s 2ms/step - loss: 34138763343.5340 - val_loss: 32256266240.0000\n",
      "Epoch 85/500\n",
      "102/102 [==============================] - 0s 2ms/step - loss: 31949341357.9806 - val_loss: 32172593152.0000\n",
      "Epoch 86/500\n",
      "102/102 [==============================] - 0s 2ms/step - loss: 35239725533.2039 - val_loss: 32231280640.0000\n",
      "Epoch 87/500\n",
      "102/102 [==============================] - 0s 2ms/step - loss: 33314460363.8058 - val_loss: 32091351040.0000\n",
      "Epoch 88/500\n",
      "102/102 [==============================] - 0s 2ms/step - loss: 32904164282.4078 - val_loss: 32079765504.0000\n",
      "Epoch 89/500\n",
      "102/102 [==============================] - 0s 2ms/step - loss: 34468415726.6019 - val_loss: 32067893248.0000\n",
      "Epoch 90/500\n",
      "102/102 [==============================] - 0s 2ms/step - loss: 31886419590.2136 - val_loss: 31997388800.0000\n",
      "Epoch 91/500\n",
      "102/102 [==============================] - 0s 2ms/step - loss: 32694147887.2233 - val_loss: 32216692736.0000\n",
      "Epoch 92/500\n",
      "102/102 [==============================] - 0s 2ms/step - loss: 33308264129.8641 - val_loss: 31980167168.0000\n",
      "Epoch 93/500\n",
      "102/102 [==============================] - 0s 2ms/step - loss: 32340829472.3107 - val_loss: 32020068352.0000\n",
      "Epoch 94/500\n",
      "102/102 [==============================] - 0s 2ms/step - loss: 37015335488.6214 - val_loss: 32311300096.0000\n",
      "Epoch 95/500\n",
      "102/102 [==============================] - 0s 2ms/step - loss: 32646720303.2233 - val_loss: 31962669056.0000\n",
      "Epoch 96/500\n",
      "102/102 [==============================] - 0s 2ms/step - loss: 32903823936.6214 - val_loss: 32098203648.0000\n",
      "Epoch 97/500\n",
      "102/102 [==============================] - 0s 2ms/step - loss: 33272319045.5922 - val_loss: 31801683968.0000\n",
      "Epoch 98/500\n",
      "102/102 [==============================] - 0s 2ms/step - loss: 32191496052.8155 - val_loss: 32006678528.0000\n",
      "Epoch 99/500\n",
      "102/102 [==============================] - 0s 2ms/step - loss: 34123205820.8932 - val_loss: 31761373184.0000\n",
      "Epoch 100/500\n",
      "102/102 [==============================] - 0s 2ms/step - loss: 31305253321.3204 - val_loss: 31747139584.0000\n",
      "Epoch 101/500\n",
      "102/102 [==============================] - 0s 2ms/step - loss: 33986870023.4563 - val_loss: 31692208128.0000\n",
      "Epoch 102/500\n",
      "102/102 [==============================] - 0s 2ms/step - loss: 32573819794.6408 - val_loss: 31688165376.0000\n",
      "Epoch 103/500\n",
      "102/102 [==============================] - 0s 2ms/step - loss: 34366414370.7961 - val_loss: 31606081536.0000\n",
      "Epoch 104/500\n",
      "102/102 [==============================] - 0s 2ms/step - loss: 30824038370.1748 - val_loss: 31624054784.0000\n",
      "Epoch 105/500\n",
      "102/102 [==============================] - 0s 2ms/step - loss: 32777181700.9709 - val_loss: 31656996864.0000\n",
      "Epoch 106/500\n",
      "102/102 [==============================] - 0s 2ms/step - loss: 34539159174.2136 - val_loss: 31522975744.0000\n",
      "Epoch 107/500\n",
      "102/102 [==============================] - 0s 2ms/step - loss: 34000020470.0583 - val_loss: 31502651392.0000\n",
      "Epoch 108/500\n",
      "102/102 [==============================] - 0s 2ms/step - loss: 31270749452.4272 - val_loss: 31471552512.0000\n",
      "Epoch 109/500\n",
      "102/102 [==============================] - 0s 2ms/step - loss: 33841536248.5437 - val_loss: 31648942080.0000\n",
      "Epoch 110/500\n",
      "102/102 [==============================] - 0s 2ms/step - loss: 32140748839.7670 - val_loss: 31390687232.0000\n",
      "Epoch 111/500\n",
      "102/102 [==============================] - 0s 2ms/step - loss: 31151654057.0097 - val_loss: 31440691200.0000\n",
      "Epoch 112/500\n",
      "102/102 [==============================] - 0s 2ms/step - loss: 32042879135.0680 - val_loss: 31396458496.0000\n",
      "Epoch 113/500\n",
      "102/102 [==============================] - 0s 2ms/step - loss: 32543009165.6699 - val_loss: 31331805184.0000\n",
      "Epoch 114/500\n",
      "102/102 [==============================] - 0s 2ms/step - loss: 34545001979.0291 - val_loss: 31276765184.0000\n",
      "Epoch 115/500\n",
      "102/102 [==============================] - 0s 2ms/step - loss: 32450204005.9029 - val_loss: 31278563328.0000\n",
      "Epoch 116/500\n",
      "102/102 [==============================] - 0s 2ms/step - loss: 32707764243.8835 - val_loss: 31238242304.0000\n",
      "Epoch 117/500\n",
      "102/102 [==============================] - 0s 2ms/step - loss: 33598745510.5243 - val_loss: 31195514880.0000\n",
      "Epoch 118/500\n",
      "102/102 [==============================] - 0s 2ms/step - loss: 31603487236.9709 - val_loss: 31170541568.0000\n",
      "Epoch 119/500\n",
      "102/102 [==============================] - 0s 2ms/step - loss: 33135699311.8447 - val_loss: 31190382592.0000\n",
      "Epoch 120/500\n",
      "102/102 [==============================] - 0s 2ms/step - loss: 32449167678.1359 - val_loss: 31273836544.0000\n",
      "Epoch 121/500\n",
      "102/102 [==============================] - 0s 2ms/step - loss: 30877433756.5825 - val_loss: 31309527040.0000\n",
      "Epoch 122/500\n",
      "102/102 [==============================] - 0s 2ms/step - loss: 33937776600.2330 - val_loss: 31079313408.0000\n",
      "Epoch 123/500\n",
      "102/102 [==============================] - 0s 3ms/step - loss: 34508423267.4175 - val_loss: 31126052864.0000\n",
      "Epoch 124/500\n",
      "102/102 [==============================] - 0s 2ms/step - loss: 31131603997.8252 - val_loss: 31004086272.0000\n",
      "Epoch 125/500\n",
      "102/102 [==============================] - 0s 2ms/step - loss: 33118294035.8835 - val_loss: 30987425792.0000\n",
      "Epoch 126/500\n",
      "102/102 [==============================] - 0s 2ms/step - loss: 31478000431.2233 - val_loss: 31425638400.0000\n",
      "Epoch 127/500\n",
      "102/102 [==============================] - 0s 2ms/step - loss: 32120798496.3107 - val_loss: 31027046400.0000\n",
      "Epoch 128/500\n",
      "102/102 [==============================] - 0s 2ms/step - loss: 32656116845.3592 - val_loss: 31072088064.0000\n",
      "Epoch 129/500\n",
      "102/102 [==============================] - 0s 2ms/step - loss: 32072256342.9903 - val_loss: 30926505984.0000\n",
      "Epoch 130/500\n",
      "102/102 [==============================] - 0s 2ms/step - loss: 33604531269.5922 - val_loss: 30997329920.0000\n",
      "Epoch 131/500\n",
      "102/102 [==============================] - 0s 2ms/step - loss: 31316403011.1068 - val_loss: 30913431552.0000\n",
      "Epoch 132/500\n",
      "102/102 [==============================] - 0s 2ms/step - loss: 31355964505.4757 - val_loss: 30851596288.0000\n",
      "Epoch 133/500\n",
      "102/102 [==============================] - 0s 2ms/step - loss: 32742224945.7087 - val_loss: 31249395712.0000\n",
      "Epoch 134/500\n",
      "102/102 [==============================] - 0s 2ms/step - loss: 30152790532.9709 - val_loss: 30773131264.0000\n",
      "Epoch 135/500\n",
      "102/102 [==============================] - 0s 2ms/step - loss: 31676980054.9903 - val_loss: 30780098560.0000\n",
      "Epoch 136/500\n",
      "102/102 [==============================] - 0s 2ms/step - loss: 31773209769.0097 - val_loss: 30780278784.0000\n",
      "Epoch 137/500\n",
      "102/102 [==============================] - 0s 2ms/step - loss: 31941176230.5243 - val_loss: 30699831296.0000\n",
      "Epoch 138/500\n",
      "102/102 [==============================] - 0s 2ms/step - loss: 32435500896.9320 - val_loss: 30838947840.0000\n",
      "Epoch 139/500\n",
      "102/102 [==============================] - 0s 2ms/step - loss: 31064189544.3883 - val_loss: 30913249280.0000\n",
      "Epoch 140/500\n",
      "102/102 [==============================] - 0s 2ms/step - loss: 33633604995.7282 - val_loss: 30717454336.0000\n",
      "Epoch 141/500\n",
      "102/102 [==============================] - 0s 2ms/step - loss: 30576855238.8350 - val_loss: 30641242112.0000\n",
      "Epoch 142/500\n",
      "102/102 [==============================] - 0s 2ms/step - loss: 31958146057.9417 - val_loss: 30594693120.0000\n",
      "Epoch 143/500\n",
      "102/102 [==============================] - 0s 2ms/step - loss: 32143996043.1845 - val_loss: 30611849216.0000\n",
      "Epoch 144/500\n",
      "102/102 [==============================] - 0s 2ms/step - loss: 31448363743.6893 - val_loss: 30708168704.0000\n",
      "Epoch 145/500\n",
      "102/102 [==============================] - 0s 2ms/step - loss: 32650805745.0874 - val_loss: 30528622592.0000\n",
      "Epoch 146/500\n",
      "102/102 [==============================] - 0s 2ms/step - loss: 30292278341.5922 - val_loss: 30669053952.0000\n",
      "Epoch 147/500\n",
      "102/102 [==============================] - 0s 2ms/step - loss: 31274996288.6214 - val_loss: 30506305536.0000\n",
      "Epoch 148/500\n",
      "102/102 [==============================] - 0s 2ms/step - loss: 31300173525.7476 - val_loss: 30566369280.0000\n",
      "Epoch 149/500\n",
      "102/102 [==============================] - 0s 2ms/step - loss: 32534508474.4078 - val_loss: 30405521408.0000\n",
      "Epoch 150/500\n",
      "102/102 [==============================] - 0s 2ms/step - loss: 32355954688.0000 - val_loss: 30423433216.0000\n",
      "Epoch 151/500\n",
      "102/102 [==============================] - 0s 2ms/step - loss: 32461125532.5825 - val_loss: 30371624960.0000\n",
      "Epoch 152/500\n",
      "102/102 [==============================] - 0s 2ms/step - loss: 30858285513.3204 - val_loss: 30352285696.0000\n",
      "Epoch 153/500\n",
      "102/102 [==============================] - 0s 2ms/step - loss: 31775740212.1942 - val_loss: 30296453120.0000\n",
      "Epoch 154/500\n",
      "102/102 [==============================] - 0s 2ms/step - loss: 29631445409.5534 - val_loss: 31111221248.0000\n",
      "Epoch 155/500\n",
      "102/102 [==============================] - 0s 2ms/step - loss: 31094821798.5243 - val_loss: 30512185344.0000\n",
      "Epoch 156/500\n",
      "102/102 [==============================] - 0s 2ms/step - loss: 30731355643.0291 - val_loss: 30233935872.0000\n",
      "Epoch 157/500\n",
      "102/102 [==============================] - 0s 2ms/step - loss: 31762164169.3204 - val_loss: 30238947328.0000\n",
      "Epoch 158/500\n",
      "102/102 [==============================] - 0s 2ms/step - loss: 29742401098.5631 - val_loss: 30218184704.0000\n",
      "Epoch 159/500\n",
      "102/102 [==============================] - 0s 2ms/step - loss: 31763522052.9709 - val_loss: 30193195008.0000\n",
      "Epoch 160/500\n",
      "102/102 [==============================] - 0s 2ms/step - loss: 31109632795.3398 - val_loss: 30345390080.0000\n",
      "Epoch 161/500\n",
      "102/102 [==============================] - 0s 2ms/step - loss: 32038176907.1845 - val_loss: 30149277696.0000\n",
      "Epoch 162/500\n",
      "102/102 [==============================] - 0s 2ms/step - loss: 32291811248.4660 - val_loss: 30190837760.0000\n",
      "Epoch 163/500\n",
      "102/102 [==============================] - 0s 2ms/step - loss: 32161153401.7864 - val_loss: 30240884736.0000\n",
      "Epoch 164/500\n",
      "102/102 [==============================] - 0s 2ms/step - loss: 28532373901.6699 - val_loss: 30134403072.0000\n",
      "Epoch 165/500\n",
      "102/102 [==============================] - 0s 2ms/step - loss: 30793548710.5243 - val_loss: 30497521664.0000\n",
      "Epoch 166/500\n",
      "102/102 [==============================] - 0s 2ms/step - loss: 33333912387.1068 - val_loss: 30090070016.0000\n",
      "Epoch 167/500\n",
      "102/102 [==============================] - 0s 2ms/step - loss: 32427413643.1845 - val_loss: 30003728384.0000\n",
      "Epoch 168/500\n",
      "102/102 [==============================] - 0s 2ms/step - loss: 30560639592.3883 - val_loss: 29988564992.0000\n",
      "Epoch 169/500\n",
      "102/102 [==============================] - 0s 2ms/step - loss: 29542698053.5922 - val_loss: 30005917696.0000\n",
      "Epoch 170/500\n",
      "102/102 [==============================] - 0s 2ms/step - loss: 28810465220.3495 - val_loss: 30282137600.0000\n",
      "Epoch 171/500\n",
      "102/102 [==============================] - 0s 2ms/step - loss: 29390496042.2524 - val_loss: 29933201408.0000\n",
      "Epoch 172/500\n",
      "102/102 [==============================] - 0s 2ms/step - loss: 29416558890.2524 - val_loss: 30247839744.0000\n",
      "Epoch 173/500\n",
      "102/102 [==============================] - 0s 2ms/step - loss: 33590163774.1359 - val_loss: 29904357376.0000\n",
      "Epoch 174/500\n",
      "102/102 [==============================] - 0s 2ms/step - loss: 30178086733.0485 - val_loss: 29881182208.0000\n",
      "Epoch 175/500\n",
      "102/102 [==============================] - 0s 2ms/step - loss: 30344836622.9126 - val_loss: 29862981632.0000\n",
      "Epoch 176/500\n",
      "102/102 [==============================] - 0s 2ms/step - loss: 29900030528.6214 - val_loss: 29865803776.0000\n",
      "Epoch 177/500\n",
      "102/102 [==============================] - 0s 2ms/step - loss: 31182259388.8932 - val_loss: 30029621248.0000\n",
      "Epoch 178/500\n",
      "102/102 [==============================] - 0s 2ms/step - loss: 31326929114.7184 - val_loss: 30232397824.0000\n",
      "Epoch 179/500\n",
      "102/102 [==============================] - 0s 2ms/step - loss: 30099657061.9029 - val_loss: 30072922112.0000\n",
      "Epoch 180/500\n",
      "102/102 [==============================] - 0s 2ms/step - loss: 31919868918.0583 - val_loss: 29985900544.0000\n",
      "Epoch 181/500\n",
      "102/102 [==============================] - 0s 2ms/step - loss: 32244990946.1748 - val_loss: 29797240832.0000\n",
      "Epoch 182/500\n",
      "102/102 [==============================] - 0s 2ms/step - loss: 32415272641.8641 - val_loss: 29823504384.0000\n",
      "Epoch 183/500\n",
      "102/102 [==============================] - 0s 2ms/step - loss: 30334931500.7379 - val_loss: 29901344768.0000\n",
      "Epoch 184/500\n",
      "102/102 [==============================] - 0s 2ms/step - loss: 30421238495.6893 - val_loss: 29735886848.0000\n",
      "Epoch 185/500\n",
      "102/102 [==============================] - 0s 2ms/step - loss: 30218242167.3010 - val_loss: 29869725696.0000\n",
      "Epoch 186/500\n",
      "102/102 [==============================] - 0s 2ms/step - loss: 29445611599.5340 - val_loss: 29805383680.0000\n",
      "Epoch 187/500\n",
      "102/102 [==============================] - 0s 2ms/step - loss: 29273786407.7670 - val_loss: 29735757824.0000\n",
      "Epoch 188/500\n",
      "102/102 [==============================] - 0s 2ms/step - loss: 29520926560.9320 - val_loss: 29798889472.0000\n",
      "Epoch 189/500\n",
      "102/102 [==============================] - 0s 2ms/step - loss: 31278401038.9126 - val_loss: 29680164864.0000\n",
      "Epoch 190/500\n",
      "102/102 [==============================] - 0s 2ms/step - loss: 29978480997.9029 - val_loss: 29631440896.0000\n",
      "Epoch 191/500\n",
      "102/102 [==============================] - 0s 2ms/step - loss: 31945406980.9709 - val_loss: 29611048960.0000\n",
      "Epoch 192/500\n",
      "102/102 [==============================] - 0s 2ms/step - loss: 32226018950.2136 - val_loss: 29724450816.0000\n",
      "Epoch 193/500\n",
      "102/102 [==============================] - 0s 2ms/step - loss: 30707195705.1650 - val_loss: 29665251328.0000\n",
      "Epoch 194/500\n",
      "102/102 [==============================] - 0s 2ms/step - loss: 31782301795.4175 - val_loss: 29822930944.0000\n",
      "Epoch 195/500\n",
      "102/102 [==============================] - 0s 2ms/step - loss: 30889343711.6893 - val_loss: 29523539968.0000\n",
      "Epoch 196/500\n",
      "102/102 [==============================] - 0s 2ms/step - loss: 28785457708.7379 - val_loss: 30249242624.0000\n",
      "Epoch 197/500\n",
      "102/102 [==============================] - 0s 2ms/step - loss: 31851103540.1942 - val_loss: 29676570624.0000\n",
      "Epoch 198/500\n",
      "102/102 [==============================] - 0s 2ms/step - loss: 31051425911.3010 - val_loss: 29494614016.0000\n",
      "Epoch 199/500\n",
      "102/102 [==============================] - 0s 2ms/step - loss: 28813535748.9709 - val_loss: 29607997440.0000\n",
      "Epoch 200/500\n",
      "102/102 [==============================] - 0s 2ms/step - loss: 31269475417.4757 - val_loss: 29501796352.0000\n",
      "Epoch 201/500\n",
      "102/102 [==============================] - 0s 2ms/step - loss: 29132991000.8544 - val_loss: 29622501376.0000\n",
      "Epoch 202/500\n",
      "102/102 [==============================] - 0s 2ms/step - loss: 31679404091.6505 - val_loss: 29418213376.0000\n",
      "Epoch 203/500\n",
      "102/102 [==============================] - 0s 2ms/step - loss: 32285643626.8738 - val_loss: 29393905664.0000\n",
      "Epoch 204/500\n",
      "102/102 [==============================] - 0s 2ms/step - loss: 29333520045.9806 - val_loss: 29386565632.0000\n",
      "Epoch 205/500\n",
      "102/102 [==============================] - 0s 2ms/step - loss: 30304160559.2233 - val_loss: 29340942336.0000\n",
      "Epoch 206/500\n",
      "102/102 [==============================] - 0s 2ms/step - loss: 30504769794.4854 - val_loss: 29976633344.0000\n",
      "Epoch 207/500\n",
      "102/102 [==============================] - 0s 2ms/step - loss: 31588580918.6796 - val_loss: 29495709696.0000\n",
      "Epoch 208/500\n",
      "102/102 [==============================] - 0s 2ms/step - loss: 27681196230.8350 - val_loss: 29690734592.0000\n",
      "Epoch 209/500\n",
      "102/102 [==============================] - 0s 2ms/step - loss: 30246076594.9515 - val_loss: 29447839744.0000\n",
      "Epoch 210/500\n",
      "102/102 [==============================] - 0s 2ms/step - loss: 29164556705.5534 - val_loss: 29416224768.0000\n",
      "Epoch 211/500\n",
      "102/102 [==============================] - 0s 2ms/step - loss: 29916131705.7864 - val_loss: 29453355008.0000\n",
      "Epoch 212/500\n",
      "102/102 [==============================] - 0s 2ms/step - loss: 31630144024.8544 - val_loss: 29325572096.0000\n",
      "Epoch 213/500\n",
      "102/102 [==============================] - 0s 2ms/step - loss: 30681608868.0388 - val_loss: 29331615744.0000\n",
      "Epoch 214/500\n",
      "102/102 [==============================] - 0s 2ms/step - loss: 29368407387.9612 - val_loss: 29384925184.0000\n",
      "Epoch 215/500\n",
      "102/102 [==============================] - 0s 2ms/step - loss: 27169561629.8252 - val_loss: 29268566016.0000\n",
      "Epoch 216/500\n",
      "102/102 [==============================] - 0s 2ms/step - loss: 29978534683.3398 - val_loss: 29279078400.0000\n",
      "Epoch 217/500\n",
      "102/102 [==============================] - 0s 2ms/step - loss: 29487776658.6408 - val_loss: 29226907648.0000\n",
      "Epoch 218/500\n",
      "102/102 [==============================] - 0s 2ms/step - loss: 30065985993.3204 - val_loss: 29392859136.0000\n",
      "Epoch 219/500\n",
      "102/102 [==============================] - 0s 2ms/step - loss: 28998775638.9903 - val_loss: 29469020160.0000\n",
      "Epoch 220/500\n",
      "102/102 [==============================] - 0s 2ms/step - loss: 28143200633.7864 - val_loss: 29337104384.0000\n",
      "Epoch 221/500\n",
      "102/102 [==============================] - 0s 2ms/step - loss: 28923912231.7670 - val_loss: 29153185792.0000\n",
      "Epoch 222/500\n",
      "102/102 [==============================] - 0s 2ms/step - loss: 31610344795.9612 - val_loss: 29184782336.0000\n",
      "Epoch 223/500\n",
      "102/102 [==============================] - 0s 2ms/step - loss: 28720279233.8641 - val_loss: 29209806848.0000\n",
      "Epoch 224/500\n",
      "102/102 [==============================] - 0s 2ms/step - loss: 29096838849.8641 - val_loss: 29154594816.0000\n",
      "Epoch 225/500\n",
      "102/102 [==============================] - 0s 2ms/step - loss: 30068071016.3883 - val_loss: 29062074368.0000\n",
      "Epoch 226/500\n",
      "102/102 [==============================] - 0s 2ms/step - loss: 31264051995.3398 - val_loss: 29253390336.0000\n",
      "Epoch 227/500\n",
      "102/102 [==============================] - 0s 2ms/step - loss: 28658178286.6019 - val_loss: 29177827328.0000\n",
      "Epoch 228/500\n",
      "102/102 [==============================] - 0s 2ms/step - loss: 29608566326.6796 - val_loss: 29090111488.0000\n",
      "Epoch 229/500\n",
      "102/102 [==============================] - 0s 2ms/step - loss: 29995840800.3107 - val_loss: 29024385024.0000\n",
      "Epoch 230/500\n",
      "102/102 [==============================] - 0s 2ms/step - loss: 30625488975.5340 - val_loss: 29043826688.0000\n",
      "Epoch 231/500\n",
      "102/102 [==============================] - 0s 2ms/step - loss: 28626693289.0097 - val_loss: 29027336192.0000\n",
      "Epoch 232/500\n",
      "102/102 [==============================] - 0s 2ms/step - loss: 31376756576.9320 - val_loss: 29006485504.0000\n",
      "Epoch 233/500\n",
      "102/102 [==============================] - 0s 2ms/step - loss: 31777674826.5631 - val_loss: 28983803904.0000\n",
      "Epoch 234/500\n",
      "102/102 [==============================] - 0s 2ms/step - loss: 30662842447.5340 - val_loss: 28972673024.0000\n",
      "Epoch 235/500\n",
      "102/102 [==============================] - 0s 2ms/step - loss: 29914489130.2524 - val_loss: 29176866816.0000\n",
      "Epoch 236/500\n",
      "102/102 [==============================] - 0s 2ms/step - loss: 29134108274.3301 - val_loss: 29010288640.0000\n",
      "Epoch 237/500\n",
      "102/102 [==============================] - 0s 2ms/step - loss: 28779300645.2816 - val_loss: 29198436352.0000\n",
      "Epoch 238/500\n",
      "102/102 [==============================] - 0s 2ms/step - loss: 29090733443.7282 - val_loss: 28906649600.0000\n",
      "Epoch 239/500\n",
      "102/102 [==============================] - 0s 2ms/step - loss: 29431091776.6214 - val_loss: 29076813824.0000\n",
      "Epoch 240/500\n",
      "102/102 [==============================] - 0s 2ms/step - loss: 30003715718.2136 - val_loss: 29085995008.0000\n",
      "Epoch 241/500\n",
      "102/102 [==============================] - 0s 2ms/step - loss: 28477678025.3204 - val_loss: 29831780352.0000\n",
      "Epoch 242/500\n",
      "102/102 [==============================] - 0s 2ms/step - loss: 29753888171.4951 - val_loss: 28896796672.0000\n",
      "Epoch 243/500\n",
      "102/102 [==============================] - 0s 2ms/step - loss: 28963417704.3883 - val_loss: 29260361728.0000\n",
      "Epoch 244/500\n",
      "102/102 [==============================] - 0s 2ms/step - loss: 27595999172.3495 - val_loss: 28843339776.0000\n",
      "Epoch 245/500\n",
      "102/102 [==============================] - 0s 2ms/step - loss: 28565317522.6408 - val_loss: 29246908416.0000\n",
      "Epoch 246/500\n",
      "102/102 [==============================] - 0s 2ms/step - loss: 28221968205.0485 - val_loss: 29378635776.0000\n",
      "Epoch 247/500\n",
      "102/102 [==============================] - 0s 2ms/step - loss: 29295831656.3883 - val_loss: 28848943104.0000\n",
      "Epoch 248/500\n",
      "102/102 [==============================] - 0s 2ms/step - loss: 28682408393.3204 - val_loss: 29235968000.0000\n",
      "Epoch 249/500\n",
      "102/102 [==============================] - 0s 2ms/step - loss: 29552173453.6699 - val_loss: 28908007424.0000\n",
      "Epoch 250/500\n",
      "102/102 [==============================] - 0s 2ms/step - loss: 27407618545.0874 - val_loss: 28870035456.0000\n",
      "Epoch 251/500\n",
      "102/102 [==============================] - 0s 2ms/step - loss: 29276749664.9320 - val_loss: 28845568000.0000\n",
      "Epoch 252/500\n",
      "102/102 [==============================] - 0s 2ms/step - loss: 27529599632.1553 - val_loss: 28777201664.0000\n",
      "Epoch 253/500\n",
      "102/102 [==============================] - 0s 2ms/step - loss: 30325611887.8447 - val_loss: 28767098880.0000\n",
      "Epoch 254/500\n",
      "102/102 [==============================] - 0s 2ms/step - loss: 28361578814.1359 - val_loss: 28802795520.0000\n",
      "Epoch 255/500\n",
      "102/102 [==============================] - 0s 2ms/step - loss: 28723119551.3786 - val_loss: 28785944576.0000\n",
      "Epoch 256/500\n",
      "102/102 [==============================] - 0s 2ms/step - loss: 29962438198.6796 - val_loss: 28769816576.0000\n",
      "Epoch 257/500\n",
      "102/102 [==============================] - 0s 2ms/step - loss: 31508105176.2330 - val_loss: 28963000320.0000\n",
      "Epoch 258/500\n",
      "102/102 [==============================] - 0s 2ms/step - loss: 29839666842.0971 - val_loss: 28727316480.0000\n",
      "Epoch 259/500\n",
      "102/102 [==============================] - 0s 2ms/step - loss: 28583441934.9126 - val_loss: 28657709056.0000\n",
      "Epoch 260/500\n",
      "102/102 [==============================] - 0s 2ms/step - loss: 30453790839.3010 - val_loss: 28638869504.0000\n",
      "Epoch 261/500\n",
      "102/102 [==============================] - 0s 2ms/step - loss: 28863308292.9709 - val_loss: 28635179008.0000\n",
      "Epoch 262/500\n",
      "102/102 [==============================] - 0s 2ms/step - loss: 29307426040.5437 - val_loss: 28839518208.0000\n",
      "Epoch 263/500\n",
      "102/102 [==============================] - 0s 2ms/step - loss: 28964633271.9223 - val_loss: 28790562816.0000\n",
      "Epoch 264/500\n",
      "102/102 [==============================] - 0s 2ms/step - loss: 27746710040.8544 - val_loss: 28631439360.0000\n",
      "Epoch 265/500\n",
      "102/102 [==============================] - 0s 2ms/step - loss: 28519176887.9223 - val_loss: 28888233984.0000\n",
      "Epoch 266/500\n",
      "102/102 [==============================] - 0s 2ms/step - loss: 29556491671.6117 - val_loss: 28599816192.0000\n",
      "Epoch 267/500\n",
      "102/102 [==============================] - 0s 2ms/step - loss: 31121894569.0097 - val_loss: 28755200000.0000\n",
      "Epoch 268/500\n",
      "102/102 [==============================] - 0s 2ms/step - loss: 27365003403.1845 - val_loss: 28776413184.0000\n",
      "Epoch 269/500\n",
      "102/102 [==============================] - 0s 2ms/step - loss: 28512967670.0583 - val_loss: 28731734016.0000\n",
      "Epoch 270/500\n",
      "102/102 [==============================] - 0s 2ms/step - loss: 28706797389.0485 - val_loss: 28592214016.0000\n",
      "Epoch 271/500\n",
      "102/102 [==============================] - 0s 2ms/step - loss: 28906261295.2233 - val_loss: 28586801152.0000\n",
      "Epoch 272/500\n",
      "102/102 [==============================] - 0s 2ms/step - loss: 29281613287.1456 - val_loss: 28672462848.0000\n",
      "Epoch 273/500\n",
      "102/102 [==============================] - 0s 2ms/step - loss: 27904052393.0097 - val_loss: 28545302528.0000\n",
      "Epoch 274/500\n",
      "102/102 [==============================] - 0s 2ms/step - loss: 27213973881.7864 - val_loss: 28760731648.0000\n",
      "Epoch 275/500\n",
      "102/102 [==============================] - 0s 2ms/step - loss: 28819851741.2039 - val_loss: 28517537792.0000\n",
      "Epoch 276/500\n",
      "102/102 [==============================] - 0s 2ms/step - loss: 27989889511.1456 - val_loss: 28640585728.0000\n",
      "Epoch 277/500\n",
      "102/102 [==============================] - 0s 2ms/step - loss: 28461668789.4369 - val_loss: 28540721152.0000\n",
      "Epoch 278/500\n",
      "102/102 [==============================] - 0s 2ms/step - loss: 28458021818.4078 - val_loss: 28674347008.0000\n",
      "Epoch 279/500\n",
      "102/102 [==============================] - 0s 2ms/step - loss: 27954863849.6311 - val_loss: 28523696128.0000\n",
      "Epoch 280/500\n",
      "102/102 [==============================] - 0s 2ms/step - loss: 27361002068.5049 - val_loss: 28663853056.0000\n",
      "Epoch 281/500\n",
      "102/102 [==============================] - 0s 2ms/step - loss: 27640826631.4563 - val_loss: 28442566656.0000\n",
      "Epoch 282/500\n",
      "102/102 [==============================] - 0s 2ms/step - loss: 29964186077.2039 - val_loss: 28451041280.0000\n",
      "Epoch 283/500\n",
      "102/102 [==============================] - 0s 2ms/step - loss: 27272365423.8447 - val_loss: 28493092864.0000\n",
      "Epoch 284/500\n",
      "102/102 [==============================] - 0s 2ms/step - loss: 28629640937.6311 - val_loss: 28464588800.0000\n",
      "Epoch 285/500\n",
      "102/102 [==============================] - 0s 2ms/step - loss: 28553644449.5534 - val_loss: 29062754304.0000\n",
      "Epoch 286/500\n",
      "102/102 [==============================] - 0s 2ms/step - loss: 30005714387.2621 - val_loss: 28511776768.0000\n",
      "Epoch 287/500\n",
      "102/102 [==============================] - 0s 2ms/step - loss: 28849634512.7767 - val_loss: 28383549440.0000\n",
      "Epoch 288/500\n",
      "102/102 [==============================] - 0s 2ms/step - loss: 28261106797.3592 - val_loss: 28389246976.0000\n",
      "Epoch 289/500\n",
      "102/102 [==============================] - 0s 2ms/step - loss: 27671117227.4951 - val_loss: 28689203200.0000\n",
      "Epoch 290/500\n",
      "102/102 [==============================] - 0s 2ms/step - loss: 27596180291.1068 - val_loss: 28598001664.0000\n",
      "Epoch 291/500\n",
      "102/102 [==============================] - 0s 2ms/step - loss: 29581338146.7961 - val_loss: 28410894336.0000\n",
      "Epoch 292/500\n",
      "102/102 [==============================] - 0s 2ms/step - loss: 27910066414.6019 - val_loss: 28357124096.0000\n",
      "Epoch 293/500\n",
      "102/102 [==============================] - 0s 2ms/step - loss: 28802644007.7670 - val_loss: 28491472896.0000\n",
      "Epoch 294/500\n",
      "102/102 [==============================] - 0s 2ms/step - loss: 29579700562.0194 - val_loss: 28735440896.0000\n",
      "Epoch 295/500\n",
      "102/102 [==============================] - 0s 2ms/step - loss: 28799722287.2233 - val_loss: 28329906176.0000\n",
      "Epoch 296/500\n",
      "102/102 [==============================] - 0s 2ms/step - loss: 26878183682.4854 - val_loss: 28746186752.0000\n",
      "Epoch 297/500\n",
      "102/102 [==============================] - 0s 2ms/step - loss: 28641986878.1359 - val_loss: 28496650240.0000\n",
      "Epoch 298/500\n",
      "102/102 [==============================] - 0s 2ms/step - loss: 28482142625.5534 - val_loss: 28371357696.0000\n",
      "Epoch 299/500\n",
      "102/102 [==============================] - 0s 2ms/step - loss: 28158400571.6505 - val_loss: 28335812608.0000\n",
      "Epoch 300/500\n",
      "102/102 [==============================] - 0s 2ms/step - loss: 28252629190.8350 - val_loss: 28300632064.0000\n",
      "Epoch 301/500\n",
      "102/102 [==============================] - 0s 2ms/step - loss: 28023619683.4175 - val_loss: 28407117824.0000\n",
      "Epoch 302/500\n",
      "102/102 [==============================] - 0s 2ms/step - loss: 28508087445.1262 - val_loss: 28427702272.0000\n",
      "Epoch 303/500\n",
      "102/102 [==============================] - 0s 2ms/step - loss: 27540297867.1845 - val_loss: 28370341888.0000\n",
      "Epoch 304/500\n",
      "102/102 [==============================] - 0s 2ms/step - loss: 28757902942.4466 - val_loss: 28306397184.0000\n",
      "Epoch 305/500\n",
      "102/102 [==============================] - 0s 2ms/step - loss: 29538625217.8641 - val_loss: 28619911168.0000\n",
      "Epoch 306/500\n",
      "102/102 [==============================] - 0s 2ms/step - loss: 25784426307.1068 - val_loss: 28516038656.0000\n",
      "Epoch 307/500\n",
      "102/102 [==============================] - 0s 2ms/step - loss: 28384291929.4757 - val_loss: 28489465856.0000\n",
      "Epoch 308/500\n",
      "102/102 [==============================] - 0s 2ms/step - loss: 28517422209.2427 - val_loss: 28252633088.0000\n",
      "Epoch 309/500\n",
      "102/102 [==============================] - 0s 2ms/step - loss: 28916375591.7670 - val_loss: 28254910464.0000\n",
      "Epoch 310/500\n",
      "102/102 [==============================] - 0s 2ms/step - loss: 28306131361.5534 - val_loss: 28250892288.0000\n",
      "Epoch 311/500\n",
      "102/102 [==============================] - 0s 2ms/step - loss: 25752600894.1359 - val_loss: 28545460224.0000\n",
      "Epoch 312/500\n",
      "102/102 [==============================] - 0s 2ms/step - loss: 27074586504.6990 - val_loss: 28466771968.0000\n",
      "Epoch 313/500\n",
      "102/102 [==============================] - 0s 2ms/step - loss: 27643697927.4563 - val_loss: 28381343744.0000\n",
      "Epoch 314/500\n",
      "102/102 [==============================] - 0s 2ms/step - loss: 26638224871.1456 - val_loss: 28302094336.0000\n",
      "Epoch 315/500\n",
      "102/102 [==============================] - 0s 2ms/step - loss: 28961432108.7379 - val_loss: 28278411264.0000\n",
      "Epoch 316/500\n",
      "102/102 [==============================] - 0s 2ms/step - loss: 28452437797.2816 - val_loss: 28255576064.0000\n",
      "Epoch 317/500\n",
      "102/102 [==============================] - 0s 2ms/step - loss: 30175407451.9612 - val_loss: 28245313536.0000\n",
      "Epoch 318/500\n",
      "102/102 [==============================] - 0s 2ms/step - loss: 28717496121.1650 - val_loss: 28223692800.0000\n",
      "Epoch 319/500\n",
      "102/102 [==============================] - 0s 2ms/step - loss: 31751239401.6311 - val_loss: 28200566784.0000\n",
      "Epoch 320/500\n",
      "102/102 [==============================] - 0s 2ms/step - loss: 26978594816.0000 - val_loss: 28451821568.0000\n",
      "Epoch 321/500\n",
      "102/102 [==============================] - 0s 2ms/step - loss: 27370644609.2427 - val_loss: 28244961280.0000\n",
      "Epoch 322/500\n",
      "102/102 [==============================] - 0s 2ms/step - loss: 29325126188.7379 - val_loss: 28487999488.0000\n",
      "Epoch 323/500\n",
      "102/102 [==============================] - 0s 2ms/step - loss: 30157946005.1262 - val_loss: 28221517824.0000\n",
      "Epoch 324/500\n",
      "102/102 [==============================] - 0s 2ms/step - loss: 27508883237.2816 - val_loss: 28180594688.0000\n",
      "Epoch 325/500\n",
      "102/102 [==============================] - 0s 2ms/step - loss: 27917527238.8350 - val_loss: 28215078912.0000\n",
      "Epoch 326/500\n",
      "102/102 [==============================] - 0s 2ms/step - loss: 26708501991.1456 - val_loss: 28373940224.0000\n",
      "Epoch 327/500\n",
      "102/102 [==============================] - 0s 2ms/step - loss: 28856360721.3981 - val_loss: 28187908096.0000\n",
      "Epoch 328/500\n",
      "102/102 [==============================] - 0s 2ms/step - loss: 27558524967.7670 - val_loss: 28270116864.0000\n",
      "Epoch 329/500\n",
      "102/102 [==============================] - 0s 2ms/step - loss: 26359162243.7282 - val_loss: 28996124672.0000\n",
      "Epoch 330/500\n",
      "102/102 [==============================] - 0s 2ms/step - loss: 28340614690.7961 - val_loss: 28133996544.0000\n",
      "Epoch 331/500\n",
      "102/102 [==============================] - 0s 2ms/step - loss: 27778965861.9029 - val_loss: 28282140672.0000\n",
      "Epoch 332/500\n",
      "102/102 [==============================] - 0s 2ms/step - loss: 27691835312.4660 - val_loss: 28229255168.0000\n",
      "Epoch 333/500\n",
      "102/102 [==============================] - 0s 2ms/step - loss: 27683302628.6602 - val_loss: 28172376064.0000\n",
      "Epoch 334/500\n",
      "102/102 [==============================] - 0s 2ms/step - loss: 28302979270.8350 - val_loss: 28158455808.0000\n",
      "Epoch 335/500\n",
      "102/102 [==============================] - 0s 2ms/step - loss: 28222716719.2233 - val_loss: 28154013696.0000\n",
      "Epoch 336/500\n",
      "102/102 [==============================] - 0s 2ms/step - loss: 27286112275.8835 - val_loss: 28400963584.0000\n",
      "Epoch 337/500\n",
      "102/102 [==============================] - 0s 2ms/step - loss: 29426421342.4466 - val_loss: 28242173952.0000\n",
      "Epoch 338/500\n",
      "102/102 [==============================] - 0s 2ms/step - loss: 27410248196.9709 - val_loss: 28252010496.0000\n",
      "Epoch 339/500\n",
      "102/102 [==============================] - 0s 2ms/step - loss: 27727149036.1165 - val_loss: 28587153408.0000\n",
      "Epoch 340/500\n",
      "102/102 [==============================] - 0s 2ms/step - loss: 27519287236.3495 - val_loss: 28390068224.0000\n",
      "Epoch 341/500\n",
      "102/102 [==============================] - 0s 2ms/step - loss: 26841858843.3398 - val_loss: 28075868160.0000\n",
      "Epoch 342/500\n",
      "102/102 [==============================] - 0s 2ms/step - loss: 27206252046.9126 - val_loss: 28066445312.0000\n",
      "Epoch 343/500\n",
      "102/102 [==============================] - 0s 2ms/step - loss: 27523245225.0097 - val_loss: 28177235968.0000\n",
      "Epoch 344/500\n",
      "102/102 [==============================] - 0s 2ms/step - loss: 28630970368.0000 - val_loss: 28127666176.0000\n",
      "Epoch 345/500\n",
      "102/102 [==============================] - 0s 2ms/step - loss: 27363328397.6699 - val_loss: 28118628352.0000\n",
      "Epoch 346/500\n",
      "102/102 [==============================] - 0s 2ms/step - loss: 27150112867.4175 - val_loss: 28076752896.0000\n",
      "Epoch 347/500\n",
      "102/102 [==============================] - 0s 2ms/step - loss: 25827442330.0971 - val_loss: 28100007936.0000\n",
      "Epoch 348/500\n",
      "102/102 [==============================] - 0s 2ms/step - loss: 27676841805.0485 - val_loss: 28173918208.0000\n",
      "Epoch 349/500\n",
      "102/102 [==============================] - 0s 2ms/step - loss: 28066387093.1262 - val_loss: 27993186304.0000\n",
      "Epoch 350/500\n",
      "102/102 [==============================] - 0s 2ms/step - loss: 28467590690.7961 - val_loss: 28090920960.0000\n",
      "Epoch 351/500\n",
      "102/102 [==============================] - 0s 2ms/step - loss: 27753782759.1456 - val_loss: 28110305280.0000\n",
      "Epoch 352/500\n",
      "102/102 [==============================] - 0s 2ms/step - loss: 27249046597.5922 - val_loss: 28449146880.0000\n",
      "Epoch 353/500\n",
      "102/102 [==============================] - 0s 2ms/step - loss: 28796353824.3107 - val_loss: 28054720512.0000\n",
      "Epoch 354/500\n",
      "102/102 [==============================] - 0s 2ms/step - loss: 27018501348.6602 - val_loss: 28003229696.0000\n",
      "Epoch 355/500\n",
      "102/102 [==============================] - 0s 2ms/step - loss: 26953546682.4078 - val_loss: 28069933056.0000\n",
      "Epoch 356/500\n",
      "102/102 [==============================] - 0s 2ms/step - loss: 28686099306.8738 - val_loss: 28085774336.0000\n",
      "Epoch 357/500\n",
      "102/102 [==============================] - 0s 2ms/step - loss: 28187406256.4660 - val_loss: 27976951808.0000\n",
      "Epoch 358/500\n",
      "102/102 [==============================] - 0s 2ms/step - loss: 26700630135.3010 - val_loss: 28010272768.0000\n",
      "Epoch 359/500\n",
      "102/102 [==============================] - 0s 2ms/step - loss: 27003062212.3495 - val_loss: 28092200960.0000\n",
      "Epoch 360/500\n",
      "102/102 [==============================] - 0s 2ms/step - loss: 27867659373.3592 - val_loss: 28450551808.0000\n",
      "Epoch 361/500\n",
      "102/102 [==============================] - 0s 2ms/step - loss: 29920162229.4369 - val_loss: 28041218048.0000\n",
      "Epoch 362/500\n",
      "102/102 [==============================] - 0s 2ms/step - loss: 28079379784.0777 - val_loss: 27988080640.0000\n",
      "Epoch 363/500\n",
      "102/102 [==============================] - 0s 2ms/step - loss: 28098312192.0000 - val_loss: 27889983488.0000\n",
      "Epoch 364/500\n",
      "102/102 [==============================] - 0s 2ms/step - loss: 28051564285.5146 - val_loss: 27994529792.0000\n",
      "Epoch 365/500\n",
      "102/102 [==============================] - 0s 2ms/step - loss: 25775202840.8544 - val_loss: 28237527040.0000\n",
      "Epoch 366/500\n",
      "102/102 [==============================] - 0s 2ms/step - loss: 25512502759.1456 - val_loss: 28175292416.0000\n",
      "Epoch 367/500\n",
      "102/102 [==============================] - 0s 2ms/step - loss: 27329680543.0680 - val_loss: 27912611840.0000\n",
      "Epoch 368/500\n",
      "102/102 [==============================] - 0s 2ms/step - loss: 26763833721.7864 - val_loss: 27795005440.0000\n",
      "Epoch 369/500\n",
      "102/102 [==============================] - 0s 2ms/step - loss: 25750440910.2913 - val_loss: 28281229312.0000\n",
      "Epoch 370/500\n",
      "102/102 [==============================] - 0s 2ms/step - loss: 26668083140.3495 - val_loss: 27857242112.0000\n",
      "Epoch 371/500\n",
      "102/102 [==============================] - 0s 2ms/step - loss: 26312892575.0680 - val_loss: 27947526144.0000\n",
      "Epoch 372/500\n",
      "102/102 [==============================] - 0s 2ms/step - loss: 28205899557.2816 - val_loss: 27818512384.0000\n",
      "Epoch 373/500\n",
      "102/102 [==============================] - 0s 2ms/step - loss: 26134886121.6311 - val_loss: 27965444096.0000\n",
      "Epoch 374/500\n",
      "102/102 [==============================] - 0s 2ms/step - loss: 29210440316.2718 - val_loss: 27764269056.0000\n",
      "Epoch 375/500\n",
      "102/102 [==============================] - 0s 2ms/step - loss: 27109400397.0485 - val_loss: 27825233920.0000\n",
      "Epoch 376/500\n",
      "102/102 [==============================] - 0s 2ms/step - loss: 27281016016.7767 - val_loss: 27877556224.0000\n",
      "Epoch 377/500\n",
      "102/102 [==============================] - 0s 2ms/step - loss: 28376778294.6796 - val_loss: 27752259584.0000\n",
      "Epoch 378/500\n",
      "102/102 [==============================] - 0s 2ms/step - loss: 26039374579.5728 - val_loss: 27844464640.0000\n",
      "Epoch 379/500\n",
      "102/102 [==============================] - 0s 2ms/step - loss: 28680537316.6602 - val_loss: 27777243136.0000\n",
      "Epoch 380/500\n",
      "102/102 [==============================] - 0s 2ms/step - loss: 27466902239.6893 - val_loss: 27556986880.0000\n",
      "Epoch 381/500\n",
      "102/102 [==============================] - 0s 2ms/step - loss: 27044202804.1942 - val_loss: 27908667392.0000\n",
      "Epoch 382/500\n",
      "102/102 [==============================] - 0s 2ms/step - loss: 25838648976.1553 - val_loss: 27462014976.0000\n",
      "Epoch 383/500\n",
      "102/102 [==============================] - 0s 2ms/step - loss: 27034003833.7864 - val_loss: 27443591168.0000\n",
      "Epoch 384/500\n",
      "102/102 [==============================] - 0s 2ms/step - loss: 28429338564.3495 - val_loss: 27508883456.0000\n",
      "Epoch 385/500\n",
      "102/102 [==============================] - 0s 2ms/step - loss: 27182618206.4466 - val_loss: 27585116160.0000\n",
      "Epoch 386/500\n",
      "102/102 [==============================] - 0s 2ms/step - loss: 26973599525.2816 - val_loss: 27475490816.0000\n",
      "Epoch 387/500\n",
      "102/102 [==============================] - 0s 2ms/step - loss: 25583958731.8058 - val_loss: 27291324416.0000\n",
      "Epoch 388/500\n",
      "102/102 [==============================] - 0s 2ms/step - loss: 25030532125.8252 - val_loss: 27461175296.0000\n",
      "Epoch 389/500\n",
      "102/102 [==============================] - 0s 2ms/step - loss: 26816851291.9612 - val_loss: 27362029568.0000\n",
      "Epoch 390/500\n",
      "102/102 [==============================] - 0s 2ms/step - loss: 27637287866.4078 - val_loss: 27170451456.0000\n",
      "Epoch 391/500\n",
      "102/102 [==============================] - 0s 2ms/step - loss: 30006826848.9320 - val_loss: 27285628928.0000\n",
      "Epoch 392/500\n",
      "102/102 [==============================] - 0s 2ms/step - loss: 26634083397.5922 - val_loss: 27233787904.0000\n",
      "Epoch 393/500\n",
      "102/102 [==============================] - 0s 2ms/step - loss: 26404273837.9806 - val_loss: 27089567744.0000\n",
      "Epoch 394/500\n",
      "102/102 [==============================] - 0s 2ms/step - loss: 26951464621.9806 - val_loss: 26994657280.0000\n",
      "Epoch 395/500\n",
      "102/102 [==============================] - 0s 2ms/step - loss: 25696172708.0388 - val_loss: 27045335040.0000\n",
      "Epoch 396/500\n",
      "102/102 [==============================] - 0s 2ms/step - loss: 26525326763.4951 - val_loss: 26986575872.0000\n",
      "Epoch 397/500\n",
      "102/102 [==============================] - 0s 2ms/step - loss: 25500520467.8835 - val_loss: 26746345472.0000\n",
      "Epoch 398/500\n",
      "102/102 [==============================] - 0s 2ms/step - loss: 25438466783.6893 - val_loss: 27025575936.0000\n",
      "Epoch 399/500\n",
      "102/102 [==============================] - 0s 2ms/step - loss: 26914920646.8350 - val_loss: 27036872704.0000\n",
      "Epoch 400/500\n",
      "102/102 [==============================] - 0s 2ms/step - loss: 25913181074.6408 - val_loss: 26591119360.0000\n",
      "Epoch 401/500\n",
      "102/102 [==============================] - 0s 2ms/step - loss: 26742536351.0680 - val_loss: 26530394112.0000\n",
      "Epoch 402/500\n",
      "102/102 [==============================] - 0s 2ms/step - loss: 26608574026.5631 - val_loss: 26678827008.0000\n",
      "Epoch 403/500\n",
      "102/102 [==============================] - 0s 2ms/step - loss: 24166650034.9515 - val_loss: 26393212928.0000\n",
      "Epoch 404/500\n",
      "102/102 [==============================] - 0s 2ms/step - loss: 25340905770.2524 - val_loss: 26370199552.0000\n",
      "Epoch 405/500\n",
      "102/102 [==============================] - 0s 2ms/step - loss: 25514333671.1456 - val_loss: 26300051456.0000\n",
      "Epoch 406/500\n",
      "102/102 [==============================] - 0s 2ms/step - loss: 26292852278.6796 - val_loss: 26163109888.0000\n",
      "Epoch 407/500\n",
      "102/102 [==============================] - 0s 2ms/step - loss: 26663659102.4466 - val_loss: 26451240960.0000\n",
      "Epoch 408/500\n",
      "102/102 [==============================] - 0s 2ms/step - loss: 25358763853.0485 - val_loss: 26126465024.0000\n",
      "Epoch 409/500\n",
      "102/102 [==============================] - 0s 2ms/step - loss: 26692489693.2039 - val_loss: 26103642112.0000\n",
      "Epoch 410/500\n",
      "102/102 [==============================] - 0s 2ms/step - loss: 25566606365.8252 - val_loss: 25910765568.0000\n",
      "Epoch 411/500\n",
      "102/102 [==============================] - 0s 2ms/step - loss: 23266886457.1650 - val_loss: 26063704064.0000\n",
      "Epoch 412/500\n",
      "102/102 [==============================] - 0s 2ms/step - loss: 23550396505.4757 - val_loss: 25935558656.0000\n",
      "Epoch 413/500\n",
      "102/102 [==============================] - 0s 2ms/step - loss: 25453813581.0485 - val_loss: 25778661376.0000\n",
      "Epoch 414/500\n",
      "102/102 [==============================] - 0s 2ms/step - loss: 26608528075.8058 - val_loss: 25653622784.0000\n",
      "Epoch 415/500\n",
      "102/102 [==============================] - 0s 2ms/step - loss: 24779125233.0874 - val_loss: 25752651776.0000\n",
      "Epoch 416/500\n",
      "102/102 [==============================] - 0s 2ms/step - loss: 25197423446.9903 - val_loss: 25719586816.0000\n",
      "Epoch 417/500\n",
      "102/102 [==============================] - 0s 2ms/step - loss: 25996177507.4175 - val_loss: 25581197312.0000\n",
      "Epoch 418/500\n",
      "102/102 [==============================] - 0s 2ms/step - loss: 23137750224.7767 - val_loss: 25410586624.0000\n",
      "Epoch 419/500\n",
      "102/102 [==============================] - 0s 2ms/step - loss: 23994226439.4563 - val_loss: 25419204608.0000\n",
      "Epoch 420/500\n",
      "102/102 [==============================] - 0s 2ms/step - loss: 23793377309.8252 - val_loss: 25280806912.0000\n",
      "Epoch 421/500\n",
      "102/102 [==============================] - 0s 2ms/step - loss: 23891170771.2621 - val_loss: 25174786048.0000\n",
      "Epoch 422/500\n",
      "102/102 [==============================] - 0s 2ms/step - loss: 23511188728.5437 - val_loss: 25177462784.0000\n",
      "Epoch 423/500\n",
      "102/102 [==============================] - 0s 2ms/step - loss: 23495117456.1553 - val_loss: 25188732928.0000\n",
      "Epoch 424/500\n",
      "102/102 [==============================] - 0s 2ms/step - loss: 25114794421.4369 - val_loss: 25005862912.0000\n",
      "Epoch 425/500\n",
      "102/102 [==============================] - 0s 2ms/step - loss: 24012837798.5243 - val_loss: 24831918080.0000\n",
      "Epoch 426/500\n",
      "102/102 [==============================] - 0s 3ms/step - loss: 24365595976.0777 - val_loss: 24757645312.0000\n",
      "Epoch 427/500\n",
      "102/102 [==============================] - 0s 3ms/step - loss: 25551155160.2330 - val_loss: 24715837440.0000\n",
      "Epoch 428/500\n",
      "102/102 [==============================] - 0s 3ms/step - loss: 23825036556.4272 - val_loss: 24919750656.0000\n",
      "Epoch 429/500\n",
      "102/102 [==============================] - 0s 2ms/step - loss: 22577180294.2136 - val_loss: 24784848896.0000\n",
      "Epoch 430/500\n",
      "102/102 [==============================] - 0s 2ms/step - loss: 22615324204.7379 - val_loss: 24508659712.0000\n",
      "Epoch 431/500\n",
      "102/102 [==============================] - 0s 2ms/step - loss: 24528410067.2621 - val_loss: 25105723392.0000\n",
      "Epoch 432/500\n",
      "102/102 [==============================] - 0s 2ms/step - loss: 23392882747.6505 - val_loss: 24831565824.0000\n",
      "Epoch 433/500\n",
      "102/102 [==============================] - 0s 2ms/step - loss: 22615242722.1748 - val_loss: 24619450368.0000\n",
      "Epoch 434/500\n",
      "102/102 [==============================] - 0s 2ms/step - loss: 22686728470.3689 - val_loss: 24312338432.0000\n",
      "Epoch 435/500\n",
      "102/102 [==============================] - 0s 2ms/step - loss: 23656427420.5825 - val_loss: 24429342720.0000\n",
      "Epoch 436/500\n",
      "102/102 [==============================] - 0s 2ms/step - loss: 22717281349.5922 - val_loss: 24369922048.0000\n",
      "Epoch 437/500\n",
      "102/102 [==============================] - 0s 2ms/step - loss: 23260609963.4951 - val_loss: 23976325120.0000\n",
      "Epoch 438/500\n",
      "102/102 [==============================] - 0s 2ms/step - loss: 21767140511.0680 - val_loss: 23905296384.0000\n",
      "Epoch 439/500\n",
      "102/102 [==============================] - 0s 2ms/step - loss: 24590707523.1068 - val_loss: 23833655296.0000\n",
      "Epoch 440/500\n",
      "102/102 [==============================] - 0s 2ms/step - loss: 22978895633.3981 - val_loss: 23799705600.0000\n",
      "Epoch 441/500\n",
      "102/102 [==============================] - 0s 2ms/step - loss: 22946650589.2039 - val_loss: 23806357504.0000\n",
      "Epoch 442/500\n",
      "102/102 [==============================] - 0s 2ms/step - loss: 23117424739.4175 - val_loss: 23612698624.0000\n",
      "Epoch 443/500\n",
      "102/102 [==============================] - 0s 2ms/step - loss: 22846140256.9320 - val_loss: 23561355264.0000\n",
      "Epoch 444/500\n",
      "102/102 [==============================] - 0s 2ms/step - loss: 23124564226.4854 - val_loss: 23474038784.0000\n",
      "Epoch 445/500\n",
      "102/102 [==============================] - 0s 2ms/step - loss: 23143421902.2913 - val_loss: 23633111040.0000\n",
      "Epoch 446/500\n",
      "102/102 [==============================] - 0s 2ms/step - loss: 21867349737.6311 - val_loss: 23434805248.0000\n",
      "Epoch 447/500\n",
      "102/102 [==============================] - 0s 2ms/step - loss: 21911557805.9806 - val_loss: 23502499840.0000\n",
      "Epoch 448/500\n",
      "102/102 [==============================] - 0s 2ms/step - loss: 23648042749.5146 - val_loss: 23659954176.0000\n",
      "Epoch 449/500\n",
      "102/102 [==============================] - 0s 2ms/step - loss: 21993771594.5631 - val_loss: 23504965632.0000\n",
      "Epoch 450/500\n",
      "102/102 [==============================] - 0s 2ms/step - loss: 23454214283.1845 - val_loss: 23205468160.0000\n",
      "Epoch 451/500\n",
      "102/102 [==============================] - 0s 2ms/step - loss: 20584215909.9029 - val_loss: 23052423168.0000\n",
      "Epoch 452/500\n",
      "102/102 [==============================] - 0s 2ms/step - loss: 21175125339.9612 - val_loss: 23051483136.0000\n",
      "Epoch 453/500\n",
      "102/102 [==============================] - 0s 2ms/step - loss: 22111414222.2913 - val_loss: 22956791808.0000\n",
      "Epoch 454/500\n",
      "102/102 [==============================] - 0s 2ms/step - loss: 21630485484.1165 - val_loss: 22959601664.0000\n",
      "Epoch 455/500\n",
      "102/102 [==============================] - 0s 2ms/step - loss: 22859399237.5922 - val_loss: 22794612736.0000\n",
      "Epoch 456/500\n",
      "102/102 [==============================] - 0s 2ms/step - loss: 21311457299.8835 - val_loss: 22765148160.0000\n",
      "Epoch 457/500\n",
      "102/102 [==============================] - 0s 2ms/step - loss: 22349764190.4466 - val_loss: 22754535424.0000\n",
      "Epoch 458/500\n",
      "102/102 [==============================] - 0s 2ms/step - loss: 21842334272.6214 - val_loss: 22750177280.0000\n",
      "Epoch 459/500\n",
      "102/102 [==============================] - 0s 2ms/step - loss: 20437196173.6699 - val_loss: 22438330368.0000\n",
      "Epoch 460/500\n",
      "102/102 [==============================] - 0s 2ms/step - loss: 21020797922.1748 - val_loss: 22608754688.0000\n",
      "Epoch 461/500\n",
      "102/102 [==============================] - 0s 2ms/step - loss: 22748098202.0971 - val_loss: 22716870656.0000\n",
      "Epoch 462/500\n",
      "102/102 [==============================] - 0s 2ms/step - loss: 20244957343.0680 - val_loss: 22602125312.0000\n",
      "Epoch 463/500\n",
      "102/102 [==============================] - 0s 2ms/step - loss: 20517974791.4563 - val_loss: 22372126720.0000\n",
      "Epoch 464/500\n",
      "102/102 [==============================] - 0s 2ms/step - loss: 20846871243.8058 - val_loss: 22258989056.0000\n",
      "Epoch 465/500\n",
      "102/102 [==============================] - 0s 2ms/step - loss: 21542443654.2136 - val_loss: 22088001536.0000\n",
      "Epoch 466/500\n",
      "102/102 [==============================] - 0s 2ms/step - loss: 22602396164.9709 - val_loss: 22249242624.0000\n",
      "Epoch 467/500\n",
      "102/102 [==============================] - 0s 2ms/step - loss: 21441268089.7864 - val_loss: 21970083840.0000\n",
      "Epoch 468/500\n",
      "102/102 [==============================] - 0s 2ms/step - loss: 23048107554.7961 - val_loss: 22222331904.0000\n",
      "Epoch 469/500\n",
      "102/102 [==============================] - 0s 2ms/step - loss: 22563125884.2718 - val_loss: 21946941440.0000\n",
      "Epoch 470/500\n",
      "102/102 [==============================] - 0s 2ms/step - loss: 22425729024.0000 - val_loss: 22074028032.0000\n",
      "Epoch 471/500\n",
      "102/102 [==============================] - 0s 2ms/step - loss: 20927273894.5243 - val_loss: 21868445696.0000\n",
      "Epoch 472/500\n",
      "102/102 [==============================] - 0s 2ms/step - loss: 20698881302.3689 - val_loss: 21822717952.0000\n",
      "Epoch 473/500\n",
      "102/102 [==============================] - 0s 2ms/step - loss: 20167940205.3592 - val_loss: 21971279872.0000\n",
      "Epoch 474/500\n",
      "102/102 [==============================] - 0s 2ms/step - loss: 20151112912.7767 - val_loss: 21936687104.0000\n",
      "Epoch 475/500\n",
      "102/102 [==============================] - 0s 2ms/step - loss: 21115469466.0971 - val_loss: 21675657216.0000\n",
      "Epoch 476/500\n",
      "102/102 [==============================] - 0s 2ms/step - loss: 20841297104.7767 - val_loss: 21696542720.0000\n",
      "Epoch 477/500\n",
      "102/102 [==============================] - 0s 2ms/step - loss: 20904262685.8252 - val_loss: 21633681408.0000\n",
      "Epoch 478/500\n",
      "102/102 [==============================] - 0s 2ms/step - loss: 18831563716.3495 - val_loss: 22029576192.0000\n",
      "Epoch 479/500\n",
      "102/102 [==============================] - 0s 2ms/step - loss: 20803067446.6796 - val_loss: 21665697792.0000\n",
      "Epoch 480/500\n",
      "102/102 [==============================] - 0s 2ms/step - loss: 19426343866.4078 - val_loss: 21957554176.0000\n",
      "Epoch 481/500\n",
      "102/102 [==============================] - 0s 2ms/step - loss: 20211736914.0194 - val_loss: 21889810432.0000\n",
      "Epoch 482/500\n",
      "102/102 [==============================] - 0s 2ms/step - loss: 19774492254.4466 - val_loss: 22157414400.0000\n",
      "Epoch 483/500\n",
      "102/102 [==============================] - 0s 2ms/step - loss: 21096851386.4078 - val_loss: 21469288448.0000\n",
      "Epoch 484/500\n",
      "102/102 [==============================] - 0s 2ms/step - loss: 20409214518.6796 - val_loss: 21594130432.0000\n",
      "Epoch 485/500\n",
      "102/102 [==============================] - 0s 2ms/step - loss: 20665387385.7864 - val_loss: 21547347968.0000\n",
      "Epoch 486/500\n",
      "102/102 [==============================] - 0s 2ms/step - loss: 20219873995.8058 - val_loss: 21523671040.0000\n",
      "Epoch 487/500\n",
      "102/102 [==============================] - 0s 2ms/step - loss: 20916845796.6602 - val_loss: 21579800576.0000\n",
      "Epoch 488/500\n",
      "102/102 [==============================] - 0s 2ms/step - loss: 21236371068.2718 - val_loss: 22511271936.0000\n",
      "Epoch 489/500\n",
      "102/102 [==============================] - 0s 2ms/step - loss: 19850491307.4951 - val_loss: 21367963648.0000\n",
      "Epoch 490/500\n",
      "102/102 [==============================] - 0s 2ms/step - loss: 20835342067.5728 - val_loss: 21445769216.0000\n",
      "Epoch 491/500\n",
      "102/102 [==============================] - 0s 2ms/step - loss: 19893574616.2330 - val_loss: 21409409024.0000\n",
      "Epoch 492/500\n",
      "102/102 [==============================] - 0s 2ms/step - loss: 20198428393.6311 - val_loss: 21151107072.0000\n",
      "Epoch 493/500\n",
      "102/102 [==============================] - 0s 2ms/step - loss: 19912120866.7961 - val_loss: 21221048320.0000\n",
      "Epoch 494/500\n",
      "102/102 [==============================] - 0s 2ms/step - loss: 20725963428.0388 - val_loss: 21176748032.0000\n",
      "Epoch 495/500\n",
      "102/102 [==============================] - 0s 2ms/step - loss: 20095727934.1359 - val_loss: 21158961152.0000\n",
      "Epoch 496/500\n",
      "102/102 [==============================] - 0s 2ms/step - loss: 20418902751.6893 - val_loss: 21073534976.0000\n",
      "Epoch 497/500\n",
      "102/102 [==============================] - 0s 2ms/step - loss: 19053540799.3786 - val_loss: 21334693888.0000\n",
      "Epoch 498/500\n",
      "102/102 [==============================] - 0s 2ms/step - loss: 19107236873.9417 - val_loss: 21226891264.0000\n",
      "Epoch 499/500\n",
      "102/102 [==============================] - 0s 2ms/step - loss: 19173881577.6311 - val_loss: 21119391744.0000\n",
      "Epoch 500/500\n",
      "102/102 [==============================] - 0s 2ms/step - loss: 19703303068.5825 - val_loss: 21004953600.0000\n"
     ]
    },
    {
     "data": {
      "text/plain": [
       "<tensorflow.python.keras.callbacks.History at 0x7efbf86d9350>"
      ]
     },
     "execution_count": 42,
     "metadata": {},
     "output_type": "execute_result"
    }
   ],
   "source": [
    "model.fit(x=X_train,y=y_train.values,\n",
    "          validation_data=(X_test,y_test.values),\n",
    "          batch_size=128,epochs=50)"
   ]
  },
  {
   "cell_type": "code",
   "execution_count": 43,
   "id": "d49e65e9",
   "metadata": {
    "execution": {
     "iopub.execute_input": "2021-10-04T07:47:07.533300Z",
     "iopub.status.busy": "2021-10-04T07:47:07.532404Z",
     "iopub.status.idle": "2021-10-04T07:47:07.537600Z",
     "shell.execute_reply": "2021-10-04T07:47:07.537156Z",
     "shell.execute_reply.started": "2021-10-04T07:21:48.268397Z"
    },
    "papermill": {
     "duration": 0.543338,
     "end_time": "2021-10-04T07:47:07.537731",
     "exception": false,
     "start_time": "2021-10-04T07:47:06.994393",
     "status": "completed"
    },
    "tags": []
   },
   "outputs": [],
   "source": [
    "losses = pd.DataFrame(model.history.history)"
   ]
  },
  {
   "cell_type": "code",
   "execution_count": 44,
   "id": "0fba7bbe",
   "metadata": {
    "execution": {
     "iopub.execute_input": "2021-10-04T07:47:08.621541Z",
     "iopub.status.busy": "2021-10-04T07:47:08.620965Z",
     "iopub.status.idle": "2021-10-04T07:47:08.849351Z",
     "shell.execute_reply": "2021-10-04T07:47:08.849738Z",
     "shell.execute_reply.started": "2021-10-04T07:22:02.758805Z"
    },
    "papermill": {
     "duration": 0.778479,
     "end_time": "2021-10-04T07:47:08.849905",
     "exception": false,
     "start_time": "2021-10-04T07:47:08.071426",
     "status": "completed"
    },
    "tags": []
   },
   "outputs": [
    {
     "data": {
      "text/plain": [
       "<AxesSubplot:>"
      ]
     },
     "execution_count": 44,
     "metadata": {},
     "output_type": "execute_result"
    },
    {
     "data": {
      "image/png": "[encoded data removed]",
      "text/plain": [
       "<Figure size 432x288 with 1 Axes>"
      ]
     },
     "metadata": {
      "needs_background": "light"
     },
     "output_type": "display_data"
    }
   ],
   "source": [
    "losses.plot()"
   ]
  },
  {
   "cell_type": "markdown",
   "id": "1f750dc3",
   "metadata": {
    "papermill": {
     "duration": 0.534537,
     "end_time": "2021-10-04T07:47:09.926441",
     "exception": false,
     "start_time": "2021-10-04T07:47:09.391904",
     "status": "completed"
    },
    "tags": []
   },
   "source": []
  },
  {
   "cell_type": "markdown",
   "id": "04f98f70",
   "metadata": {
    "papermill": {
     "duration": 0.545966,
     "end_time": "2021-10-04T07:47:11.022057",
     "exception": false,
     "start_time": "2021-10-04T07:47:10.476091",
     "status": "completed"
    },
    "tags": []
   },
   "source": [
    "# Evaluation on Test Data\n",
    "\n",
    "https://scikit-learn.org/stable/modules/model_evaluation.html#regression-metrics"
   ]
  },
  {
   "cell_type": "code",
   "execution_count": 45,
   "id": "1abc9f7f",
   "metadata": {
    "execution": {
     "iopub.execute_input": "2021-10-04T07:47:12.148807Z",
     "iopub.status.busy": "2021-10-04T07:47:12.148252Z",
     "iopub.status.idle": "2021-10-04T07:47:12.152942Z",
     "shell.execute_reply": "2021-10-04T07:47:12.152493Z",
     "shell.execute_reply.started": "2021-10-04T07:22:54.276822Z"
    },
    "papermill": {
     "duration": 0.587339,
     "end_time": "2021-10-04T07:47:12.153100",
     "exception": false,
     "start_time": "2021-10-04T07:47:11.565761",
     "status": "completed"
    },
    "tags": []
   },
   "outputs": [],
   "source": [
    "from sklearn.metrics import mean_squared_error,mean_absolute_error,explained_variance_score"
   ]
  },
  {
   "cell_type": "markdown",
   "id": "e10387f8",
   "metadata": {
    "papermill": {
     "duration": 0.546095,
     "end_time": "2021-10-04T07:47:13.237255",
     "exception": false,
     "start_time": "2021-10-04T07:47:12.691160",
     "status": "completed"
    },
    "tags": []
   },
   "source": [
    "#### Predicting on Brand New Data"
   ]
  },
  {
   "cell_type": "code",
   "execution_count": 46,
   "id": "2bc36e46",
   "metadata": {
    "execution": {
     "iopub.execute_input": "2021-10-04T07:47:14.349847Z",
     "iopub.status.busy": "2021-10-04T07:47:14.348589Z",
     "iopub.status.idle": "2021-10-04T07:47:14.354578Z",
     "shell.execute_reply": "2021-10-04T07:47:14.355033Z",
     "shell.execute_reply.started": "2021-10-04T07:24:14.866591Z"
    },
    "papermill": {
     "duration": 0.57147,
     "end_time": "2021-10-04T07:47:14.355204",
     "exception": false,
     "start_time": "2021-10-04T07:47:13.783734",
     "status": "completed"
    },
    "tags": []
   },
   "outputs": [
    {
     "data": {
      "text/plain": [
       "array([[0.18181818, 0.125     , 0.05735849, ..., 0.010289  , 1.        ,\n",
       "        0.        ],\n",
       "       [0.36363636, 0.28125   , 0.13207547, ..., 0.00909894, 1.        ,\n",
       "        0.27272727],\n",
       "       [0.36363636, 0.3125    , 0.16679245, ..., 0.00418246, 1.        ,\n",
       "        0.09090909],\n",
       "       ...,\n",
       "       [0.36363636, 0.4375    , 0.34490566, ..., 0.01768441, 0.        ,\n",
       "        0.63636364],\n",
       "       [0.18181818, 0.125     , 0.03622642, ..., 0.00982492, 1.        ,\n",
       "        0.36363636],\n",
       "       [0.27272727, 0.28125   , 0.0890566 , ..., 0.0079732 , 1.        ,\n",
       "        0.18181818]])"
      ]
     },
     "execution_count": 46,
     "metadata": {},
     "output_type": "execute_result"
    }
   ],
   "source": [
    "X_test"
   ]
  },
  {
   "cell_type": "code",
   "execution_count": 47,
   "id": "3ad4364c",
   "metadata": {
    "execution": {
     "iopub.execute_input": "2021-10-04T07:47:15.463550Z",
     "iopub.status.busy": "2021-10-04T07:47:15.462938Z",
     "iopub.status.idle": "2021-10-04T07:47:15.705500Z",
     "shell.execute_reply": "2021-10-04T07:47:15.706034Z",
     "shell.execute_reply.started": "2021-10-04T07:24:35.447738Z"
    },
    "papermill": {
     "duration": 0.788736,
     "end_time": "2021-10-04T07:47:15.706280",
     "exception": false,
     "start_time": "2021-10-04T07:47:14.917544",
     "status": "completed"
    },
    "tags": []
   },
   "outputs": [],
   "source": [
    "predictions = model.predict(X_test)"
   ]
  },
  {
   "cell_type": "code",
   "execution_count": 48,
   "id": "5882b4f5",
   "metadata": {
    "execution": {
     "iopub.execute_input": "2021-10-04T07:47:16.791534Z",
     "iopub.status.busy": "2021-10-04T07:47:16.790519Z",
     "iopub.status.idle": "2021-10-04T07:47:16.793542Z",
     "shell.execute_reply": "2021-10-04T07:47:16.793974Z",
     "shell.execute_reply.started": "2021-10-04T07:24:47.545015Z"
    },
    "papermill": {
     "duration": 0.542541,
     "end_time": "2021-10-04T07:47:16.794160",
     "exception": false,
     "start_time": "2021-10-04T07:47:16.251619",
     "status": "completed"
    },
    "tags": []
   },
   "outputs": [
    {
     "data": {
      "text/plain": [
       "86061.85871718136"
      ]
     },
     "execution_count": 48,
     "metadata": {},
     "output_type": "execute_result"
    }
   ],
   "source": [
    "mean_absolute_error(y_test,predictions)"
   ]
  },
  {
   "cell_type": "code",
   "execution_count": 49,
   "id": "fea6cc62",
   "metadata": {
    "execution": {
     "iopub.execute_input": "2021-10-04T07:47:17.876940Z",
     "iopub.status.busy": "2021-10-04T07:47:17.876376Z",
     "iopub.status.idle": "2021-10-04T07:47:17.882058Z",
     "shell.execute_reply": "2021-10-04T07:47:17.882434Z",
     "shell.execute_reply.started": "2021-10-04T07:25:09.400126Z"
    },
    "papermill": {
     "duration": 0.545449,
     "end_time": "2021-10-04T07:47:17.882589",
     "exception": false,
     "start_time": "2021-10-04T07:47:17.337140",
     "status": "completed"
    },
    "tags": []
   },
   "outputs": [
    {
     "data": {
      "text/plain": [
       "144930.84743022625"
      ]
     },
     "execution_count": 49,
     "metadata": {},
     "output_type": "execute_result"
    }
   ],
   "source": [
    "np.sqrt(mean_squared_error(y_test,predictions))"
   ]
  },
  {
   "cell_type": "code",
   "execution_count": 50,
   "id": "34705658",
   "metadata": {
    "execution": {
     "iopub.execute_input": "2021-10-04T07:47:18.953652Z",
     "iopub.status.busy": "2021-10-04T07:47:18.952822Z",
     "iopub.status.idle": "2021-10-04T07:47:18.957771Z",
     "shell.execute_reply": "2021-10-04T07:47:18.957320Z",
     "shell.execute_reply.started": "2021-10-04T07:25:26.041062Z"
    },
    "papermill": {
     "duration": 0.542461,
     "end_time": "2021-10-04T07:47:18.957907",
     "exception": false,
     "start_time": "2021-10-04T07:47:18.415446",
     "status": "completed"
    },
    "tags": []
   },
   "outputs": [
    {
     "data": {
      "text/plain": [
       "0.8437097028540583"
      ]
     },
     "execution_count": 50,
     "metadata": {},
     "output_type": "execute_result"
    }
   ],
   "source": [
    "explained_variance_score(y_test,predictions)"
   ]
  },
  {
   "cell_type": "code",
   "execution_count": 51,
   "id": "c4178eb8",
   "metadata": {
    "execution": {
     "iopub.execute_input": "2021-10-04T07:47:20.087620Z",
     "iopub.status.busy": "2021-10-04T07:47:20.086896Z",
     "iopub.status.idle": "2021-10-04T07:47:20.316199Z",
     "shell.execute_reply": "2021-10-04T07:47:20.315560Z",
     "shell.execute_reply.started": "2021-10-04T07:25:49.669623Z"
    },
    "papermill": {
     "duration": 0.786156,
     "end_time": "2021-10-04T07:47:20.316354",
     "exception": false,
     "start_time": "2021-10-04T07:47:19.530198",
     "status": "completed"
    },
    "tags": []
   },
   "outputs": [
    {
     "data": {
      "text/plain": [
       "[<matplotlib.lines.Line2D at 0x7efbd8cba590>]"
      ]
     },
     "execution_count": 51,
     "metadata": {},
     "output_type": "execute_result"
    },
    {
     "data": {
      "image/png": "[encoded data removed]",
      "text/plain": [
       "<Figure size 432x288 with 1 Axes>"
      ]
     },
     "metadata": {
      "needs_background": "light"
     },
     "output_type": "display_data"
    }
   ],
   "source": [
    "# Our predictions\n",
    "plt.scatter(y_test,predictions)\n",
    "\n",
    "# Perfect predictions\n",
    "plt.plot(y_test,y_test,'r')"
   ]
  },
  {
   "cell_type": "markdown",
   "id": "d8bc2ca7",
   "metadata": {
    "papermill": {
     "duration": 0.53542,
     "end_time": "2021-10-04T07:47:21.390323",
     "exception": false,
     "start_time": "2021-10-04T07:47:20.854903",
     "status": "completed"
    },
    "tags": []
   },
   "source": [
    "So, we can come to a conclusion that our model can predict the price of a house within a range of 5million USD. When the price exceed the range it performs not so well."
   ]
  },
  {
   "cell_type": "markdown",
   "id": "45d248e5",
   "metadata": {
    "papermill": {
     "duration": 0.583019,
     "end_time": "2021-10-04T07:47:22.506209",
     "exception": false,
     "start_time": "2021-10-04T07:47:21.923190",
     "status": "completed"
    },
    "tags": []
   },
   "source": [
    "### Predicting on a brand new house"
   ]
  },
  {
   "cell_type": "code",
   "execution_count": 52,
   "id": "f0d524c2",
   "metadata": {
    "execution": {
     "iopub.execute_input": "2021-10-04T07:47:23.624304Z",
     "iopub.status.busy": "2021-10-04T07:47:23.623194Z",
     "iopub.status.idle": "2021-10-04T07:47:23.627672Z",
     "shell.execute_reply": "2021-10-04T07:47:23.628066Z",
     "shell.execute_reply.started": "2021-10-04T07:29:31.902711Z"
    },
    "papermill": {
     "duration": 0.562702,
     "end_time": "2021-10-04T07:47:23.628248",
     "exception": false,
     "start_time": "2021-10-04T07:47:23.065546",
     "status": "completed"
    },
    "tags": []
   },
   "outputs": [
    {
     "data": {
      "text/html": [
       "<div>\n",
       "<style scoped>\n",
       "    .dataframe tbody tr th:only-of-type {\n",
       "        vertical-align: middle;\n",
       "    }\n",
       "\n",
       "    .dataframe tbody tr th {\n",
       "        vertical-align: top;\n",
       "    }\n",
       "\n",
       "    .dataframe thead th {\n",
       "        text-align: right;\n",
       "    }\n",
       "</style>\n",
       "<table border=\"1\" class=\"dataframe\">\n",
       "  <thead>\n",
       "    <tr style=\"text-align: right;\">\n",
       "      <th></th>\n",
       "      <th>price</th>\n",
       "      <th>bedrooms</th>\n",
       "      <th>bathrooms</th>\n",
       "      <th>sqft_living</th>\n",
       "      <th>sqft_lot</th>\n",
       "      <th>floors</th>\n",
       "      <th>waterfront</th>\n",
       "      <th>view</th>\n",
       "      <th>condition</th>\n",
       "      <th>grade</th>\n",
       "      <th>sqft_above</th>\n",
       "      <th>sqft_basement</th>\n",
       "      <th>yr_built</th>\n",
       "      <th>yr_renovated</th>\n",
       "      <th>lat</th>\n",
       "      <th>long</th>\n",
       "      <th>sqft_living15</th>\n",
       "      <th>sqft_lot15</th>\n",
       "      <th>year</th>\n",
       "      <th>month</th>\n",
       "    </tr>\n",
       "  </thead>\n",
       "  <tbody>\n",
       "    <tr>\n",
       "      <th>0</th>\n",
       "      <td>221900.0</td>\n",
       "      <td>3</td>\n",
       "      <td>1.00</td>\n",
       "      <td>1180</td>\n",
       "      <td>5650</td>\n",
       "      <td>1.0</td>\n",
       "      <td>0</td>\n",
       "      <td>0</td>\n",
       "      <td>3</td>\n",
       "      <td>7</td>\n",
       "      <td>1180</td>\n",
       "      <td>0</td>\n",
       "      <td>1955</td>\n",
       "      <td>0</td>\n",
       "      <td>47.5112</td>\n",
       "      <td>-122.257</td>\n",
       "      <td>1340</td>\n",
       "      <td>5650</td>\n",
       "      <td>2014</td>\n",
       "      <td>10</td>\n",
       "    </tr>\n",
       "    <tr>\n",
       "      <th>1</th>\n",
       "      <td>538000.0</td>\n",
       "      <td>3</td>\n",
       "      <td>2.25</td>\n",
       "      <td>2570</td>\n",
       "      <td>7242</td>\n",
       "      <td>2.0</td>\n",
       "      <td>0</td>\n",
       "      <td>0</td>\n",
       "      <td>3</td>\n",
       "      <td>7</td>\n",
       "      <td>2170</td>\n",
       "      <td>400</td>\n",
       "      <td>1951</td>\n",
       "      <td>1991</td>\n",
       "      <td>47.7210</td>\n",
       "      <td>-122.319</td>\n",
       "      <td>1690</td>\n",
       "      <td>7639</td>\n",
       "      <td>2014</td>\n",
       "      <td>12</td>\n",
       "    </tr>\n",
       "    <tr>\n",
       "      <th>2</th>\n",
       "      <td>180000.0</td>\n",
       "      <td>2</td>\n",
       "      <td>1.00</td>\n",
       "      <td>770</td>\n",
       "      <td>10000</td>\n",
       "      <td>1.0</td>\n",
       "      <td>0</td>\n",
       "      <td>0</td>\n",
       "      <td>3</td>\n",
       "      <td>6</td>\n",
       "      <td>770</td>\n",
       "      <td>0</td>\n",
       "      <td>1933</td>\n",
       "      <td>0</td>\n",
       "      <td>47.7379</td>\n",
       "      <td>-122.233</td>\n",
       "      <td>2720</td>\n",
       "      <td>8062</td>\n",
       "      <td>2015</td>\n",
       "      <td>2</td>\n",
       "    </tr>\n",
       "  </tbody>\n",
       "</table>\n",
       "</div>"
      ],
      "text/plain": [
       "      price  bedrooms  bathrooms  sqft_living  sqft_lot  floors  waterfront  \\\n",
       "0  221900.0         3       1.00         1180      5650     1.0           0   \n",
       "1  538000.0         3       2.25         2570      7242     2.0           0   \n",
       "2  180000.0         2       1.00          770     10000     1.0           0   \n",
       "\n",
       "   view  condition  grade  sqft_above  sqft_basement  yr_built  yr_renovated  \\\n",
       "0     0          3      7        1180              0      1955             0   \n",
       "1     0          3      7        2170            400      1951          1991   \n",
       "2     0          3      6         770              0      1933             0   \n",
       "\n",
       "       lat     long  sqft_living15  sqft_lot15  year  month  \n",
       "0  47.5112 -122.257           1340        5650  2014     10  \n",
       "1  47.7210 -122.319           1690        7639  2014     12  \n",
       "2  47.7379 -122.233           2720        8062  2015      2  "
      ]
     },
     "execution_count": 52,
     "metadata": {},
     "output_type": "execute_result"
    }
   ],
   "source": [
    "df.head(3)"
   ]
  },
  {
   "cell_type": "markdown",
   "id": "1ce6affc",
   "metadata": {
    "papermill": {
     "duration": 0.541978,
     "end_time": "2021-10-04T07:47:24.705540",
     "exception": false,
     "start_time": "2021-10-04T07:47:24.163562",
     "status": "completed"
    },
    "tags": []
   },
   "source": [
    "Lets predict the price for the first house of our dataset using our model, which is 221900.0. Lets see how our model predict the price."
   ]
  },
  {
   "cell_type": "code",
   "execution_count": 53,
   "id": "485a3962",
   "metadata": {
    "execution": {
     "iopub.execute_input": "2021-10-04T07:47:25.786112Z",
     "iopub.status.busy": "2021-10-04T07:47:25.785217Z",
     "iopub.status.idle": "2021-10-04T07:47:25.787833Z",
     "shell.execute_reply": "2021-10-04T07:47:25.787303Z",
     "shell.execute_reply.started": "2021-10-04T07:31:16.637678Z"
    },
    "papermill": {
     "duration": 0.54404,
     "end_time": "2021-10-04T07:47:25.787960",
     "exception": false,
     "start_time": "2021-10-04T07:47:25.243920",
     "status": "completed"
    },
    "tags": []
   },
   "outputs": [],
   "source": [
    "single_house = df.drop('price',axis=1).iloc[0]"
   ]
  },
  {
   "cell_type": "code",
   "execution_count": 54,
   "id": "a99dbe8b",
   "metadata": {
    "execution": {
     "iopub.execute_input": "2021-10-04T07:47:26.934430Z",
     "iopub.status.busy": "2021-10-04T07:47:26.933802Z",
     "iopub.status.idle": "2021-10-04T07:47:26.936711Z",
     "shell.execute_reply": "2021-10-04T07:47:26.936241Z",
     "shell.execute_reply.started": "2021-10-04T07:31:27.656608Z"
    },
    "papermill": {
     "duration": 0.541316,
     "end_time": "2021-10-04T07:47:26.936842",
     "exception": false,
     "start_time": "2021-10-04T07:47:26.395526",
     "status": "completed"
    },
    "tags": []
   },
   "outputs": [],
   "source": [
    "single_house = scaler.transform(single_house.values.reshape(-1, 19))"
   ]
  },
  {
   "cell_type": "code",
   "execution_count": 55,
   "id": "2488a35f",
   "metadata": {
    "execution": {
     "iopub.execute_input": "2021-10-04T07:47:28.009870Z",
     "iopub.status.busy": "2021-10-04T07:47:28.009002Z",
     "iopub.status.idle": "2021-10-04T07:47:28.013851Z",
     "shell.execute_reply": "2021-10-04T07:47:28.014299Z",
     "shell.execute_reply.started": "2021-10-04T07:31:46.002157Z"
    },
    "papermill": {
     "duration": 0.543411,
     "end_time": "2021-10-04T07:47:28.014465",
     "exception": false,
     "start_time": "2021-10-04T07:47:27.471054",
     "status": "completed"
    },
    "tags": []
   },
   "outputs": [
    {
     "data": {
      "text/plain": [
       "array([[0.27272727, 0.125     , 0.06716981, 0.00310751, 0.        ,\n",
       "        0.        , 0.        , 0.5       , 0.5       , 0.09758772,\n",
       "        0.        , 0.47826087, 0.        , 0.57149751, 0.21760797,\n",
       "        0.16193426, 0.00573322, 0.        , 0.81818182]])"
      ]
     },
     "execution_count": 55,
     "metadata": {},
     "output_type": "execute_result"
    }
   ],
   "source": [
    "single_house"
   ]
  },
  {
   "cell_type": "code",
   "execution_count": 56,
   "id": "6e6e7469",
   "metadata": {
    "execution": {
     "iopub.execute_input": "2021-10-04T07:47:29.092629Z",
     "iopub.status.busy": "2021-10-04T07:47:29.091685Z",
     "iopub.status.idle": "2021-10-04T07:47:29.136725Z",
     "shell.execute_reply": "2021-10-04T07:47:29.136251Z",
     "shell.execute_reply.started": "2021-10-04T07:31:57.674575Z"
    },
    "papermill": {
     "duration": 0.587054,
     "end_time": "2021-10-04T07:47:29.136875",
     "exception": false,
     "start_time": "2021-10-04T07:47:28.549821",
     "status": "completed"
    },
    "tags": []
   },
   "outputs": [
    {
     "data": {
      "text/plain": [
       "array([[307709.6]], dtype=float32)"
      ]
     },
     "execution_count": 56,
     "metadata": {},
     "output_type": "execute_result"
    }
   ],
   "source": [
    "model.predict(single_house)"
   ]
  },
  {
   "cell_type": "markdown",
   "id": "823d48b9",
   "metadata": {
    "papermill": {
     "duration": 0.533262,
     "end_time": "2021-10-04T07:47:30.207552",
     "exception": false,
     "start_time": "2021-10-04T07:47:29.674290",
     "status": "completed"
    },
    "tags": []
   },
   "source": [
    "our model predict the price 271008.16. So our model predict well but not significantly good enough."
   ]
  },
  {
   "cell_type": "code",
   "execution_count": null,
   "id": "d53e8fc9",
   "metadata": {
    "papermill": {
     "duration": 0.541635,
     "end_time": "2021-10-04T07:47:31.284678",
     "exception": false,
     "start_time": "2021-10-04T07:47:30.743043",
     "status": "completed"
    },
    "tags": []
   },
   "outputs": [],
   "source": []
  }
 ],
 "metadata": {
  "kernelspec": {
   "display_name": "Python 3",
   "language": "python",
   "name": "python3"
  },
  "language_info": {
   "codemirror_mode": {
    "name": "ipython",
    "version": 3
   },
   "file_extension": ".py",
   "mimetype": "text/x-python",
   "name": "python",
   "nbconvert_exporter": "python",
   "pygments_lexer": "ipython3",
   "version": "3.7.10"
  },
  "papermill": {
   "default_parameters": {},
   "duration": 162.029316,
   "end_time": "2021-10-04T07:47:35.282336",
   "environment_variables": {},
   "exception": null,
   "input_path": "__notebook__.ipynb",
   "output_path": "__notebook__.ipynb",
   "parameters": {},
   "start_time": "2021-10-04T07:44:53.253020",
   "version": "2.3.3"
  }
 },
 "nbformat": 4,
 "nbformat_minor": 5
}
